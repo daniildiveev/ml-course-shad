{
 "cells": [
  {
   "cell_type": "markdown",
   "id": "38e75b83",
   "metadata": {},
   "source": [
    "# Задание 1"
   ]
  },
  {
   "cell_type": "markdown",
   "id": "d1705b2c",
   "metadata": {},
   "source": [
    "В данном задание надо будет реализовать функцию потерь и алгоритм субградиентного спуска для прямой задачи SVM\n",
    "\n",
    "Подсказка 1. Функция потерь для алгоритма SVC имеет следующий вид:\n",
    "$$\\mathcal{L} = \\sum_{i=1}^l \\underbrace{{\\left(1 - M_i\\right)}_{+}}_\\text{hinge loss} + \\underbrace{\\frac{\\lambda}{2}||w||^2}_\\text{regularizer} \\rightarrow \\min_{w,w_0}$$\n",
    "\n",
    "Подсказка 2. Градиентный спуск. Чтобы найти минимум $\\mathcal{L} (w)$, мы задаём некоторое начальное приближение $w_0$ для наших параметров и итеративно обновляем веса по форрмуле ниже до тех, пока они не перестанут меняться больше, чем на некоторую маленькую константу $\\varepsilon$ :\n",
    "$$ w_i := w_{i-1} - \\alpha \\cdot \\nabla_w \\mathcal{L}(w_{i-1}). $$\n",
    "\n",
    "Подсказка 3. У производной hinge-функции имеется разрыв в точке $M_i = 1$. На практике, мы можем взять значение градиента как справа $(M_i > 1)$, так и слева $(M_i < 1)$. Это называется субградиентом функции данной точке. Возьмите значения субградиента справа.\n",
    "\n",
    "Подсказка 4.  В лекции мы выделяли свободный член $w_0$ в качестве отдельного слагаемого. На практике все же удобнее ввести для него константный признак, как делалось в предыдущих лекициях. При этом не забывайте, что регуляризация не применяется к свободному коэффициенту "
   ]
  },
  {
   "cell_type": "code",
   "execution_count": 1,
   "id": "149183f7",
   "metadata": {
    "execution": {
     "iopub.execute_input": "2022-08-30T20:21:40.657142Z",
     "iopub.status.busy": "2022-08-30T20:21:40.656784Z",
     "iopub.status.idle": "2022-08-30T20:21:42.316377Z",
     "shell.execute_reply": "2022-08-30T20:21:42.314995Z",
     "shell.execute_reply.started": "2022-08-30T20:21:40.657065Z"
    }
   },
   "outputs": [],
   "source": [
    "import numpy as np\n",
    "import pandas as pd\n",
    "from sklearn import datasets\n",
    "\n",
    "%matplotlib inline\n",
    "import matplotlib.pyplot as plt\n",
    "plt.rcParams['figure.figsize'] = [12, 4]\n",
    "import warnings\n",
    "warnings.filterwarnings(\"ignore\")"
   ]
  },
  {
   "cell_type": "code",
   "execution_count": 366,
   "id": "6a3ce0bd",
   "metadata": {
    "execution": {
     "iopub.execute_input": "2022-09-04T16:40:16.348444Z",
     "iopub.status.busy": "2022-09-04T16:40:16.348133Z",
     "iopub.status.idle": "2022-09-04T16:40:16.358880Z",
     "shell.execute_reply": "2022-09-04T16:40:16.356695Z",
     "shell.execute_reply.started": "2022-09-04T16:40:16.348417Z"
    },
    "tags": []
   },
   "outputs": [],
   "source": [
    "def svm_objective(w, X, y, C=.1):\n",
    "    \"\"\"The cost function, J, describing the goodness of fit.\n",
    "    \n",
    "    Parameters:\n",
    "    w (np.array): d -dimensional vector of parameters\n",
    "    X (np.array): (l,d)-dimensional features matrix\n",
    "    y (np.array): l-dimensional vector of targets\n",
    "    \"\"\" \n",
    "    margins = 1 - y * np.dot(X, w)\n",
    "    margins[margins < 0] = 0\n",
    "    \n",
    "    hinge_loss = C * np.mean(margins)\n",
    "    cost = .5 * np.linalg.norm(w[:-1]) ** 2 + hinge_loss\n",
    "    \n",
    "    return cost\n",
    "\n",
    "def gradient_desscent(X,y,threshold = 5e-4,alpha = 1e-3):\n",
    "    \"\"\"The gradient descent algorithm.\n",
    "    \n",
    "    Parameters:\n",
    "    threshold: float, tolerance for stopping criterion.\n",
    "    alpha: float, step_size of gradient descend\n",
    "    \n",
    "    Returns:\n",
    "    w (np.array): optimal weights\n",
    "    \"\"\"\n",
    "    \n",
    "    w = np.random.normal(loc=0, scale=0.06, size=X.shape[1])\n",
    "    \n",
    "    prev_loss = float('inf')\n",
    "    epochs = 10000\n",
    "    batch_size = 32\n",
    "    \n",
    "    for epoch in range(epochs):\n",
    "        for i in range(X.shape[0]):\n",
    "            m = y[i] * np.dot(X[i], w)\n",
    "            \n",
    "            if m >=1 :\n",
    "                w = w - alpha * w / epochs\n",
    "            else:\n",
    "                w = w + alpha * (X[i] * y[i] - w / epochs)\n",
    "            \n",
    "        if (epoch + 1) % 500 == 0:\n",
    "            loss = svm_objective(w, X, y)\n",
    "\n",
    "            print(f\"Loss: {loss}, Epoch: {epoch + 1}\")\n",
    "\n",
    "            if abs(prev_loss - loss) < threshold:\n",
    "                return w\n",
    "\n",
    "            prev_loss = loss\n",
    "    return w\n",
    "\n",
    "def predict(X,w):\n",
    "    \"\"\"Predictions of x from linear svc with given weights w.\n",
    "    \n",
    "    Parameters:\n",
    "    w (np.array): d-dimensional vector of optimal parameters\n",
    "    X (np.array): (l,d)-dimensional features matrix\n",
    "    \n",
    "    Returns:\n",
    "    y_pred (np.array): svm predictions for weights w\n",
    "    \"\"\"\n",
    "    \n",
    "    preds = np.sign(np.dot(X, w))\n",
    "    return preds"
   ]
  },
  {
   "cell_type": "code",
   "execution_count": null,
   "id": "bb9832be",
   "metadata": {},
   "outputs": [],
   "source": []
  },
  {
   "cell_type": "code",
   "execution_count": 367,
   "id": "c1cde70e",
   "metadata": {
    "execution": {
     "iopub.execute_input": "2022-09-04T16:40:16.562800Z",
     "iopub.status.busy": "2022-09-04T16:40:16.562453Z",
     "iopub.status.idle": "2022-09-04T16:40:16.578076Z",
     "shell.execute_reply": "2022-09-04T16:40:16.577246Z",
     "shell.execute_reply.started": "2022-09-04T16:40:16.562771Z"
    },
    "tags": []
   },
   "outputs": [],
   "source": [
    "# Обучающая выборка\n",
    "iris = datasets.load_iris(as_frame=True)\n",
    "iris_X, iris_y = iris.data, iris.target\n",
    "\n",
    "\n",
    "iris_X = iris_X.loc[::4]\n",
    "iris_y = iris_y.loc[::4]\n",
    "iris_X['one'] = 1\n",
    "\n",
    "# create a binary classification dataset with labels +/- 1\n",
    "iris_y2 = iris_y.copy()\n",
    "iris_y2[iris_y2==2] = 1\n",
    "iris_y2[iris_y2==0] = -1\n",
    "\n",
    "\n",
    "# remain 2 first features + constant feature\n",
    "X_train = iris_X.iloc[:,[0,1,-1]].to_numpy()\n",
    "y_train = iris_y2.to_numpy()"
   ]
  },
  {
   "cell_type": "code",
   "execution_count": 368,
   "id": "b6a65d3f-4e7a-4016-9f35-fdfc1aeea501",
   "metadata": {
    "execution": {
     "iopub.execute_input": "2022-09-04T16:40:16.734723Z",
     "iopub.status.busy": "2022-09-04T16:40:16.734398Z",
     "iopub.status.idle": "2022-09-04T16:40:16.740074Z",
     "shell.execute_reply": "2022-09-04T16:40:16.739189Z",
     "shell.execute_reply.started": "2022-09-04T16:40:16.734694Z"
    },
    "tags": []
   },
   "outputs": [
    {
     "data": {
      "text/plain": [
       "3"
      ]
     },
     "execution_count": 368,
     "metadata": {},
     "output_type": "execute_result"
    }
   ],
   "source": [
    "X_train.shape[1]"
   ]
  },
  {
   "cell_type": "code",
   "execution_count": 369,
   "id": "8823bb9d",
   "metadata": {
    "execution": {
     "iopub.execute_input": "2022-09-04T16:40:16.882854Z",
     "iopub.status.busy": "2022-09-04T16:40:16.882466Z",
     "iopub.status.idle": "2022-09-04T16:40:19.976594Z",
     "shell.execute_reply": "2022-09-04T16:40:19.975864Z",
     "shell.execute_reply.started": "2022-09-04T16:40:16.882824Z"
    },
    "scrolled": true,
    "tags": []
   },
   "outputs": [
    {
     "name": "stdout",
     "output_type": "stream",
     "text": [
      "Loss: 4.213154081348995, Epoch: 500\n",
      "Loss: 7.051077619644335, Epoch: 1000\n",
      "Loss: 9.093064778052693, Epoch: 1500\n",
      "Loss: 10.571438611482353, Epoch: 2000\n",
      "Loss: 11.567552454071054, Epoch: 2500\n",
      "Loss: 12.3027270152938, Epoch: 3000\n",
      "Loss: 13.059108448042403, Epoch: 3500\n",
      "Loss: 13.836655174524651, Epoch: 4000\n",
      "Loss: 14.63518478012081, Epoch: 4500\n",
      "Loss: 15.45457223100656, Epoch: 5000\n",
      "Loss: 16.29469305339631, Epoch: 5500\n",
      "Loss: 17.155423333064824, Epoch: 6000\n",
      "Loss: 17.98794777286936, Epoch: 6500\n",
      "Loss: 18.803291528126422, Epoch: 7000\n",
      "Loss: 19.517399642620116, Epoch: 7500\n",
      "Loss: 19.51076527784978, Epoch: 8000\n",
      "Loss: 19.525981340203966, Epoch: 8500\n",
      "Loss: 19.519355166778418, Epoch: 9000\n",
      "Loss: 19.534590571229796, Epoch: 9500\n",
      "Loss: 19.527974971167414, Epoch: 10000\n"
     ]
    }
   ],
   "source": [
    "# Получим оптимальные веса с помощью реализованного алгоритма градиентного спуска\n",
    "w_opt=gradient_desscent(X_train, y_train)"
   ]
  },
  {
   "cell_type": "code",
   "execution_count": 370,
   "id": "f3836af4",
   "metadata": {
    "execution": {
     "iopub.execute_input": "2022-09-04T16:40:22.270213Z",
     "iopub.status.busy": "2022-09-04T16:40:22.269887Z",
     "iopub.status.idle": "2022-09-04T16:40:22.499374Z",
     "shell.execute_reply": "2022-09-04T16:40:22.498614Z",
     "shell.execute_reply.started": "2022-09-04T16:40:22.270185Z"
    },
    "tags": []
   },
   "outputs": [
    {
     "name": "stdout",
     "output_type": "stream",
     "text": [
      "[ 1.  1.  1. ... -1. -1. -1.]\n"
     ]
    },
    {
     "data": {
      "image/png": "[encoded data removed]",
      "text/plain": [
       "<Figure size 864x288 with 1 Axes>"
      ]
     },
     "metadata": {
      "needs_background": "light"
     },
     "output_type": "display_data"
    }
   ],
   "source": [
    "# Убедимся визуально, что разделяющая гиперплоскость лежит на одинаковом расстоянии от обоих классов\n",
    "X = iris_X.to_numpy()[:,:2]\n",
    "x_min, x_max = X[:, 0].min() - .5, X[:, 0].max() + .5\n",
    "y_min, y_max = X[:, 1].min() - .5, X[:, 1].max() + .5\n",
    "xx, yy = np.meshgrid(np.arange(x_min, x_max, .02), np.arange(y_min, y_max, .02))\n",
    "Z = predict(np.c_[xx.ravel(), yy.ravel(), np.ones(xx.ravel().shape)],w_opt)\n",
    "\n",
    "print(Z)\n",
    "\n",
    "# Put the result into a color plot\n",
    "Z = Z.reshape(xx.shape)\n",
    "plt.pcolormesh(xx, yy, Z, cmap=plt.cm.Paired)\n",
    "\n",
    "# Plot also the training points\n",
    "plt.scatter(X_train[:, 0], X_train[:, 1], c=y_train, edgecolors='k', cmap=plt.cm.Paired)\n",
    "plt.xlabel('Sepal length')\n",
    "plt.ylabel('Sepal width')\n",
    "\n",
    "plt.show()"
   ]
  },
  {
   "cell_type": "code",
   "execution_count": 372,
   "id": "0a035ff5",
   "metadata": {
    "execution": {
     "iopub.execute_input": "2022-09-04T16:40:32.319213Z",
     "iopub.status.busy": "2022-09-04T16:40:32.318863Z",
     "iopub.status.idle": "2022-09-04T16:40:32.328178Z",
     "shell.execute_reply": "2022-09-04T16:40:32.327186Z",
     "shell.execute_reply.started": "2022-09-04T16:40:32.319179Z"
    },
    "tags": []
   },
   "outputs": [
    {
     "data": {
      "text/plain": [
       "True"
      ]
     },
     "execution_count": 372,
     "metadata": {},
     "output_type": "execute_result"
    }
   ],
   "source": [
    "# Проверим, что ближайшие точки лежат на одинаковом расстоянии от разделяющей прямой\n",
    "\n",
    "np.round(X_train.dot(w_opt)[X_train.dot(w_opt)>0].min(),2) == np.round(X_train.dot(w_opt)[X_train.dot(w_opt)<=0].max()*(-1),2)"
   ]
  },
  {
   "cell_type": "markdown",
   "id": "240a0e8b",
   "metadata": {},
   "source": [
    "# Задание 2"
   ]
  },
  {
   "cell_type": "markdown",
   "id": "bc7e69ab",
   "metadata": {},
   "source": [
    "В этом задании вам предстоит попридумывать ядра, с помощью которых можно решить задачу бинарной классификации"
   ]
  },
  {
   "cell_type": "code",
   "execution_count": null,
   "id": "12624212",
   "metadata": {
    "execution": {
     "iopub.execute_input": "2022-09-04T15:15:54.986672Z",
     "iopub.status.busy": "2022-09-04T15:15:54.986387Z",
     "iopub.status.idle": "2022-09-04T15:15:54.992114Z",
     "shell.execute_reply": "2022-09-04T15:15:54.991006Z",
     "shell.execute_reply.started": "2022-09-04T15:15:54.986649Z"
    }
   },
   "outputs": [],
   "source": [
    "def plot_dataset(x1,y,x2=None):\n",
    "    \"\"\"Visualization of tasks datasets\n",
    "    \n",
    "    Parameters:\n",
    "    x1 (np.array):  vector of features\n",
    "    y (np.array): 1-dimensional vector of targets\n",
    "    x2 (np.array): second component of vector of features if data is two-dimentional\n",
    "    \"\"\"\n",
    "    \n",
    "    if x2 is None:\n",
    "        x2 = np.zeros(len(x1))\n",
    "    \n",
    "    fig,ax = plt.subplots(1,1,figsize=(8,8))\n",
    "    plt.scatter(x1[y==1], x2[y==1], marker='+',c='red',s=400)\n",
    "    plt.scatter(x1[y==-1], x2[y==-1], marker='_',c='blue',s=400)\n",
    "    ax.get_yaxis().set_visible(False)"
   ]
  },
  {
   "cell_type": "code",
   "execution_count": null,
   "id": "da7a7cc2",
   "metadata": {},
   "outputs": [],
   "source": []
  },
  {
   "cell_type": "markdown",
   "id": "ecbbe8dd",
   "metadata": {},
   "source": [
    "## Задание 2.1 Можно ли придумать такое одномерное преобразование (ядро), что выборка будет линейно-разделима? \n",
    "\n",
    "Если да, то реализуйте метод Kernel, который обеспечивает линейную-разделимость. \n",
    "\n",
    "Если нет, то напишите в ячейке, почему это невозможно"
   ]
  },
  {
   "cell_type": "code",
   "execution_count": null,
   "id": "bdf6155e",
   "metadata": {
    "execution": {
     "iopub.execute_input": "2022-09-04T15:16:00.695250Z",
     "iopub.status.busy": "2022-09-04T15:16:00.694471Z",
     "iopub.status.idle": "2022-09-04T15:16:00.702480Z",
     "shell.execute_reply": "2022-09-04T15:16:00.700790Z",
     "shell.execute_reply.started": "2022-09-04T15:16:00.695193Z"
    }
   },
   "outputs": [],
   "source": [
    "dataset1 = pd.DataFrame({'x' : range(0,7),'y' : [1,1,-1,-1,-1,1,1]})"
   ]
  },
  {
   "cell_type": "code",
   "execution_count": null,
   "id": "bde5a482",
   "metadata": {
    "execution": {
     "iopub.execute_input": "2022-09-04T15:16:01.085004Z",
     "iopub.status.busy": "2022-09-04T15:16:01.084694Z",
     "iopub.status.idle": "2022-09-04T15:16:01.182793Z",
     "shell.execute_reply": "2022-09-04T15:16:01.181726Z",
     "shell.execute_reply.started": "2022-09-04T15:16:01.084978Z"
    }
   },
   "outputs": [
    {
     "data": {
      "image/png": "[encoded data removed]",
      "text/plain": [
       "<Figure size 576x576 with 1 Axes>"
      ]
     },
     "metadata": {
      "needs_background": "light"
     },
     "output_type": "display_data"
    }
   ],
   "source": [
    "plot_dataset(dataset1.x,dataset1.y)"
   ]
  },
  {
   "cell_type": "code",
   "execution_count": null,
   "id": "2ae04cb0",
   "metadata": {},
   "outputs": [],
   "source": []
  },
  {
   "cell_type": "code",
   "execution_count": null,
   "id": "d1bac2d1",
   "metadata": {
    "execution": {
     "iopub.execute_input": "2022-09-04T15:19:37.687141Z",
     "iopub.status.busy": "2022-09-04T15:19:37.686705Z",
     "iopub.status.idle": "2022-09-04T15:19:37.691972Z",
     "shell.execute_reply": "2022-09-04T15:19:37.690905Z",
     "shell.execute_reply.started": "2022-09-04T15:19:37.687097Z"
    }
   },
   "outputs": [],
   "source": [
    "def kernel(X1, X2):\n",
    "    # ===================== YOUR CODE HERE ======================\n",
    "\n",
    "    \n",
    "    \n",
    "    # =============================================================\n",
    "    return "
   ]
  },
  {
   "cell_type": "code",
   "execution_count": null,
   "id": "91095c2c",
   "metadata": {
    "execution": {
     "iopub.execute_input": "2022-09-04T15:19:38.306632Z",
     "iopub.status.busy": "2022-09-04T15:19:38.306332Z",
     "iopub.status.idle": "2022-09-04T15:19:38.388448Z",
     "shell.execute_reply": "2022-09-04T15:19:38.387554Z",
     "shell.execute_reply.started": "2022-09-04T15:19:38.306608Z"
    }
   },
   "outputs": [],
   "source": [
    "from sklearn import svm\n",
    "clf = svm.SVC(kernel=kernel)"
   ]
  },
  {
   "cell_type": "code",
   "execution_count": null,
   "id": "251152db",
   "metadata": {},
   "outputs": [],
   "source": []
  },
  {
   "cell_type": "markdown",
   "id": "15c0e333",
   "metadata": {},
   "source": [
    "## Задание 2.2 Можно ли придумать такое одномерное преобразование (ядро), что выборка будет линейно-разделима? \n",
    "\n",
    "Если да, то реализуйте метод Kernel, который обеспечивает линейную-разделимость. \n",
    "\n",
    "Если нет, то напишите в ячейке, почему это невозможно"
   ]
  },
  {
   "cell_type": "code",
   "execution_count": null,
   "id": "bb1f06ee",
   "metadata": {
    "execution": {
     "iopub.execute_input": "2022-09-04T15:16:11.010292Z",
     "iopub.status.busy": "2022-09-04T15:16:11.009842Z",
     "iopub.status.idle": "2022-09-04T15:16:11.017735Z",
     "shell.execute_reply": "2022-09-04T15:16:11.016567Z",
     "shell.execute_reply.started": "2022-09-04T15:16:11.010252Z"
    }
   },
   "outputs": [],
   "source": [
    "dataset2 = pd.DataFrame({'x' : range(0,8),'y' : [1,-1,1,-1,1,-1,1,-1]})"
   ]
  },
  {
   "cell_type": "code",
   "execution_count": null,
   "id": "e5d55221",
   "metadata": {
    "execution": {
     "iopub.execute_input": "2022-09-04T15:16:11.190148Z",
     "iopub.status.busy": "2022-09-04T15:16:11.189827Z",
     "iopub.status.idle": "2022-09-04T15:16:11.293666Z",
     "shell.execute_reply": "2022-09-04T15:16:11.292606Z",
     "shell.execute_reply.started": "2022-09-04T15:16:11.190121Z"
    }
   },
   "outputs": [
    {
     "data": {
      "image/png": "[encoded data removed]",
      "text/plain": [
       "<Figure size 576x576 with 1 Axes>"
      ]
     },
     "metadata": {
      "needs_background": "light"
     },
     "output_type": "display_data"
    }
   ],
   "source": [
    "plot_dataset(dataset2.x,dataset2.y)"
   ]
  },
  {
   "cell_type": "code",
   "execution_count": null,
   "id": "fd53718f",
   "metadata": {},
   "outputs": [],
   "source": [
    "def kernel(X1, X2):\n",
    "    # ===================== YOUR CODE HERE ======================\n",
    "\n",
    "    \n",
    "    \n",
    "    # =============================================================\n",
    "    return "
   ]
  },
  {
   "cell_type": "code",
   "execution_count": null,
   "id": "8d6d435d",
   "metadata": {},
   "outputs": [],
   "source": [
    "from sklearn import svm\n",
    "clf = svm.SVC(kernel=kernel)"
   ]
  },
  {
   "cell_type": "code",
   "execution_count": null,
   "id": "1b675191",
   "metadata": {},
   "outputs": [],
   "source": []
  },
  {
   "cell_type": "code",
   "execution_count": null,
   "id": "38d80ef0",
   "metadata": {},
   "outputs": [],
   "source": []
  },
  {
   "cell_type": "markdown",
   "id": "e607ab84",
   "metadata": {},
   "source": [
    "## Задание 2.3 Можно ли придумать такое преобразование (ядро), что выборка будет линейно-разделима?\n",
    "Если да, то реализуйте метод Kernel, который обеспечивает линейную-разделимость.\n",
    "\n",
    "Если нет, то напишите в ячейке, почему это невозможно"
   ]
  },
  {
   "cell_type": "code",
   "execution_count": null,
   "id": "8b86ba07",
   "metadata": {
    "execution": {
     "iopub.execute_input": "2022-09-04T15:22:54.059704Z",
     "iopub.status.busy": "2022-09-04T15:22:54.059311Z",
     "iopub.status.idle": "2022-09-04T15:22:54.067138Z",
     "shell.execute_reply": "2022-09-04T15:22:54.065935Z",
     "shell.execute_reply.started": "2022-09-04T15:22:54.059673Z"
    }
   },
   "outputs": [],
   "source": [
    "dataset3 = pd.DataFrame({'x1': [0.0,0.95,0.59,-0.59,-0.95,0.0,1,1.73,2.0,1.73,1,0,-1,-1.73,-2.0,-1.73,-1.0],\n",
    "                         'x2': [1.0,0.31,-0.81,-0.81, 0.31, 2.0,1.73,1.0,0,-1,-1.73,-2.0,-1.73,-1.0,0,1.0,1.73],\n",
    "                          'y' : [1,1,1,1,1,-1,-1,-1,-1,-1,-1,-1,-1,-1,-1,-1,-1]})"
   ]
  },
  {
   "cell_type": "code",
   "execution_count": null,
   "id": "ddd19a6f",
   "metadata": {
    "execution": {
     "iopub.execute_input": "2022-09-04T15:22:54.677632Z",
     "iopub.status.busy": "2022-09-04T15:22:54.677325Z",
     "iopub.status.idle": "2022-09-04T15:22:54.818837Z",
     "shell.execute_reply": "2022-09-04T15:22:54.817819Z",
     "shell.execute_reply.started": "2022-09-04T15:22:54.677606Z"
    }
   },
   "outputs": [
    {
     "data": {
      "image/png": "[encoded data removed]",
      "text/plain": [
       "<Figure size 576x576 with 1 Axes>"
      ]
     },
     "metadata": {
      "needs_background": "light"
     },
     "output_type": "display_data"
    }
   ],
   "source": [
    "plot_dataset(dataset3.x1,dataset3.y,dataset3.x2)"
   ]
  },
  {
   "cell_type": "code",
   "execution_count": null,
   "id": "cdec3a12",
   "metadata": {},
   "outputs": [],
   "source": [
    "def kernel(X1, X2):\n",
    "    # ===================== YOUR CODE HERE ======================\n",
    "\n",
    "    \n",
    "    \n",
    "    # =============================================================\n",
    "    return "
   ]
  },
  {
   "cell_type": "code",
   "execution_count": null,
   "id": "3e3b76d0",
   "metadata": {},
   "outputs": [],
   "source": [
    "from sklearn import svm\n",
    "clf = svm.SVC(kernel=kernel)"
   ]
  },
  {
   "cell_type": "code",
   "execution_count": null,
   "id": "fb283e11",
   "metadata": {},
   "outputs": [],
   "source": []
  },
  {
   "cell_type": "code",
   "execution_count": null,
   "id": "ea637d07",
   "metadata": {},
   "outputs": [],
   "source": []
  },
  {
   "cell_type": "markdown",
   "id": "82a4403e",
   "metadata": {},
   "source": [
    "## Задание 2.4 Можно ли придумать такое преобразование (ядро), что выборка будет линейно-разделима?\n",
    "Если да, то реализуйте метод Kernel, который обеспечивает линейную-разделимость.\n",
    "\n",
    "Если нет, то напишите в ячейке, почему это невозможно"
   ]
  },
  {
   "cell_type": "code",
   "execution_count": null,
   "id": "88ce49bd",
   "metadata": {
    "execution": {
     "iopub.execute_input": "2022-09-04T15:19:50.555782Z",
     "iopub.status.busy": "2022-09-04T15:19:50.555478Z",
     "iopub.status.idle": "2022-09-04T15:19:50.615959Z",
     "shell.execute_reply": "2022-09-04T15:19:50.601825Z",
     "shell.execute_reply.started": "2022-09-04T15:19:50.555754Z"
    }
   },
   "outputs": [],
   "source": [
    "dataset4 = pd.DataFrame({'x1': [0.0,0.95,0.59,-0.59,-0.95,0.0,1,1.73,2.0,1.73,1,0,-1,-1.73,-2.0,-1.73,-1.0,0.,0.93,1.76,\n",
    "                                2.43,2.85,3.,2.85,2.43,1.76,0.93,0.,-0.93,-1.76,-2.43,-2.85,-3.,-2.85,-2.43,-1.76,-0.93],\n",
    "                         'x2': [1.0,0.31,-0.81,-0.81, 0.31, 2.0,1.73,1.0,0,-1,-1.73,-2.0,-1.73,-1.0,0,1.0,1.73,3.,2.85,2.43,\n",
    "                                1.76,0.93,0.,-0.93,-1.76,-2.43,-2.85,-3.,-2.85,-2.43,-1.76,-0.93,-0.,0.93,1.76,2.43,2.85],\n",
    "                          'y' : [1,1,1,1,1,-1,-1,-1,-1,-1,-1,-1,-1,-1,-1,-1,-1,1,1,1,1,1,1,1,1,1,1,1,1,1,1,1,1,1,1,1,1]})"
   ]
  },
  {
   "cell_type": "code",
   "execution_count": null,
   "id": "1bfe46a1",
   "metadata": {
    "execution": {
     "iopub.execute_input": "2022-09-04T15:19:50.669713Z",
     "iopub.status.busy": "2022-09-04T15:19:50.669391Z",
     "iopub.status.idle": "2022-09-04T15:19:50.790206Z",
     "shell.execute_reply": "2022-09-04T15:19:50.789459Z",
     "shell.execute_reply.started": "2022-09-04T15:19:50.669686Z"
    }
   },
   "outputs": [
    {
     "data": {
      "image/png": "[encoded data removed]",
      "text/plain": [
       "<Figure size 576x576 with 1 Axes>"
      ]
     },
     "metadata": {
      "needs_background": "light"
     },
     "output_type": "display_data"
    }
   ],
   "source": [
    "plot_dataset(dataset4.x1,dataset4.y,dataset4.x2)"
   ]
  },
  {
   "cell_type": "code",
   "execution_count": null,
   "id": "aa18b611",
   "metadata": {},
   "outputs": [],
   "source": [
    "def kernel(X1, X2):\n",
    "    # ===================== YOUR CODE HERE ======================\n",
    "\n",
    "    \n",
    "    \n",
    "    # =============================================================\n",
    "    return "
   ]
  },
  {
   "cell_type": "code",
   "execution_count": null,
   "id": "86aa9803",
   "metadata": {},
   "outputs": [],
   "source": [
    "from sklearn import svm\n",
    "clf = svm.SVC(kernel=kernel)"
   ]
  },
  {
   "cell_type": "code",
   "execution_count": null,
   "id": "fff0fa19",
   "metadata": {},
   "outputs": [],
   "source": []
  },
  {
   "cell_type": "code",
   "execution_count": null,
   "id": "2c3cc74f",
   "metadata": {},
   "outputs": [],
   "source": []
  },
  {
   "cell_type": "markdown",
   "id": "289c920d",
   "metadata": {},
   "source": [
    "# Задание 3"
   ]
  },
  {
   "cell_type": "markdown",
   "id": "cd73bdbb",
   "metadata": {},
   "source": [
    "Довольно часто нам помимо самих ответов, важно уметь оценить вероятности этих ответов. Например,\n",
    "в задаче кредитного скоринга вероятность нужна для оценки метрики VaR (Value at Risk), в задачах продвижения - для оценки доходности. Поэтому очень важно уметь оценивать качество выдаваемых алгоритмами вероятностей, и если качество плохое - то исправлять это, \"калибровать\" алгоритм.\n",
    "\n",
    "Калиброванный классификатор - это классификатор, для которого справедливо: Если $ \\hat{p}$ - предсказанная вероятность класса 1, то $P(y_i=1|a(x_i)=\\hat{p}) = \\hat{p}$. Другими словами,  мы предсказываем корректную вероятность класса 1, если прогноз «объект $x_i$ принадлежит классу 1 с вероятностью $\\frac{2}{3}$» должен сбываться в $\\frac{2}{3}$ случаев. \n",
    "\n",
    "Как визуально оценить калиброванность классификатора? Для этого разобьем отрезок $[0, 1]$ на несколько маленьких отрезков одинаковой длины. Рассмотрим $i$-й отрезок с границами $[a_i, b_i]$ и предсказания $p_1, p_2, \\dots, p_k$, которые попали в него. Пусть им соответствуют истинные ответы $y_1, y_2, \\dots, y_k$. Если алгоритм выдает корректные вероятности, то среди этих истинных ответов должно быть примерно $(a_i + b_i) / 2$ единиц. Иными словами, если нарисовать кривую, у которой по оси X отложены центры отрезков, а по оси Y — доли единичных ответов этих в отрезках, то она должна оказаться диагональной."
   ]
  },
  {
   "cell_type": "code",
   "execution_count": null,
   "id": "02c60354",
   "metadata": {},
   "outputs": [],
   "source": [
    "def plot_calibration_curve(y_test, preds, n_bins = 10):\n",
    "    \"\"\"calibration curve plotting.\n",
    "    \n",
    "    Parameters:\n",
    "    y_test (np.array): target\n",
    "    preds (np.array): probabilities of classifier\n",
    "    n_bins int: number of bins in historgramm\n",
    "    \n",
    "    Returns:\n",
    "    bin_middle_points (np.array): ideal calibrated probalities\n",
    "    bin_real_ratios (np.array): actual calibrated probalities\n",
    "    \"\"\"\n",
    "    bin_middle_points = []\n",
    "    bin_real_ratios = []\n",
    "    \n",
    "    for i in range(n_bins):\n",
    "        l = 1.0 / n_bins * i\n",
    "        r = 1.0 / n_bins * (i + 1)\n",
    "        bin_middle_points.append(l+(r-l) / 2.) \n",
    "        bin_real_ratios.append(np.mean(y_test[(preds >= l) & (preds < r)] )) \n",
    "        #print(l,r)\n",
    "    plt.figure(figsize=(6,6))\n",
    "    plt.plot(bin_middle_points, bin_real_ratios, label = 'actual calibration')\n",
    "    plt.plot(bin_middle_points, bin_middle_points, linestyle='--',label = 'perfect calibration')\n",
    "    plt.ylim([-0.05, 1.05])\n",
    "    plt.grid()\n",
    "    plt.legend()\n",
    "    return bin_middle_points, bin_real_ratios"
   ]
  },
  {
   "cell_type": "code",
   "execution_count": null,
   "id": "08dc129d",
   "metadata": {},
   "outputs": [],
   "source": [
    "# обучающая выборка\n",
    "from sklearn.datasets import make_classification\n",
    "X, y = make_classification(\n",
    "    n_samples=800, n_features=10, n_informative=2, n_redundant=8,\n",
    "    random_state=42,flip_y = 0.1)"
   ]
  },
  {
   "cell_type": "markdown",
   "id": "fd20c9cc",
   "metadata": {},
   "source": [
    "## Задание 3.1\n",
    "\n",
    "Разбейте исходную выборку на train и test. Обучите алгоритмы SVM и Логистической регрессии (воспользуйтесь библиотекой sklearn). Постройте калибровочные кривые на тестовой части для логистической регрессии и метода опорных векторов (не забудьте перевести его предсказания в $[0;1]$). Изучите распределение ответов классификаторов (постройте гистограммы). Чем они различаются? Чем вы можете объяснить это?"
   ]
  },
  {
   "cell_type": "code",
   "execution_count": null,
   "id": "e078a468",
   "metadata": {},
   "outputs": [],
   "source": []
  },
  {
   "cell_type": "code",
   "execution_count": null,
   "id": "3b6773b9",
   "metadata": {},
   "outputs": [],
   "source": []
  },
  {
   "cell_type": "code",
   "execution_count": null,
   "id": "bf8537ad",
   "metadata": {},
   "outputs": [],
   "source": []
  },
  {
   "cell_type": "code",
   "execution_count": null,
   "id": "9c890c43",
   "metadata": {},
   "outputs": [],
   "source": []
  },
  {
   "cell_type": "code",
   "execution_count": null,
   "id": "7d832595",
   "metadata": {},
   "outputs": [],
   "source": []
  },
  {
   "cell_type": "markdown",
   "id": "110064ab",
   "metadata": {},
   "source": [
    "##  Задание 3.2 Реализуйте непараметрический метод гистограммной калибровки  (Histogram Binning)\n",
    "\n",
    "Решается такая задача оптимизации по параметрам ${\\theta_i}$:\n",
    "\n",
    "$$\\sum_{i=1}^k \\sum_{b(x)\\in B_i} (\\theta_i - y_i)^2 \\to min$$\n",
    "\n",
    "$B_i$ - разбиение исходного интервала предсказаний $[0, 1]$ на несколько маленьких отрезков $i=1,\\dotso,k$.\n",
    "\n",
    "После реализации обучите её на ваших данных и проскорьте её на тестовой выборке. Постройте калибровочные кривые на тестовой части для логистической регрессии и метода опорных векторов. и гистограммы распределения ответов классификаторов Что изменилось? Чем вы можете объяснить это?\n",
    "\n",
    "Подсказка 1. Оптимальным констатнтным решением по методу наименьших квадратов является среднее значение таргета\n",
    "\n",
    "Подсказка 2. Для правильной калибровки важно оценивать вероятность по тем объектам, которые ваш базовый классификатор еще не видел. Воспользуйтесь кросс-валидацией для того, чтобы сначала проскорить всю обучающую выборку базовым алгоритмом, а затем переоценить вероятности с помощью гистограмной калибровки"
   ]
  },
  {
   "cell_type": "code",
   "execution_count": null,
   "id": "1138341d",
   "metadata": {},
   "outputs": [],
   "source": []
  },
  {
   "cell_type": "code",
   "execution_count": null,
   "id": "09b4082b",
   "metadata": {},
   "outputs": [],
   "source": []
  },
  {
   "cell_type": "code",
   "execution_count": null,
   "id": "856f7c96",
   "metadata": {},
   "outputs": [],
   "source": []
  },
  {
   "cell_type": "code",
   "execution_count": null,
   "id": "6ad64c93",
   "metadata": {},
   "outputs": [],
   "source": []
  },
  {
   "cell_type": "markdown",
   "id": "825745d3",
   "metadata": {},
   "source": [
    "## Задание 3.3\n",
    "\n",
    "Реализуйте калибровку Платта. Она представляет собой по сути применение сигмоиды поверх другой модели. \n",
    "\n",
    "$${P(y_i=1|x_i) = \\sigma(w \\times a(x_i)+b) = \\frac{1}{1+exp^{-w a(x_i)-b}}}$$\n",
    "\n",
    "После реализации обучите её на ваших данных и проскорьте её на тестовой выборке. Постройте калибровочные кривые на тестовой части для логистической регрессии и метода опорных векторов. и гистограммы распределения ответов классификаторов Что изменилось? Чем вы можете объяснить это?\n",
    "\n",
    "Подсказка 1. Параметры $w$  и $b$ подбираются методом максимального правдоподобия на отложенной выборке. Нельзя использовать выборку, на которой обучался исходный алгоритм, для оптимизации параметров $w$ и $b$.\n",
    "\n",
    "Подсказка 2. Воспользуйтесь кросс-валидацией для того, чтобы сначала проскорить всю обучающую выборку базовым алгоритмом, а затем обучить логистическую регрессию"
   ]
  },
  {
   "cell_type": "code",
   "execution_count": null,
   "id": "1e314006",
   "metadata": {},
   "outputs": [],
   "source": []
  },
  {
   "cell_type": "code",
   "execution_count": null,
   "id": "4d4bc042",
   "metadata": {},
   "outputs": [],
   "source": []
  },
  {
   "cell_type": "code",
   "execution_count": null,
   "id": "8bcfe89f",
   "metadata": {},
   "outputs": [],
   "source": []
  },
  {
   "cell_type": "code",
   "execution_count": null,
   "id": "aff794a0",
   "metadata": {},
   "outputs": [],
   "source": []
  },
  {
   "cell_type": "markdown",
   "id": "ebb907b7",
   "metadata": {},
   "source": [
    "## Задание 3.4. \n",
    "\n",
    "Метрики для оценки качества калибровки - negative log-likelihood (NLL) и Brier score (BS):\n",
    "\n",
    "$$NLL = - \\frac{1}{l} \\sum_{i=1}^{l} y_i  log(a(x_i)) + (1-y_i)  (1-log(a(x_i))), \\quad BS = \\frac{1}{l} \\sum_{i=1}^{l} (y_i - a(x_i))^2$$\n",
    "\n",
    "Соберите слeдующую таблицу:\n",
    "\n",
    "\n",
    "\n",
    "| Алгоритм | Brier loss | Log loss | Precision | Recall | F1 | Roc auc |\n",
    "| --- | --- | --- | --- | --- | --- | --- |\n",
    "| Logreg |\n",
    "| SVM |\n",
    "| Logreg + hist |\n",
    "| Logreg + Platt |\n",
    "| SVM + Platt |\n",
    "| SVM + hist |\n",
    "\n",
    "Как изменяются метрики при добавлении гистограмной калибровки? калибровки Плата? Почему так происходит? \n",
    "\n",
    "Для расчёта метрик можете воспользоваться стандартными реализациями из библиотеки sklearn"
   ]
  },
  {
   "cell_type": "code",
   "execution_count": null,
   "id": "5782a9ae",
   "metadata": {},
   "outputs": [],
   "source": []
  },
  {
   "cell_type": "code",
   "execution_count": null,
   "id": "5d2f6cd4",
   "metadata": {},
   "outputs": [],
   "source": []
  },
  {
   "cell_type": "code",
   "execution_count": null,
   "id": "5e0318ce",
   "metadata": {},
   "outputs": [],
   "source": []
  },
  {
   "cell_type": "code",
   "execution_count": null,
   "id": "45a762f1",
   "metadata": {},
   "outputs": [],
   "source": []
  }
 ],
 "metadata": {
  "kernelspec": {
   "display_name": "Python 3",
   "language": "python",
   "name": "python3"
  },
  "language_info": {
   "codemirror_mode": {
    "name": "ipython",
    "version": 3
   },
   "file_extension": ".py",
   "mimetype": "text/x-python",
   "name": "python",
   "nbconvert_exporter": "python",
   "pygments_lexer": "ipython3",
   "version": "3.8.5"
  }
 },
 "nbformat": 4,
 "nbformat_minor": 5
}
