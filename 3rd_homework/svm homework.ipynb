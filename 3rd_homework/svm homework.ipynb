{
 "cells": [
  {
   "cell_type": "markdown",
   "id": "38e75b83",
   "metadata": {},
   "source": [
    "# Задание 1"
   ]
  },
  {
   "cell_type": "markdown",
   "id": "d1705b2c",
   "metadata": {},
   "source": [
    "В данном задание надо будет реализовать функцию потерь и алгоритм субградиентного спуска для прямой задачи SVM\n",
    "\n",
    "Подсказка 1. Функция потерь для алгоритма SVC имеет следующий вид:\n",
    "$$\\mathcal{L} = \\sum_{i=1}^l \\underbrace{{\\left(1 - M_i\\right)}_{+}}_\\text{hinge loss} + \\underbrace{\\frac{\\lambda}{2}||w||^2}_\\text{regularizer} \\rightarrow \\min_{w,w_0}$$\n",
    "\n",
    "Подсказка 2. Градиентный спуск. Чтобы найти минимум $\\mathcal{L} (w)$, мы задаём некоторое начальное приближение $w_0$ для наших параметров и итеративно обновляем веса по форрмуле ниже до тех, пока они не перестанут меняться больше, чем на некоторую маленькую константу $\\varepsilon$ :\n",
    "$$ w_i := w_{i-1} - \\alpha \\cdot \\nabla_w \\mathcal{L}(w_{i-1}). $$\n",
    "\n",
    "Подсказка 3. У производной hinge-функции имеется разрыв в точке $M_i = 1$. На практике, мы можем взять значение градиента как справа $(M_i > 1)$, так и слева $(M_i < 1)$. Это называется субградиентом функции данной точке. Возьмите значения субградиента справа.\n",
    "\n",
    "Подсказка 4.  В лекции мы выделяли свободный член $w_0$ в качестве отдельного слагаемого. На практике все же удобнее ввести для него константный признак, как делалось в предыдущих лекициях. При этом не забывайте, что регуляризация не применяется к свободному коэффициенту "
   ]
  },
  {
   "cell_type": "code",
   "execution_count": 1,
   "id": "149183f7",
   "metadata": {
    "execution": {
     "iopub.execute_input": "2022-08-30T20:21:40.657142Z",
     "iopub.status.busy": "2022-08-30T20:21:40.656784Z",
     "iopub.status.idle": "2022-08-30T20:21:42.316377Z",
     "shell.execute_reply": "2022-08-30T20:21:42.314995Z",
     "shell.execute_reply.started": "2022-08-30T20:21:40.657065Z"
    }
   },
   "outputs": [],
   "source": [
    "import numpy as np\n",
    "import pandas as pd\n",
    "from sklearn import datasets\n",
    "\n",
    "%matplotlib inline\n",
    "import matplotlib.pyplot as plt\n",
    "plt.rcParams['figure.figsize'] = [12, 4]\n",
    "import warnings\n",
    "warnings.filterwarnings(\"ignore\")"
   ]
  },
  {
   "cell_type": "code",
   "execution_count": 366,
   "id": "6a3ce0bd",
   "metadata": {
    "execution": {
     "iopub.execute_input": "2022-09-04T16:40:16.348444Z",
     "iopub.status.busy": "2022-09-04T16:40:16.348133Z",
     "iopub.status.idle": "2022-09-04T16:40:16.358880Z",
     "shell.execute_reply": "2022-09-04T16:40:16.356695Z",
     "shell.execute_reply.started": "2022-09-04T16:40:16.348417Z"
    },
    "tags": []
   },
   "outputs": [],
   "source": [
    "def svm_objective(w, X, y, C=.1):\n",
    "    \"\"\"The cost function, J, describing the goodness of fit.\n",
    "    \n",
    "    Parameters:\n",
    "    w (np.array): d -dimensional vector of parameters\n",
    "    X (np.array): (l,d)-dimensional features matrix\n",
    "    y (np.array): l-dimensional vector of targets\n",
    "    \"\"\" \n",
    "    margins = 1 - y * np.dot(X, w)\n",
    "    margins[margins < 0] = 0\n",
    "    \n",
    "    hinge_loss = C * np.mean(margins)\n",
    "    cost = .5 * np.linalg.norm(w[:-1]) ** 2 + hinge_loss\n",
    "    \n",
    "    return cost\n",
    "\n",
    "def gradient_desscent(X,y,threshold = 5e-4,alpha = 1e-3):\n",
    "    \"\"\"The gradient descent algorithm.\n",
    "    \n",
    "    Parameters:\n",
    "    threshold: float, tolerance for stopping criterion.\n",
    "    alpha: float, step_size of gradient descend\n",
    "    \n",
    "    Returns:\n",
    "    w (np.array): optimal weights\n",
    "    \"\"\"\n",
    "    \n",
    "    w = np.random.normal(loc=0, scale=0.06, size=X.shape[1])\n",
    "    \n",
    "    prev_loss = float('inf')\n",
    "    epochs = 10000\n",
    "    batch_size = 32\n",
    "    \n",
    "    for epoch in range(epochs):\n",
    "        for i in range(X.shape[0]):\n",
    "            m = y[i] * np.dot(X[i], w)\n",
    "            \n",
    "            if m >=1 :\n",
    "                w = w - alpha * w / epochs\n",
    "            else:\n",
    "                w = w + alpha * (X[i] * y[i] - w / epochs)\n",
    "            \n",
    "        if (epoch + 1) % 500 == 0:\n",
    "            loss = svm_objective(w, X, y)\n",
    "\n",
    "            print(f\"Loss: {loss}, Epoch: {epoch + 1}\")\n",
    "\n",
    "            if abs(prev_loss - loss) < threshold:\n",
    "                return w\n",
    "\n",
    "            prev_loss = loss\n",
    "    return w\n",
    "\n",
    "def predict(X,w):\n",
    "    \"\"\"Predictions of x from linear svc with given weights w.\n",
    "    \n",
    "    Parameters:\n",
    "    w (np.array): d-dimensional vector of optimal parameters\n",
    "    X (np.array): (l,d)-dimensional features matrix\n",
    "    \n",
    "    Returns:\n",
    "    y_pred (np.array): svm predictions for weights w\n",
    "    \"\"\"\n",
    "    \n",
    "    preds = np.sign(np.dot(X, w))\n",
    "    return preds"
   ]
  },
  {
   "cell_type": "code",
   "execution_count": null,
   "id": "bb9832be",
   "metadata": {},
   "outputs": [],
   "source": []
  },
  {
   "cell_type": "code",
   "execution_count": 367,
   "id": "c1cde70e",
   "metadata": {
    "execution": {
     "iopub.execute_input": "2022-09-04T16:40:16.562800Z",
     "iopub.status.busy": "2022-09-04T16:40:16.562453Z",
     "iopub.status.idle": "2022-09-04T16:40:16.578076Z",
     "shell.execute_reply": "2022-09-04T16:40:16.577246Z",
     "shell.execute_reply.started": "2022-09-04T16:40:16.562771Z"
    },
    "tags": []
   },
   "outputs": [],
   "source": [
    "# Обучающая выборка\n",
    "iris = datasets.load_iris(as_frame=True)\n",
    "iris_X, iris_y = iris.data, iris.target\n",
    "\n",
    "\n",
    "iris_X = iris_X.loc[::4]\n",
    "iris_y = iris_y.loc[::4]\n",
    "iris_X['one'] = 1\n",
    "\n",
    "# create a binary classification dataset with labels +/- 1\n",
    "iris_y2 = iris_y.copy()\n",
    "iris_y2[iris_y2==2] = 1\n",
    "iris_y2[iris_y2==0] = -1\n",
    "\n",
    "\n",
    "# remain 2 first features + constant feature\n",
    "X_train = iris_X.iloc[:,[0,1,-1]].to_numpy()\n",
    "y_train = iris_y2.to_numpy()"
   ]
  },
  {
   "cell_type": "code",
   "execution_count": 368,
   "id": "b6a65d3f-4e7a-4016-9f35-fdfc1aeea501",
   "metadata": {
    "execution": {
     "iopub.execute_input": "2022-09-04T16:40:16.734723Z",
     "iopub.status.busy": "2022-09-04T16:40:16.734398Z",
     "iopub.status.idle": "2022-09-04T16:40:16.740074Z",
     "shell.execute_reply": "2022-09-04T16:40:16.739189Z",
     "shell.execute_reply.started": "2022-09-04T16:40:16.734694Z"
    },
    "tags": []
   },
   "outputs": [
    {
     "data": {
      "text/plain": [
       "3"
      ]
     },
     "execution_count": 368,
     "metadata": {},
     "output_type": "execute_result"
    }
   ],
   "source": [
    "X_train.shape[1]"
   ]
  },
  {
   "cell_type": "code",
   "execution_count": 369,
   "id": "8823bb9d",
   "metadata": {
    "execution": {
     "iopub.execute_input": "2022-09-04T16:40:16.882854Z",
     "iopub.status.busy": "2022-09-04T16:40:16.882466Z",
     "iopub.status.idle": "2022-09-04T16:40:19.976594Z",
     "shell.execute_reply": "2022-09-04T16:40:19.975864Z",
     "shell.execute_reply.started": "2022-09-04T16:40:16.882824Z"
    },
    "scrolled": true,
    "tags": []
   },
   "outputs": [
    {
     "name": "stdout",
     "output_type": "stream",
     "text": [
      "Loss: 4.213154081348995, Epoch: 500\n",
      "Loss: 7.051077619644335, Epoch: 1000\n",
      "Loss: 9.093064778052693, Epoch: 1500\n",
      "Loss: 10.571438611482353, Epoch: 2000\n",
      "Loss: 11.567552454071054, Epoch: 2500\n",
      "Loss: 12.3027270152938, Epoch: 3000\n",
      "Loss: 13.059108448042403, Epoch: 3500\n",
      "Loss: 13.836655174524651, Epoch: 4000\n",
      "Loss: 14.63518478012081, Epoch: 4500\n",
      "Loss: 15.45457223100656, Epoch: 5000\n",
      "Loss: 16.29469305339631, Epoch: 5500\n",
      "Loss: 17.155423333064824, Epoch: 6000\n",
      "Loss: 17.98794777286936, Epoch: 6500\n",
      "Loss: 18.803291528126422, Epoch: 7000\n",
      "Loss: 19.517399642620116, Epoch: 7500\n",
      "Loss: 19.51076527784978, Epoch: 8000\n",
      "Loss: 19.525981340203966, Epoch: 8500\n",
      "Loss: 19.519355166778418, Epoch: 9000\n",
      "Loss: 19.534590571229796, Epoch: 9500\n",
      "Loss: 19.527974971167414, Epoch: 10000\n"
     ]
    }
   ],
   "source": [
    "# Получим оптимальные веса с помощью реализованного алгоритма градиентного спуска\n",
    "w_opt=gradient_desscent(X_train, y_train)"
   ]
  },
  {
   "cell_type": "code",
   "execution_count": 370,
   "id": "f3836af4",
   "metadata": {
    "execution": {
     "iopub.execute_input": "2022-09-04T16:40:22.270213Z",
     "iopub.status.busy": "2022-09-04T16:40:22.269887Z",
     "iopub.status.idle": "2022-09-04T16:40:22.499374Z",
     "shell.execute_reply": "2022-09-04T16:40:22.498614Z",
     "shell.execute_reply.started": "2022-09-04T16:40:22.270185Z"
    },
    "tags": []
   },
   "outputs": [
    {
     "name": "stdout",
     "output_type": "stream",
     "text": [
      "[ 1.  1.  1. ... -1. -1. -1.]\n"
     ]
    },
    {
     "data": {
      "image/png": "[encoded data removed]",
      "text/plain": [
       "<Figure size 864x288 with 1 Axes>"
      ]
     },
     "metadata": {
      "needs_background": "light"
     },
     "output_type": "display_data"
    }
   ],
   "source": [
    "# Убедимся визуально, что разделяющая гиперплоскость лежит на одинаковом расстоянии от обоих классов\n",
    "X = iris_X.to_numpy()[:,:2]\n",
    "x_min, x_max = X[:, 0].min() - .5, X[:, 0].max() + .5\n",
    "y_min, y_max = X[:, 1].min() - .5, X[:, 1].max() + .5\n",
    "xx, yy = np.meshgrid(np.arange(x_min, x_max, .02), np.arange(y_min, y_max, .02))\n",
    "Z = predict(np.c_[xx.ravel(), yy.ravel(), np.ones(xx.ravel().shape)],w_opt)\n",
    "\n",
    "print(Z)\n",
    "\n",
    "# Put the result into a color plot\n",
    "Z = Z.reshape(xx.shape)\n",
    "plt.pcolormesh(xx, yy, Z, cmap=plt.cm.Paired)\n",
    "\n",
    "# Plot also the training points\n",
    "plt.scatter(X_train[:, 0], X_train[:, 1], c=y_train, edgecolors='k', cmap=plt.cm.Paired)\n",
    "plt.xlabel('Sepal length')\n",
    "plt.ylabel('Sepal width')\n",
    "\n",
    "plt.show()"
   ]
  },
  {
   "cell_type": "code",
   "execution_count": 372,
   "id": "0a035ff5",
   "metadata": {
    "execution": {
     "iopub.execute_input": "2022-09-04T16:40:32.319213Z",
     "iopub.status.busy": "2022-09-04T16:40:32.318863Z",
     "iopub.status.idle": "2022-09-04T16:40:32.328178Z",
     "shell.execute_reply": "2022-09-04T16:40:32.327186Z",
     "shell.execute_reply.started": "2022-09-04T16:40:32.319179Z"
    },
    "tags": []
   },
   "outputs": [
    {
     "data": {
      "text/plain": [
       "True"
      ]
     },
     "execution_count": 372,
     "metadata": {},
     "output_type": "execute_result"
    }
   ],
   "source": [
    "# Проверим, что ближайшие точки лежат на одинаковом расстоянии от разделяющей прямой\n",
    "\n",
    "np.round(X_train.dot(w_opt)[X_train.dot(w_opt)>0].min(),2) == np.round(X_train.dot(w_opt)[X_train.dot(w_opt)<=0].max()*(-1),2)"
   ]
  },
  {
   "cell_type": "markdown",
   "id": "240a0e8b",
   "metadata": {},
   "source": [
    "# Задание 2"
   ]
  },
  {
   "cell_type": "markdown",
   "id": "bc7e69ab",
   "metadata": {},
   "source": [
    "В этом задании вам предстоит попридумывать ядра, с помощью которых можно решить задачу бинарной классификации"
   ]
  },
  {
   "cell_type": "code",
   "execution_count": 374,
   "id": "12624212",
   "metadata": {
    "execution": {
     "iopub.execute_input": "2022-09-04T16:44:12.880474Z",
     "iopub.status.busy": "2022-09-04T16:44:12.880172Z",
     "iopub.status.idle": "2022-09-04T16:44:12.886553Z",
     "shell.execute_reply": "2022-09-04T16:44:12.885329Z",
     "shell.execute_reply.started": "2022-09-04T16:44:12.880446Z"
    },
    "tags": []
   },
   "outputs": [],
   "source": [
    "def plot_dataset(x1,y,x2=None):\n",
    "    \"\"\"Visualization of tasks datasets\n",
    "    \n",
    "    Parameters:\n",
    "    x1 (np.array):  vector of features\n",
    "    y (np.array): 1-dimensional vector of targets\n",
    "    x2 (np.array): second component of vector of features if data is two-dimentional\n",
    "    \"\"\"\n",
    "    \n",
    "    if x2 is None:\n",
    "        x2 = np.zeros(len(x1))\n",
    "    \n",
    "    fig,ax = plt.subplots(1,1,figsize=(8,8))\n",
    "    plt.scatter(x1[y==1], x2[y==1], marker='+',c='red',s=400)\n",
    "    plt.scatter(x1[y==-1], x2[y==-1], marker='_',c='blue',s=400)\n",
    "    ax.get_yaxis().set_visible(False)"
   ]
  },
  {
   "cell_type": "code",
   "execution_count": 419,
   "id": "da7a7cc2",
   "metadata": {
    "execution": {
     "iopub.execute_input": "2022-09-04T17:04:26.076640Z",
     "iopub.status.busy": "2022-09-04T17:04:26.076112Z",
     "iopub.status.idle": "2022-09-04T17:04:26.084745Z",
     "shell.execute_reply": "2022-09-04T17:04:26.083361Z",
     "shell.execute_reply.started": "2022-09-04T17:04:26.076603Z"
    },
    "tags": []
   },
   "outputs": [],
   "source": [
    "def plot_svc_kernels(X,Y,clf):\n",
    "    clf.fit(X, Y)\n",
    "    print(clf.support_vectors_)\n",
    "    # plot the line, the points, and the nearest vectors to the plane\n",
    "    plt.scatter(clf.support_vectors_[:, 0], \n",
    "                clf.support_vectors_[:, 1],\n",
    "                s=80, facecolors='none', zorder=10, edgecolors='k')\n",
    "    plt.scatter(X[:, 0], X[:, 1], c=Y, zorder=10, cmap=plt.cm.Paired, edgecolors='k')\n",
    "    XX, YY = np.mgrid[X_MIN:X_MAX:200j, Y_MIN:Y_MAX:200j]\n",
    "    Z = clf.decision_function(np.c_[XX.ravel(), YY.ravel()])\n",
    "\n",
    "    # Put the result into a color plot\n",
    "    Z = Z.reshape(XX.shape)\n",
    "    plt.pcolormesh(XX, YY, Z > 0, cmap=plt.cm.Paired)\n",
    "    plt.contour(XX, YY, Z, colors=['k', 'k', 'k'], linestyles=['--', '-', '--'],levels=[-1, 0, 1])"
   ]
  },
  {
   "cell_type": "markdown",
   "id": "ecbbe8dd",
   "metadata": {},
   "source": [
    "## Задание 2.1 Можно ли придумать такое одномерное преобразование (ядро), что выборка будет линейно-разделима? \n",
    "\n",
    "Если да, то реализуйте метод Kernel, который обеспечивает линейную-разделимость. \n",
    "\n",
    "Если нет, то напишите в ячейке, почему это невозможно"
   ]
  },
  {
   "cell_type": "code",
   "execution_count": 375,
   "id": "bdf6155e",
   "metadata": {
    "execution": {
     "iopub.execute_input": "2022-09-04T16:44:14.705444Z",
     "iopub.status.busy": "2022-09-04T16:44:14.705013Z",
     "iopub.status.idle": "2022-09-04T16:44:14.712500Z",
     "shell.execute_reply": "2022-09-04T16:44:14.711309Z",
     "shell.execute_reply.started": "2022-09-04T16:44:14.705407Z"
    },
    "tags": []
   },
   "outputs": [],
   "source": [
    "dataset1 = pd.DataFrame({'x' : range(0,7),'y' : [1,1,-1,-1,-1,1,1]})"
   ]
  },
  {
   "cell_type": "code",
   "execution_count": 381,
   "id": "7096898e-8c87-4426-8b96-90c171aadccd",
   "metadata": {
    "execution": {
     "iopub.execute_input": "2022-09-04T16:48:05.691577Z",
     "iopub.status.busy": "2022-09-04T16:48:05.691094Z",
     "iopub.status.idle": "2022-09-04T16:48:05.700523Z",
     "shell.execute_reply": "2022-09-04T16:48:05.699138Z",
     "shell.execute_reply.started": "2022-09-04T16:48:05.691530Z"
    }
   },
   "outputs": [
    {
     "data": {
      "text/plain": [
       "(7, 2)"
      ]
     },
     "execution_count": 381,
     "metadata": {},
     "output_type": "execute_result"
    }
   ],
   "source": [
    "dataset1.shape"
   ]
  },
  {
   "cell_type": "code",
   "execution_count": 376,
   "id": "bde5a482",
   "metadata": {
    "execution": {
     "iopub.execute_input": "2022-09-04T16:44:15.137574Z",
     "iopub.status.busy": "2022-09-04T16:44:15.137234Z",
     "iopub.status.idle": "2022-09-04T16:44:15.236985Z",
     "shell.execute_reply": "2022-09-04T16:44:15.236227Z",
     "shell.execute_reply.started": "2022-09-04T16:44:15.137545Z"
    },
    "tags": []
   },
   "outputs": [
    {
     "data": {
      "image/png": "[encoded data removed]",
      "text/plain": [
       "<Figure size 576x576 with 1 Axes>"
      ]
     },
     "metadata": {
      "needs_background": "light"
     },
     "output_type": "display_data"
    }
   ],
   "source": [
    "plot_dataset(dataset1.x,dataset1.y)"
   ]
  },
  {
   "cell_type": "code",
   "execution_count": 378,
   "id": "d1bac2d1",
   "metadata": {
    "execution": {
     "iopub.execute_input": "2022-09-04T16:47:00.456205Z",
     "iopub.status.busy": "2022-09-04T16:47:00.455908Z",
     "iopub.status.idle": "2022-09-04T16:47:00.461553Z",
     "shell.execute_reply": "2022-09-04T16:47:00.459644Z",
     "shell.execute_reply.started": "2022-09-04T16:47:00.456178Z"
    },
    "tags": []
   },
   "outputs": [],
   "source": [
    "def kernel(X1, X2):\n",
    "    magnitude = np.linalg.norm(X1 - X2)\n",
    "    return np.exp(-1 * magnitude ** 2)"
   ]
  },
  {
   "cell_type": "code",
   "execution_count": 379,
   "id": "91095c2c",
   "metadata": {
    "execution": {
     "iopub.execute_input": "2022-09-04T16:47:02.158545Z",
     "iopub.status.busy": "2022-09-04T16:47:02.158052Z",
     "iopub.status.idle": "2022-09-04T16:47:02.163574Z",
     "shell.execute_reply": "2022-09-04T16:47:02.162415Z",
     "shell.execute_reply.started": "2022-09-04T16:47:02.158498Z"
    },
    "tags": []
   },
   "outputs": [],
   "source": [
    "from sklearn import svm\n",
    "clf = svm.SVC(kernel=kernel)"
   ]
  },
  {
   "cell_type": "code",
   "execution_count": 380,
   "id": "251152db",
   "metadata": {
    "execution": {
     "iopub.execute_input": "2022-09-04T16:47:29.296053Z",
     "iopub.status.busy": "2022-09-04T16:47:29.295407Z",
     "iopub.status.idle": "2022-09-04T16:47:30.790088Z",
     "shell.execute_reply": "2022-09-04T16:47:30.788753Z",
     "shell.execute_reply.started": "2022-09-04T16:47:29.296006Z"
    }
   },
   "outputs": [
    {
     "ename": "IndexError",
     "evalue": "tuple index out of range",
     "output_type": "error",
     "traceback": [
      "\u001b[0;31m---------------------------------------------------------------------------\u001b[0m",
      "\u001b[0;31mIndexError\u001b[0m                                Traceback (most recent call last)",
      "\u001b[0;32m<ipython-input-380-daf05f945daa>\u001b[0m in \u001b[0;36m<module>\u001b[0;34m\u001b[0m\n\u001b[0;32m----> 1\u001b[0;31m \u001b[0mplot_svc_kernels\u001b[0m\u001b[0;34m(\u001b[0m\u001b[0mdataset1\u001b[0m\u001b[0;34m.\u001b[0m\u001b[0mx\u001b[0m\u001b[0;34m,\u001b[0m \u001b[0mdataset1\u001b[0m\u001b[0;34m.\u001b[0m\u001b[0my\u001b[0m\u001b[0;34m,\u001b[0m \u001b[0mclf\u001b[0m\u001b[0;34m)\u001b[0m\u001b[0;34m\u001b[0m\u001b[0;34m\u001b[0m\u001b[0m\n\u001b[0m",
      "\u001b[0;32m<ipython-input-377-7fe4aaf943f3>\u001b[0m in \u001b[0;36mplot_svc_kernels\u001b[0;34m(X, Y, clf)\u001b[0m\n\u001b[1;32m      1\u001b[0m \u001b[0;32mdef\u001b[0m \u001b[0mplot_svc_kernels\u001b[0m\u001b[0;34m(\u001b[0m\u001b[0mX\u001b[0m\u001b[0;34m,\u001b[0m\u001b[0mY\u001b[0m\u001b[0;34m,\u001b[0m\u001b[0mclf\u001b[0m\u001b[0;34m)\u001b[0m\u001b[0;34m:\u001b[0m\u001b[0;34m\u001b[0m\u001b[0;34m\u001b[0m\u001b[0m\n\u001b[0;32m----> 2\u001b[0;31m     \u001b[0mclf\u001b[0m\u001b[0;34m.\u001b[0m\u001b[0mfit\u001b[0m\u001b[0;34m(\u001b[0m\u001b[0mX\u001b[0m\u001b[0;34m,\u001b[0m \u001b[0mY\u001b[0m\u001b[0;34m)\u001b[0m\u001b[0;34m\u001b[0m\u001b[0;34m\u001b[0m\u001b[0m\n\u001b[0m\u001b[1;32m      3\u001b[0m     \u001b[0;31m# plot the line, the points, and the nearest vectors to the plane\u001b[0m\u001b[0;34m\u001b[0m\u001b[0;34m\u001b[0m\u001b[0;34m\u001b[0m\u001b[0m\n\u001b[1;32m      4\u001b[0m     plt.scatter(clf.support_vectors_[:, 0], \n\u001b[1;32m      5\u001b[0m                 \u001b[0mclf\u001b[0m\u001b[0;34m.\u001b[0m\u001b[0msupport_vectors_\u001b[0m\u001b[0;34m[\u001b[0m\u001b[0;34m:\u001b[0m\u001b[0;34m,\u001b[0m \u001b[0;36m1\u001b[0m\u001b[0;34m]\u001b[0m\u001b[0;34m,\u001b[0m\u001b[0;34m\u001b[0m\u001b[0;34m\u001b[0m\u001b[0m\n",
      "\u001b[0;32m~/anaconda3/lib/python3.8/site-packages/sklearn/svm/_base.py\u001b[0m in \u001b[0;36mfit\u001b[0;34m(self, X, y, sample_weight)\u001b[0m\n\u001b[1;32m    215\u001b[0m \u001b[0;34m\u001b[0m\u001b[0m\n\u001b[1;32m    216\u001b[0m         \u001b[0mseed\u001b[0m \u001b[0;34m=\u001b[0m \u001b[0mrnd\u001b[0m\u001b[0;34m.\u001b[0m\u001b[0mrandint\u001b[0m\u001b[0;34m(\u001b[0m\u001b[0mnp\u001b[0m\u001b[0;34m.\u001b[0m\u001b[0miinfo\u001b[0m\u001b[0;34m(\u001b[0m\u001b[0;34m'i'\u001b[0m\u001b[0;34m)\u001b[0m\u001b[0;34m.\u001b[0m\u001b[0mmax\u001b[0m\u001b[0;34m)\u001b[0m\u001b[0;34m\u001b[0m\u001b[0;34m\u001b[0m\u001b[0m\n\u001b[0;32m--> 217\u001b[0;31m         \u001b[0mfit\u001b[0m\u001b[0;34m(\u001b[0m\u001b[0mX\u001b[0m\u001b[0;34m,\u001b[0m \u001b[0my\u001b[0m\u001b[0;34m,\u001b[0m \u001b[0msample_weight\u001b[0m\u001b[0;34m,\u001b[0m \u001b[0msolver_type\u001b[0m\u001b[0;34m,\u001b[0m \u001b[0mkernel\u001b[0m\u001b[0;34m,\u001b[0m \u001b[0mrandom_seed\u001b[0m\u001b[0;34m=\u001b[0m\u001b[0mseed\u001b[0m\u001b[0;34m)\u001b[0m\u001b[0;34m\u001b[0m\u001b[0;34m\u001b[0m\u001b[0m\n\u001b[0m\u001b[1;32m    218\u001b[0m         \u001b[0;31m# see comment on the other call to np.iinfo in this file\u001b[0m\u001b[0;34m\u001b[0m\u001b[0;34m\u001b[0m\u001b[0;34m\u001b[0m\u001b[0m\n\u001b[1;32m    219\u001b[0m \u001b[0;34m\u001b[0m\u001b[0m\n",
      "\u001b[0;32m~/anaconda3/lib/python3.8/site-packages/sklearn/svm/_base.py\u001b[0m in \u001b[0;36m_dense_fit\u001b[0;34m(self, X, y, sample_weight, solver_type, kernel, random_seed)\u001b[0m\n\u001b[1;32m    257\u001b[0m             \u001b[0mX\u001b[0m \u001b[0;34m=\u001b[0m \u001b[0mself\u001b[0m\u001b[0;34m.\u001b[0m\u001b[0m_compute_kernel\u001b[0m\u001b[0;34m(\u001b[0m\u001b[0mX\u001b[0m\u001b[0;34m)\u001b[0m\u001b[0;34m\u001b[0m\u001b[0;34m\u001b[0m\u001b[0m\n\u001b[1;32m    258\u001b[0m \u001b[0;34m\u001b[0m\u001b[0m\n\u001b[0;32m--> 259\u001b[0;31m             \u001b[0;32mif\u001b[0m \u001b[0mX\u001b[0m\u001b[0;34m.\u001b[0m\u001b[0mshape\u001b[0m\u001b[0;34m[\u001b[0m\u001b[0;36m0\u001b[0m\u001b[0;34m]\u001b[0m \u001b[0;34m!=\u001b[0m \u001b[0mX\u001b[0m\u001b[0;34m.\u001b[0m\u001b[0mshape\u001b[0m\u001b[0;34m[\u001b[0m\u001b[0;36m1\u001b[0m\u001b[0;34m]\u001b[0m\u001b[0;34m:\u001b[0m\u001b[0;34m\u001b[0m\u001b[0;34m\u001b[0m\u001b[0m\n\u001b[0m\u001b[1;32m    260\u001b[0m                 \u001b[0;32mraise\u001b[0m \u001b[0mValueError\u001b[0m\u001b[0;34m(\u001b[0m\u001b[0;34m\"X.shape[0] should be equal to X.shape[1]\"\u001b[0m\u001b[0;34m)\u001b[0m\u001b[0;34m\u001b[0m\u001b[0;34m\u001b[0m\u001b[0m\n\u001b[1;32m    261\u001b[0m \u001b[0;34m\u001b[0m\u001b[0m\n",
      "\u001b[0;31mIndexError\u001b[0m: tuple index out of range"
     ]
    }
   ],
   "source": [
    "plot_svc_kernels(dataset1.x, dataset1.y, clf)"
   ]
  },
  {
   "cell_type": "markdown",
   "id": "15c0e333",
   "metadata": {},
   "source": [
    "## Задание 2.2 Можно ли придумать такое одномерное преобразование (ядро), что выборка будет линейно-разделима? \n",
    "\n",
    "Если да, то реализуйте метод Kernel, который обеспечивает линейную-разделимость. \n",
    "\n",
    "Если нет, то напишите в ячейке, почему это невозможно"
   ]
  },
  {
   "cell_type": "code",
   "execution_count": null,
   "id": "bb1f06ee",
   "metadata": {
    "execution": {
     "iopub.execute_input": "2022-09-04T15:16:11.010292Z",
     "iopub.status.busy": "2022-09-04T15:16:11.009842Z",
     "iopub.status.idle": "2022-09-04T15:16:11.017735Z",
     "shell.execute_reply": "2022-09-04T15:16:11.016567Z",
     "shell.execute_reply.started": "2022-09-04T15:16:11.010252Z"
    }
   },
   "outputs": [],
   "source": [
    "dataset2 = pd.DataFrame({'x' : range(0,8),'y' : [1,-1,1,-1,1,-1,1,-1]})"
   ]
  },
  {
   "cell_type": "code",
   "execution_count": null,
   "id": "e5d55221",
   "metadata": {
    "execution": {
     "iopub.execute_input": "2022-09-04T15:16:11.190148Z",
     "iopub.status.busy": "2022-09-04T15:16:11.189827Z",
     "iopub.status.idle": "2022-09-04T15:16:11.293666Z",
     "shell.execute_reply": "2022-09-04T15:16:11.292606Z",
     "shell.execute_reply.started": "2022-09-04T15:16:11.190121Z"
    }
   },
   "outputs": [
    {
     "data": {
      "image/png": "[encoded data removed]",
      "text/plain": [
       "<Figure size 576x576 with 1 Axes>"
      ]
     },
     "metadata": {
      "needs_background": "light"
     },
     "output_type": "display_data"
    }
   ],
   "source": [
    "plot_dataset(dataset2.x,dataset2.y)"
   ]
  },
  {
   "cell_type": "code",
   "execution_count": null,
   "id": "fd53718f",
   "metadata": {},
   "outputs": [],
   "source": [
    "def kernel(X1, X2):\n",
    "    # ===================== YOUR CODE HERE ======================\n",
    "\n",
    "    \n",
    "    \n",
    "    # =============================================================\n",
    "    return "
   ]
  },
  {
   "cell_type": "code",
   "execution_count": null,
   "id": "8d6d435d",
   "metadata": {},
   "outputs": [],
   "source": [
    "from sklearn import svm\n",
    "clf = svm.SVC(kernel=kernel)"
   ]
  },
  {
   "cell_type": "code",
   "execution_count": null,
   "id": "1b675191",
   "metadata": {},
   "outputs": [],
   "source": []
  },
  {
   "cell_type": "code",
   "execution_count": null,
   "id": "38d80ef0",
   "metadata": {},
   "outputs": [],
   "source": []
  },
  {
   "cell_type": "markdown",
   "id": "e607ab84",
   "metadata": {},
   "source": [
    "## Задание 2.3 Можно ли придумать такое преобразование (ядро), что выборка будет линейно-разделима?\n",
    "Если да, то реализуйте метод Kernel, который обеспечивает линейную-разделимость.\n",
    "\n",
    "Если нет, то напишите в ячейке, почему это невозможно"
   ]
  },
  {
   "cell_type": "code",
   "execution_count": 382,
   "id": "8b86ba07",
   "metadata": {
    "execution": {
     "iopub.execute_input": "2022-09-04T16:48:57.993428Z",
     "iopub.status.busy": "2022-09-04T16:48:57.992849Z",
     "iopub.status.idle": "2022-09-04T16:48:58.000672Z",
     "shell.execute_reply": "2022-09-04T16:48:57.999833Z",
     "shell.execute_reply.started": "2022-09-04T16:48:57.993381Z"
    },
    "tags": []
   },
   "outputs": [],
   "source": [
    "dataset3 = pd.DataFrame({'x1': [0.0,0.95,0.59,-0.59,-0.95,0.0,1,1.73,2.0,1.73,1,0,-1,-1.73,-2.0,-1.73,-1.0],\n",
    "                         'x2': [1.0,0.31,-0.81,-0.81, 0.31, 2.0,1.73,1.0,0,-1,-1.73,-2.0,-1.73,-1.0,0,1.0,1.73],\n",
    "                          'y' : [1,1,1,1,1,-1,-1,-1,-1,-1,-1,-1,-1,-1,-1,-1,-1]})"
   ]
  },
  {
   "cell_type": "code",
   "execution_count": 383,
   "id": "ddd19a6f",
   "metadata": {
    "execution": {
     "iopub.execute_input": "2022-09-04T16:48:58.157378Z",
     "iopub.status.busy": "2022-09-04T16:48:58.156943Z",
     "iopub.status.idle": "2022-09-04T16:48:58.278538Z",
     "shell.execute_reply": "2022-09-04T16:48:58.277708Z",
     "shell.execute_reply.started": "2022-09-04T16:48:58.157347Z"
    },
    "tags": []
   },
   "outputs": [
    {
     "data": {
      "image/png": "[encoded data removed]",
      "text/plain": [
       "<Figure size 576x576 with 1 Axes>"
      ]
     },
     "metadata": {
      "needs_background": "light"
     },
     "output_type": "display_data"
    }
   ],
   "source": [
    "plot_dataset(dataset3.x1,dataset3.y,dataset3.x2)"
   ]
  },
  {
   "cell_type": "code",
   "execution_count": 421,
   "id": "cdec3a12",
   "metadata": {
    "execution": {
     "iopub.execute_input": "2022-09-04T17:06:01.197709Z",
     "iopub.status.busy": "2022-09-04T17:06:01.197371Z",
     "iopub.status.idle": "2022-09-04T17:06:01.202247Z",
     "shell.execute_reply": "2022-09-04T17:06:01.201077Z",
     "shell.execute_reply.started": "2022-09-04T17:06:01.197649Z"
    },
    "tags": []
   },
   "outputs": [],
   "source": [
    "def kernel(X1, X2):\n",
    "    norm1 = np.sum(X1 ** 2)\n",
    "    norm2 = np.sum(X2 ** 2)\n",
    "    return np.exp(-1 * (norm1 + norm2 - 2 * np.dot(X1, X2.T)) ** 2)"
   ]
  },
  {
   "cell_type": "code",
   "execution_count": 422,
   "id": "3e3b76d0",
   "metadata": {
    "execution": {
     "iopub.execute_input": "2022-09-04T17:06:01.494323Z",
     "iopub.status.busy": "2022-09-04T17:06:01.493979Z",
     "iopub.status.idle": "2022-09-04T17:06:01.497847Z",
     "shell.execute_reply": "2022-09-04T17:06:01.496825Z",
     "shell.execute_reply.started": "2022-09-04T17:06:01.494294Z"
    },
    "tags": []
   },
   "outputs": [],
   "source": [
    "from sklearn import svm\n",
    "clf = svm.SVC(kernel=kernel)"
   ]
  },
  {
   "cell_type": "code",
   "execution_count": 423,
   "id": "218c52c5-6df8-468d-b44d-e5ed40ff890c",
   "metadata": {
    "execution": {
     "iopub.execute_input": "2022-09-04T17:06:01.919911Z",
     "iopub.status.busy": "2022-09-04T17:06:01.919379Z",
     "iopub.status.idle": "2022-09-04T17:06:01.925437Z",
     "shell.execute_reply": "2022-09-04T17:06:01.924351Z",
     "shell.execute_reply.started": "2022-09-04T17:06:01.919879Z"
    },
    "tags": []
   },
   "outputs": [],
   "source": [
    "train = dataset3[['x1', 'x2']].to_numpy()\n",
    "labels = dataset3.y.to_numpy()"
   ]
  },
  {
   "cell_type": "code",
   "execution_count": 424,
   "id": "fb283e11",
   "metadata": {
    "execution": {
     "iopub.execute_input": "2022-09-04T17:06:02.307994Z",
     "iopub.status.busy": "2022-09-04T17:06:02.307667Z",
     "iopub.status.idle": "2022-09-04T17:06:02.324185Z",
     "shell.execute_reply": "2022-09-04T17:06:02.322945Z",
     "shell.execute_reply.started": "2022-09-04T17:06:02.307966Z"
    },
    "tags": []
   },
   "outputs": [
    {
     "name": "stdout",
     "output_type": "stream",
     "text": [
      "[]\n"
     ]
    },
    {
     "ename": "IndexError",
     "evalue": "index 0 is out of bounds for axis 1 with size 0",
     "output_type": "error",
     "traceback": [
      "\u001b[0;31m---------------------------------------------------------------------------\u001b[0m",
      "\u001b[0;31mIndexError\u001b[0m                                Traceback (most recent call last)",
      "\u001b[0;32m<ipython-input-424-c872048cd380>\u001b[0m in \u001b[0;36m<module>\u001b[0;34m\u001b[0m\n\u001b[0;32m----> 1\u001b[0;31m \u001b[0mplot_svc_kernels\u001b[0m\u001b[0;34m(\u001b[0m\u001b[0mtrain\u001b[0m\u001b[0;34m,\u001b[0m \u001b[0mlabels\u001b[0m\u001b[0;34m,\u001b[0m \u001b[0mclf\u001b[0m\u001b[0;34m)\u001b[0m\u001b[0;34m\u001b[0m\u001b[0;34m\u001b[0m\u001b[0m\n\u001b[0m",
      "\u001b[0;32m<ipython-input-419-17f4a0c622a8>\u001b[0m in \u001b[0;36mplot_svc_kernels\u001b[0;34m(X, Y, clf)\u001b[0m\n\u001b[1;32m      3\u001b[0m     \u001b[0mprint\u001b[0m\u001b[0;34m(\u001b[0m\u001b[0mclf\u001b[0m\u001b[0;34m.\u001b[0m\u001b[0msupport_vectors_\u001b[0m\u001b[0;34m)\u001b[0m\u001b[0;34m\u001b[0m\u001b[0;34m\u001b[0m\u001b[0m\n\u001b[1;32m      4\u001b[0m     \u001b[0;31m# plot the line, the points, and the nearest vectors to the plane\u001b[0m\u001b[0;34m\u001b[0m\u001b[0;34m\u001b[0m\u001b[0;34m\u001b[0m\u001b[0m\n\u001b[0;32m----> 5\u001b[0;31m     plt.scatter(clf.support_vectors_[:, 0], \n\u001b[0m\u001b[1;32m      6\u001b[0m                 \u001b[0mclf\u001b[0m\u001b[0;34m.\u001b[0m\u001b[0msupport_vectors_\u001b[0m\u001b[0;34m[\u001b[0m\u001b[0;34m:\u001b[0m\u001b[0;34m,\u001b[0m \u001b[0;36m1\u001b[0m\u001b[0;34m]\u001b[0m\u001b[0;34m,\u001b[0m\u001b[0;34m\u001b[0m\u001b[0;34m\u001b[0m\u001b[0m\n\u001b[1;32m      7\u001b[0m                 s=80, facecolors='none', zorder=10, edgecolors='k')\n",
      "\u001b[0;31mIndexError\u001b[0m: index 0 is out of bounds for axis 1 with size 0"
     ]
    }
   ],
   "source": [
    "plot_svc_kernels(train, labels, clf)"
   ]
  },
  {
   "cell_type": "code",
   "execution_count": 427,
   "id": "44a9eca1-fcbb-4334-963c-30e5d4011b17",
   "metadata": {
    "execution": {
     "iopub.execute_input": "2022-09-04T17:06:49.647567Z",
     "iopub.status.busy": "2022-09-04T17:06:49.647247Z",
     "iopub.status.idle": "2022-09-04T17:06:49.652823Z",
     "shell.execute_reply": "2022-09-04T17:06:49.651945Z",
     "shell.execute_reply.started": "2022-09-04T17:06:49.647539Z"
    },
    "tags": []
   },
   "outputs": [
    {
     "data": {
      "text/plain": [
       "0.0"
      ]
     },
     "execution_count": 427,
     "metadata": {},
     "output_type": "execute_result"
    }
   ],
   "source": [
    "kernel(train[:,0], train[:, 1])"
   ]
  },
  {
   "cell_type": "markdown",
   "id": "82a4403e",
   "metadata": {},
   "source": [
    "## Задание 2.4 Можно ли придумать такое преобразование (ядро), что выборка будет линейно-разделима?\n",
    "Если да, то реализуйте метод Kernel, который обеспечивает линейную-разделимость.\n",
    "\n",
    "Если нет, то напишите в ячейке, почему это невозможно"
   ]
  },
  {
   "cell_type": "code",
   "execution_count": null,
   "id": "88ce49bd",
   "metadata": {
    "execution": {
     "iopub.execute_input": "2022-09-04T15:19:50.555782Z",
     "iopub.status.busy": "2022-09-04T15:19:50.555478Z",
     "iopub.status.idle": "2022-09-04T15:19:50.615959Z",
     "shell.execute_reply": "2022-09-04T15:19:50.601825Z",
     "shell.execute_reply.started": "2022-09-04T15:19:50.555754Z"
    }
   },
   "outputs": [],
   "source": [
    "dataset4 = pd.DataFrame({'x1': [0.0,0.95,0.59,-0.59,-0.95,0.0,1,1.73,2.0,1.73,1,0,-1,-1.73,-2.0,-1.73,-1.0,0.,0.93,1.76,\n",
    "                                2.43,2.85,3.,2.85,2.43,1.76,0.93,0.,-0.93,-1.76,-2.43,-2.85,-3.,-2.85,-2.43,-1.76,-0.93],\n",
    "                         'x2': [1.0,0.31,-0.81,-0.81, 0.31, 2.0,1.73,1.0,0,-1,-1.73,-2.0,-1.73,-1.0,0,1.0,1.73,3.,2.85,2.43,\n",
    "                                1.76,0.93,0.,-0.93,-1.76,-2.43,-2.85,-3.,-2.85,-2.43,-1.76,-0.93,-0.,0.93,1.76,2.43,2.85],\n",
    "                          'y' : [1,1,1,1,1,-1,-1,-1,-1,-1,-1,-1,-1,-1,-1,-1,-1,1,1,1,1,1,1,1,1,1,1,1,1,1,1,1,1,1,1,1,1]})"
   ]
  },
  {
   "cell_type": "code",
   "execution_count": null,
   "id": "1bfe46a1",
   "metadata": {
    "execution": {
     "iopub.execute_input": "2022-09-04T15:19:50.669713Z",
     "iopub.status.busy": "2022-09-04T15:19:50.669391Z",
     "iopub.status.idle": "2022-09-04T15:19:50.790206Z",
     "shell.execute_reply": "2022-09-04T15:19:50.789459Z",
     "shell.execute_reply.started": "2022-09-04T15:19:50.669686Z"
    }
   },
   "outputs": [
    {
     "data": {
      "image/png": "[encoded data removed]",
      "text/plain": [
       "<Figure size 576x576 with 1 Axes>"
      ]
     },
     "metadata": {
      "needs_background": "light"
     },
     "output_type": "display_data"
    }
   ],
   "source": [
    "plot_dataset(dataset4.x1,dataset4.y,dataset4.x2)"
   ]
  },
  {
   "cell_type": "code",
   "execution_count": null,
   "id": "aa18b611",
   "metadata": {},
   "outputs": [],
   "source": [
    "def kernel(X1, X2):\n",
    "    # ===================== YOUR CODE HERE ======================\n",
    "\n",
    "    \n",
    "    \n",
    "    # =============================================================\n",
    "    return "
   ]
  },
  {
   "cell_type": "code",
   "execution_count": null,
   "id": "86aa9803",
   "metadata": {},
   "outputs": [],
   "source": [
    "from sklearn import svm\n",
    "clf = svm.SVC(kernel=kernel)"
   ]
  },
  {
   "cell_type": "code",
   "execution_count": null,
   "id": "fff0fa19",
   "metadata": {},
   "outputs": [],
   "source": []
  },
  {
   "cell_type": "code",
   "execution_count": null,
   "id": "2c3cc74f",
   "metadata": {},
   "outputs": [],
   "source": []
  },
  {
   "cell_type": "markdown",
   "id": "289c920d",
   "metadata": {},
   "source": [
    "# Задание 3"
   ]
  },
  {
   "cell_type": "markdown",
   "id": "cd73bdbb",
   "metadata": {},
   "source": [
    "Довольно часто нам помимо самих ответов, важно уметь оценить вероятности этих ответов. Например,\n",
    "в задаче кредитного скоринга вероятность нужна для оценки метрики VaR (Value at Risk), в задачах продвижения - для оценки доходности. Поэтому очень важно уметь оценивать качество выдаваемых алгоритмами вероятностей, и если качество плохое - то исправлять это, \"калибровать\" алгоритм.\n",
    "\n",
    "Калиброванный классификатор - это классификатор, для которого справедливо: Если $ \\hat{p}$ - предсказанная вероятность класса 1, то $P(y_i=1|a(x_i)=\\hat{p}) = \\hat{p}$. Другими словами,  мы предсказываем корректную вероятность класса 1, если прогноз «объект $x_i$ принадлежит классу 1 с вероятностью $\\frac{2}{3}$» должен сбываться в $\\frac{2}{3}$ случаев. \n",
    "\n",
    "Как визуально оценить калиброванность классификатора? Для этого разобьем отрезок $[0, 1]$ на несколько маленьких отрезков одинаковой длины. Рассмотрим $i$-й отрезок с границами $[a_i, b_i]$ и предсказания $p_1, p_2, \\dots, p_k$, которые попали в него. Пусть им соответствуют истинные ответы $y_1, y_2, \\dots, y_k$. Если алгоритм выдает корректные вероятности, то среди этих истинных ответов должно быть примерно $(a_i + b_i) / 2$ единиц. Иными словами, если нарисовать кривую, у которой по оси X отложены центры отрезков, а по оси Y — доли единичных ответов этих в отрезках, то она должна оказаться диагональной."
   ]
  },
  {
   "cell_type": "code",
   "execution_count": 634,
   "id": "02c60354",
   "metadata": {
    "execution": {
     "iopub.execute_input": "2022-09-05T15:01:58.042285Z",
     "iopub.status.busy": "2022-09-05T15:01:58.041594Z",
     "iopub.status.idle": "2022-09-05T15:01:58.052260Z",
     "shell.execute_reply": "2022-09-05T15:01:58.050414Z",
     "shell.execute_reply.started": "2022-09-05T15:01:58.042214Z"
    },
    "tags": []
   },
   "outputs": [],
   "source": [
    "def plot_calibration_curve(y_test, preds, n_bins = 10):\n",
    "    \"\"\"calibration curve plotting.\n",
    "    \n",
    "    Parameters:\n",
    "    y_test (np.array): target\n",
    "    preds (np.array): probabilities of classifier\n",
    "    n_bins int: number of bins in historgramm\n",
    "    \n",
    "    Returns:\n",
    "    bin_middle_points (np.array): ideal calibrated probalities\n",
    "    bin_real_ratios (np.array): actual calibrated probalities\n",
    "    \"\"\"\n",
    "    bin_middle_points = []\n",
    "    bin_real_ratios = []\n",
    "    \n",
    "    for i in range(n_bins):\n",
    "        l = 1.0 / n_bins * i\n",
    "        r = 1.0 / n_bins * (i + 1)\n",
    "        bin_middle_points.append(l+(r-l) / 2.) \n",
    "        bin_real_ratios.append(np.mean(y_test[(preds >= l) & (preds < r)] ))\n",
    "        \n",
    "    plt.figure(figsize=(6,6))\n",
    "    plt.plot(bin_middle_points, bin_real_ratios, label = 'actual calibration')\n",
    "    plt.plot(bin_middle_points, bin_middle_points, linestyle='--',label = 'perfect calibration')\n",
    "    plt.ylim([-0.05, 1.05])\n",
    "    plt.grid()\n",
    "    plt.legend()\n",
    "    return bin_middle_points, bin_real_ratios"
   ]
  },
  {
   "cell_type": "code",
   "execution_count": 864,
   "id": "08dc129d",
   "metadata": {
    "execution": {
     "iopub.execute_input": "2022-09-05T15:52:35.483793Z",
     "iopub.status.busy": "2022-09-05T15:52:35.483292Z",
     "iopub.status.idle": "2022-09-05T15:52:35.490267Z",
     "shell.execute_reply": "2022-09-05T15:52:35.489461Z",
     "shell.execute_reply.started": "2022-09-05T15:52:35.483761Z"
    },
    "tags": []
   },
   "outputs": [],
   "source": [
    "# обучающая выборка\n",
    "from sklearn.datasets import make_classification\n",
    "X, y = make_classification(\n",
    "    n_samples=800, n_features=10, n_informative=2, n_redundant=8,\n",
    "    random_state=42,flip_y = 0.1)"
   ]
  },
  {
   "cell_type": "markdown",
   "id": "fd20c9cc",
   "metadata": {},
   "source": [
    "## Задание 3.1\n",
    "\n",
    "Разбейте исходную выборку на train и test. Обучите алгоритмы SVM и Логистической регрессии (воспользуйтесь библиотекой sklearn). Постройте калибровочные кривые на тестовой части для логистической регрессии и метода опорных векторов (не забудьте перевести его предсказания в $[0;1]$). Изучите распределение ответов классификаторов (постройте гистограммы). Чем они различаются? Чем вы можете объяснить это?"
   ]
  },
  {
   "cell_type": "code",
   "execution_count": 865,
   "id": "e078a468",
   "metadata": {
    "execution": {
     "iopub.execute_input": "2022-09-05T15:52:35.493770Z",
     "iopub.status.busy": "2022-09-05T15:52:35.493458Z",
     "iopub.status.idle": "2022-09-05T15:52:35.500583Z",
     "shell.execute_reply": "2022-09-05T15:52:35.499113Z",
     "shell.execute_reply.started": "2022-09-05T15:52:35.493744Z"
    },
    "tags": []
   },
   "outputs": [],
   "source": [
    "from sklearn.model_selection import train_test_split\n",
    "\n",
    "train, test, y_train, y_test = train_test_split(X, y, test_size=0.3, random_state=42, shuffle=True)"
   ]
  },
  {
   "cell_type": "code",
   "execution_count": 866,
   "id": "3b6773b9",
   "metadata": {
    "execution": {
     "iopub.execute_input": "2022-09-05T15:52:35.503462Z",
     "iopub.status.busy": "2022-09-05T15:52:35.503135Z",
     "iopub.status.idle": "2022-09-05T15:52:35.508112Z",
     "shell.execute_reply": "2022-09-05T15:52:35.506769Z",
     "shell.execute_reply.started": "2022-09-05T15:52:35.503435Z"
    },
    "tags": []
   },
   "outputs": [],
   "source": [
    "from sklearn.svm import SVC\n",
    "from sklearn.linear_model import LogisticRegression"
   ]
  },
  {
   "cell_type": "code",
   "execution_count": 867,
   "id": "bf8537ad",
   "metadata": {
    "execution": {
     "iopub.execute_input": "2022-09-05T15:52:35.510181Z",
     "iopub.status.busy": "2022-09-05T15:52:35.509755Z",
     "iopub.status.idle": "2022-09-05T15:52:35.551787Z",
     "shell.execute_reply": "2022-09-05T15:52:35.550915Z",
     "shell.execute_reply.started": "2022-09-05T15:52:35.510148Z"
    },
    "tags": []
   },
   "outputs": [],
   "source": [
    "svm = SVC(kernel='linear', probability=True).fit(train, y_train)\n",
    "logreg = LogisticRegression().fit(train, y_train)"
   ]
  },
  {
   "cell_type": "code",
   "execution_count": 868,
   "id": "9c890c43",
   "metadata": {
    "execution": {
     "iopub.execute_input": "2022-09-05T15:52:35.553486Z",
     "iopub.status.busy": "2022-09-05T15:52:35.553179Z",
     "iopub.status.idle": "2022-09-05T15:52:35.559212Z",
     "shell.execute_reply": "2022-09-05T15:52:35.558348Z",
     "shell.execute_reply.started": "2022-09-05T15:52:35.553456Z"
    },
    "tags": []
   },
   "outputs": [],
   "source": [
    "svm_preds = svm.predict_proba(test)\n",
    "logreg_preds = logreg.predict_proba(test)"
   ]
  },
  {
   "cell_type": "code",
   "execution_count": 869,
   "id": "7d832595",
   "metadata": {
    "execution": {
     "iopub.execute_input": "2022-09-05T15:52:35.562645Z",
     "iopub.status.busy": "2022-09-05T15:52:35.561971Z",
     "iopub.status.idle": "2022-09-05T15:52:35.763733Z",
     "shell.execute_reply": "2022-09-05T15:52:35.761298Z",
     "shell.execute_reply.started": "2022-09-05T15:52:35.562602Z"
    },
    "tags": []
   },
   "outputs": [
    {
     "data": {
      "text/plain": [
       "([0.05,\n",
       "  0.15000000000000002,\n",
       "  0.25,\n",
       "  0.35000000000000003,\n",
       "  0.45,\n",
       "  0.55,\n",
       "  0.6500000000000001,\n",
       "  0.75,\n",
       "  0.8500000000000001,\n",
       "  0.95],\n",
       " [0.021739130434782608,\n",
       "  0.08823529411764706,\n",
       "  0.08333333333333333,\n",
       "  0.2727272727272727,\n",
       "  0.25,\n",
       "  0.4375,\n",
       "  0.9166666666666666,\n",
       "  1.0,\n",
       "  0.9259259259259259,\n",
       "  0.9607843137254902])"
      ]
     },
     "execution_count": 869,
     "metadata": {},
     "output_type": "execute_result"
    },
    {
     "data": {
      "image/png": "[encoded data removed]",
      "text/plain": [
       "<Figure size 432x432 with 1 Axes>"
      ]
     },
     "metadata": {
      "needs_background": "light"
     },
     "output_type": "display_data"
    }
   ],
   "source": [
    "plot_calibration_curve(y_test, svm_preds[:, 1],10)"
   ]
  },
  {
   "cell_type": "code",
   "execution_count": 870,
   "id": "ad6c6f1c-7b8c-48eb-881e-ec2b978f938e",
   "metadata": {
    "execution": {
     "iopub.execute_input": "2022-09-05T15:52:35.766521Z",
     "iopub.status.busy": "2022-09-05T15:52:35.766096Z",
     "iopub.status.idle": "2022-09-05T15:52:35.910361Z",
     "shell.execute_reply": "2022-09-05T15:52:35.909692Z",
     "shell.execute_reply.started": "2022-09-05T15:52:35.766487Z"
    },
    "tags": []
   },
   "outputs": [
    {
     "data": {
      "text/plain": [
       "([0.05,\n",
       "  0.15000000000000002,\n",
       "  0.25,\n",
       "  0.35000000000000003,\n",
       "  0.45,\n",
       "  0.55,\n",
       "  0.6500000000000001,\n",
       "  0.75,\n",
       "  0.8500000000000001,\n",
       "  0.95],\n",
       " [0.02127659574468085,\n",
       "  0.08108108108108109,\n",
       "  0.1,\n",
       "  0.2727272727272727,\n",
       "  0.25,\n",
       "  0.5384615384615384,\n",
       "  0.9090909090909091,\n",
       "  1.0,\n",
       "  0.9259259259259259,\n",
       "  0.9607843137254902])"
      ]
     },
     "execution_count": 870,
     "metadata": {},
     "output_type": "execute_result"
    },
    {
     "data": {
      "image/png": "[encoded data removed]",
      "text/plain": [
       "<Figure size 432x432 with 1 Axes>"
      ]
     },
     "metadata": {
      "needs_background": "light"
     },
     "output_type": "display_data"
    }
   ],
   "source": [
    "plot_calibration_curve(y_test, logreg_preds[:, 1],)"
   ]
  },
  {
   "cell_type": "markdown",
   "id": "110064ab",
   "metadata": {},
   "source": [
    "##  Задание 3.2 Реализуйте непараметрический метод гистограммной калибровки  (Histogram Binning)\n",
    "\n",
    "Решается такая задача оптимизации по параметрам ${\\theta_i}$:\n",
    "\n",
    "$$\\sum_{i=1}^k \\sum_{b(x)\\in B_i} (\\theta_i - y_i)^2 \\to min$$\n",
    "\n",
    "$B_i$ - разбиение исходного интервала предсказаний $[0, 1]$ на несколько маленьких отрезков $i=1,\\dotso,k$.\n",
    "\n",
    "После реализации обучите её на ваших данных и проскорьте её на тестовой выборке. Постройте калибровочные кривые на тестовой части для логистической регрессии и метода опорных векторов. и гистограммы распределения ответов классификаторов Что изменилось? Чем вы можете объяснить это?\n",
    "\n",
    "Подсказка 1. Оптимальным констатнтным решением по методу наименьших квадратов является среднее значение таргета\n",
    "\n",
    "Подсказка 2. Для правильной калибровки важно оценивать вероятность по тем объектам, которые ваш базовый классификатор еще не видел. Воспользуйтесь кросс-валидацией для того, чтобы сначала проскорить всю обучающую выборку базовым алгоритмом, а затем переоценить вероятности с помощью гистограмной калибровки"
   ]
  },
  {
   "cell_type": "code",
   "execution_count": 871,
   "id": "1138341d",
   "metadata": {
    "execution": {
     "iopub.execute_input": "2022-09-05T15:52:35.911872Z",
     "iopub.status.busy": "2022-09-05T15:52:35.911637Z",
     "iopub.status.idle": "2022-09-05T15:52:35.915851Z",
     "shell.execute_reply": "2022-09-05T15:52:35.915110Z",
     "shell.execute_reply.started": "2022-09-05T15:52:35.911851Z"
    },
    "tags": []
   },
   "outputs": [],
   "source": [
    "from sklearn.calibration import CalibratedClassifierCV\n",
    "from sklearn.model_selection import StratifiedKFold\n",
    "from sklearn.metrics import accuracy_score"
   ]
  },
  {
   "cell_type": "code",
   "execution_count": 872,
   "id": "ed06a28d-f76b-445e-90ec-fb7a9edb1e27",
   "metadata": {
    "execution": {
     "iopub.execute_input": "2022-09-05T15:52:35.918208Z",
     "iopub.status.busy": "2022-09-05T15:52:35.917296Z",
     "iopub.status.idle": "2022-09-05T15:52:35.942201Z",
     "shell.execute_reply": "2022-09-05T15:52:35.939540Z",
     "shell.execute_reply.started": "2022-09-05T15:52:35.918165Z"
    },
    "tags": []
   },
   "outputs": [],
   "source": [
    "train, test, y_train, y_test = train_test_split(X, y, test_size=0.3, shuffle=True, random_state=42)"
   ]
  },
  {
   "cell_type": "code",
   "execution_count": 873,
   "id": "84e8cc39-a823-4d06-a16e-1793409625bb",
   "metadata": {
    "execution": {
     "iopub.execute_input": "2022-09-05T15:52:35.948801Z",
     "iopub.status.busy": "2022-09-05T15:52:35.948507Z",
     "iopub.status.idle": "2022-09-05T15:52:35.953108Z",
     "shell.execute_reply": "2022-09-05T15:52:35.951347Z",
     "shell.execute_reply.started": "2022-09-05T15:52:35.948776Z"
    },
    "tags": []
   },
   "outputs": [],
   "source": [
    "svm = SVC(kernel='linear', probability=True)\n",
    "logreg = LogisticRegression()"
   ]
  },
  {
   "cell_type": "code",
   "execution_count": 874,
   "id": "09b4082b",
   "metadata": {
    "execution": {
     "iopub.execute_input": "2022-09-05T15:52:35.956039Z",
     "iopub.status.busy": "2022-09-05T15:52:35.955759Z",
     "iopub.status.idle": "2022-09-05T15:52:35.962026Z",
     "shell.execute_reply": "2022-09-05T15:52:35.961015Z",
     "shell.execute_reply.started": "2022-09-05T15:52:35.956015Z"
    },
    "tags": []
   },
   "outputs": [],
   "source": [
    "hist_calibrated_svm = CalibratedClassifierCV(base_estimator=svm,\n",
    "                                    method='isotonic', \n",
    "                                    cv=5)\n",
    "\n",
    "hist_calibrated_logreg = CalibratedClassifierCV(base_estimator=logreg,\n",
    "                                    method='isotonic', \n",
    "                                    cv=5)"
   ]
  },
  {
   "cell_type": "code",
   "execution_count": 875,
   "id": "856f7c96",
   "metadata": {
    "execution": {
     "iopub.execute_input": "2022-09-05T15:52:35.963709Z",
     "iopub.status.busy": "2022-09-05T15:52:35.963459Z",
     "iopub.status.idle": "2022-09-05T15:52:36.098173Z",
     "shell.execute_reply": "2022-09-05T15:52:36.097508Z",
     "shell.execute_reply.started": "2022-09-05T15:52:35.963685Z"
    },
    "tags": []
   },
   "outputs": [
    {
     "data": {
      "text/plain": [
       "CalibratedClassifierCV(base_estimator=LogisticRegression(), cv=5,\n",
       "                       method='isotonic')"
      ]
     },
     "execution_count": 875,
     "metadata": {},
     "output_type": "execute_result"
    }
   ],
   "source": [
    "hist_calibrated_svm.fit(train, y_train)\n",
    "hist_calibrated_logreg.fit(train, y_train)"
   ]
  },
  {
   "cell_type": "code",
   "execution_count": 876,
   "id": "6ad64c93",
   "metadata": {
    "execution": {
     "iopub.execute_input": "2022-09-05T15:52:36.099771Z",
     "iopub.status.busy": "2022-09-05T15:52:36.099548Z",
     "iopub.status.idle": "2022-09-05T15:52:36.110281Z",
     "shell.execute_reply": "2022-09-05T15:52:36.109188Z",
     "shell.execute_reply.started": "2022-09-05T15:52:36.099750Z"
    },
    "tags": []
   },
   "outputs": [],
   "source": [
    "logreg_hist_calibrated_preds = hist_calibrated_logreg.predict_proba(test)\n",
    "svm_hist_calibrated_preds = hist_calibrated_svm.predict_proba(test)"
   ]
  },
  {
   "cell_type": "code",
   "execution_count": 877,
   "id": "8c523760-6c62-46d0-9093-c8c8d620874b",
   "metadata": {
    "execution": {
     "iopub.execute_input": "2022-09-05T15:52:36.112932Z",
     "iopub.status.busy": "2022-09-05T15:52:36.112460Z",
     "iopub.status.idle": "2022-09-05T15:52:36.267501Z",
     "shell.execute_reply": "2022-09-05T15:52:36.265982Z",
     "shell.execute_reply.started": "2022-09-05T15:52:36.112893Z"
    },
    "tags": []
   },
   "outputs": [
    {
     "data": {
      "text/plain": [
       "([0.05,\n",
       "  0.15000000000000002,\n",
       "  0.25,\n",
       "  0.35000000000000003,\n",
       "  0.45,\n",
       "  0.55,\n",
       "  0.6500000000000001,\n",
       "  0.75,\n",
       "  0.8500000000000001,\n",
       "  0.95],\n",
       " [0.05084745762711865,\n",
       "  0.06666666666666667,\n",
       "  0.5,\n",
       "  0.21428571428571427,\n",
       "  0.3333333333333333,\n",
       "  0.3333333333333333,\n",
       "  0.75,\n",
       "  0.8888888888888888,\n",
       "  1.0,\n",
       "  0.9436619718309859])"
      ]
     },
     "execution_count": 877,
     "metadata": {},
     "output_type": "execute_result"
    },
    {
     "data": {
      "image/png": "[encoded data removed]",
      "text/plain": [
       "<Figure size 432x432 with 1 Axes>"
      ]
     },
     "metadata": {
      "needs_background": "light"
     },
     "output_type": "display_data"
    }
   ],
   "source": [
    "plot_calibration_curve(y_test, svm_hist_calibrated_preds[:, 1],10)"
   ]
  },
  {
   "cell_type": "code",
   "execution_count": 878,
   "id": "bc10d1f0-cdd4-4f32-94d3-c41fa146593a",
   "metadata": {
    "execution": {
     "iopub.execute_input": "2022-09-05T15:52:36.269908Z",
     "iopub.status.busy": "2022-09-05T15:52:36.269529Z",
     "iopub.status.idle": "2022-09-05T15:52:36.405723Z",
     "shell.execute_reply": "2022-09-05T15:52:36.404746Z",
     "shell.execute_reply.started": "2022-09-05T15:52:36.269877Z"
    },
    "tags": []
   },
   "outputs": [
    {
     "data": {
      "text/plain": [
       "([0.05,\n",
       "  0.15000000000000002,\n",
       "  0.25,\n",
       "  0.35000000000000003,\n",
       "  0.45,\n",
       "  0.55,\n",
       "  0.6500000000000001,\n",
       "  0.75,\n",
       "  0.8500000000000001,\n",
       "  0.95],\n",
       " [0.04,\n",
       "  0.10344827586206896,\n",
       "  0.4,\n",
       "  0.23076923076923078,\n",
       "  0.3333333333333333,\n",
       "  0.3333333333333333,\n",
       "  0.75,\n",
       "  0.9090909090909091,\n",
       "  0.95,\n",
       "  0.9436619718309859])"
      ]
     },
     "execution_count": 878,
     "metadata": {},
     "output_type": "execute_result"
    },
    {
     "data": {
      "image/png": "[encoded data removed]",
      "text/plain": [
       "<Figure size 432x432 with 1 Axes>"
      ]
     },
     "metadata": {
      "needs_background": "light"
     },
     "output_type": "display_data"
    }
   ],
   "source": [
    "plot_calibration_curve(y_test, logreg_hist_calibrated_preds[:, 1],10)"
   ]
  },
  {
   "cell_type": "markdown",
   "id": "825745d3",
   "metadata": {},
   "source": [
    "## Задание 3.3\n",
    "\n",
    "Реализуйте калибровку Платта. Она представляет собой по сути применение сигмоиды поверх другой модели. \n",
    "\n",
    "$${P(y_i=1|x_i) = \\sigma(w \\times a(x_i)+b) = \\frac{1}{1+exp^{-w a(x_i)-b}}}$$\n",
    "\n",
    "После реализации обучите её на ваших данных и проскорьте её на тестовой выборке. Постройте калибровочные кривые на тестовой части для логистической регрессии и метода опорных векторов. и гистограммы распределения ответов классификаторов Что изменилось? Чем вы можете объяснить это?\n",
    "\n",
    "Подсказка 1. Параметры $w$  и $b$ подбираются методом максимального правдоподобия на отложенной выборке. Нельзя использовать выборку, на которой обучался исходный алгоритм, для оптимизации параметров $w$ и $b$.\n",
    "\n",
    "Подсказка 2. Воспользуйтесь кросс-валидацией для того, чтобы сначала проскорить всю обучающую выборку базовым алгоритмом, а затем обучить логистическую регрессию"
   ]
  },
  {
   "cell_type": "code",
   "execution_count": 879,
   "id": "1e314006",
   "metadata": {
    "execution": {
     "iopub.execute_input": "2022-09-05T15:52:36.406899Z",
     "iopub.status.busy": "2022-09-05T15:52:36.406696Z",
     "iopub.status.idle": "2022-09-05T15:52:36.410565Z",
     "shell.execute_reply": "2022-09-05T15:52:36.409772Z",
     "shell.execute_reply.started": "2022-09-05T15:52:36.406879Z"
    },
    "tags": []
   },
   "outputs": [],
   "source": [
    "svm = SVC(kernel='linear', probability=True)\n",
    "logreg = LogisticRegression()"
   ]
  },
  {
   "cell_type": "code",
   "execution_count": 880,
   "id": "4d4bc042",
   "metadata": {
    "execution": {
     "iopub.execute_input": "2022-09-05T15:52:36.413312Z",
     "iopub.status.busy": "2022-09-05T15:52:36.412326Z",
     "iopub.status.idle": "2022-09-05T15:52:36.417851Z",
     "shell.execute_reply": "2022-09-05T15:52:36.416668Z",
     "shell.execute_reply.started": "2022-09-05T15:52:36.413274Z"
    },
    "tags": []
   },
   "outputs": [],
   "source": [
    "platt_calibrated_svm = CalibratedClassifierCV(base_estimator=svm,\n",
    "                                    method='sigmoid', \n",
    "                                    cv=5)\n",
    "\n",
    "platt_calibrated_logreg = CalibratedClassifierCV(base_estimator=logreg,\n",
    "                                    method='sigmoid', \n",
    "                                    cv=5)"
   ]
  },
  {
   "cell_type": "code",
   "execution_count": 881,
   "id": "8bcfe89f",
   "metadata": {
    "execution": {
     "iopub.execute_input": "2022-09-05T15:52:36.419263Z",
     "iopub.status.busy": "2022-09-05T15:52:36.419040Z",
     "iopub.status.idle": "2022-09-05T15:52:36.545037Z",
     "shell.execute_reply": "2022-09-05T15:52:36.544132Z",
     "shell.execute_reply.started": "2022-09-05T15:52:36.419243Z"
    },
    "tags": []
   },
   "outputs": [
    {
     "data": {
      "text/plain": [
       "CalibratedClassifierCV(base_estimator=LogisticRegression(), cv=5)"
      ]
     },
     "execution_count": 881,
     "metadata": {},
     "output_type": "execute_result"
    }
   ],
   "source": [
    "platt_calibrated_svm.fit(train, y_train)\n",
    "platt_calibrated_logreg.fit(train, y_train)"
   ]
  },
  {
   "cell_type": "code",
   "execution_count": 882,
   "id": "aff794a0",
   "metadata": {
    "execution": {
     "iopub.execute_input": "2022-09-05T15:52:36.546731Z",
     "iopub.status.busy": "2022-09-05T15:52:36.546462Z",
     "iopub.status.idle": "2022-09-05T15:52:36.575024Z",
     "shell.execute_reply": "2022-09-05T15:52:36.574418Z",
     "shell.execute_reply.started": "2022-09-05T15:52:36.546708Z"
    },
    "tags": []
   },
   "outputs": [],
   "source": [
    "logreg_platt_calibrated_preds = calibrated_logreg.predict_proba(test)\n",
    "svm_platt_calibrated_preds = calibrated_svm.predict_proba(test)"
   ]
  },
  {
   "cell_type": "code",
   "execution_count": 883,
   "id": "151716b4-4bf3-4d51-ace1-aae0ed8f51d2",
   "metadata": {
    "execution": {
     "iopub.execute_input": "2022-09-05T15:52:36.576438Z",
     "iopub.status.busy": "2022-09-05T15:52:36.576189Z",
     "iopub.status.idle": "2022-09-05T15:52:36.711410Z",
     "shell.execute_reply": "2022-09-05T15:52:36.710429Z",
     "shell.execute_reply.started": "2022-09-05T15:52:36.576415Z"
    },
    "tags": []
   },
   "outputs": [
    {
     "data": {
      "text/plain": [
       "([0.05,\n",
       "  0.15000000000000002,\n",
       "  0.25,\n",
       "  0.35000000000000003,\n",
       "  0.45,\n",
       "  0.55,\n",
       "  0.6500000000000001,\n",
       "  0.75,\n",
       "  0.8500000000000001,\n",
       "  0.95],\n",
       " [0.0,\n",
       "  0.058823529411764705,\n",
       "  0.03225806451612903,\n",
       "  0.11764705882352941,\n",
       "  0.4838709677419355,\n",
       "  0.6956521739130435,\n",
       "  0.3333333333333333,\n",
       "  0.8507462686567164,\n",
       "  0.0,\n",
       "  nan])"
      ]
     },
     "execution_count": 883,
     "metadata": {},
     "output_type": "execute_result"
    },
    {
     "data": {
      "image/png": "[encoded data removed]",
      "text/plain": [
       "<Figure size 432x432 with 1 Axes>"
      ]
     },
     "metadata": {
      "needs_background": "light"
     },
     "output_type": "display_data"
    }
   ],
   "source": [
    "plot_calibration_curve(y_test, svm_platt_calibrated_preds[:, 1],10)"
   ]
  },
  {
   "cell_type": "code",
   "execution_count": 884,
   "id": "b7ccd7a5-25a9-4f53-8116-e89b2ffacc9b",
   "metadata": {
    "execution": {
     "iopub.execute_input": "2022-09-05T15:52:36.712889Z",
     "iopub.status.busy": "2022-09-05T15:52:36.712666Z",
     "iopub.status.idle": "2022-09-05T15:52:36.844555Z",
     "shell.execute_reply": "2022-09-05T15:52:36.843711Z",
     "shell.execute_reply.started": "2022-09-05T15:52:36.712868Z"
    },
    "tags": []
   },
   "outputs": [
    {
     "data": {
      "text/plain": [
       "([0.05,\n",
       "  0.15000000000000002,\n",
       "  0.25,\n",
       "  0.35000000000000003,\n",
       "  0.45,\n",
       "  0.55,\n",
       "  0.6500000000000001,\n",
       "  0.75,\n",
       "  0.8500000000000001,\n",
       "  0.95],\n",
       " [0.0,\n",
       "  0.058823529411764705,\n",
       "  0.03225806451612903,\n",
       "  0.11764705882352941,\n",
       "  0.4838709677419355,\n",
       "  0.6956521739130435,\n",
       "  0.3333333333333333,\n",
       "  0.8507462686567164,\n",
       "  0.0,\n",
       "  nan])"
      ]
     },
     "execution_count": 884,
     "metadata": {},
     "output_type": "execute_result"
    },
    {
     "data": {
      "image/png": "[encoded data removed]",
      "text/plain": [
       "<Figure size 432x432 with 1 Axes>"
      ]
     },
     "metadata": {
      "needs_background": "light"
     },
     "output_type": "display_data"
    }
   ],
   "source": [
    "plot_calibration_curve(y_test, logreg_platt_calibrated_preds[:, 1],10)"
   ]
  },
  {
   "cell_type": "markdown",
   "id": "ebb907b7",
   "metadata": {},
   "source": [
    "## Задание 3.4. \n",
    "\n",
    "Метрики для оценки качества калибровки - negative log-likelihood (NLL) и Brier score (BS):\n",
    "\n",
    "$$NLL = - \\frac{1}{l} \\sum_{i=1}^{l} y_i  log(a(x_i)) + (1-y_i)  (1-log(a(x_i))), \\quad BS = \\frac{1}{l} \\sum_{i=1}^{l} (y_i - a(x_i))^2$$\n",
    "\n",
    "Соберите слeдующую таблицу:\n",
    "\n",
    "\n",
    "\n",
    "| Алгоритм | Brier loss | Log loss | Precision | Recall | F1 | Roc auc |\n",
    "| --- | --- | --- | --- | --- | --- | --- |\n",
    "| Logreg |\n",
    "| SVM |\n",
    "| Logreg + hist |\n",
    "| Logreg + Platt |\n",
    "| SVM + Platt |\n",
    "| SVM + hist |\n",
    "\n",
    "Как изменяются метрики при добавлении гистограмной калибровки? калибровки Плата? Почему так происходит? \n",
    "\n",
    "Для расчёта метрик можете воспользоваться стандартными реализациями из библиотеки sklearn"
   ]
  },
  {
   "cell_type": "code",
   "execution_count": 885,
   "id": "c187b8e0-089b-4d6c-b5ed-81717bee2e6a",
   "metadata": {
    "execution": {
     "iopub.execute_input": "2022-09-05T15:52:36.884956Z",
     "iopub.status.busy": "2022-09-05T15:52:36.884474Z",
     "iopub.status.idle": "2022-09-05T15:52:36.890079Z",
     "shell.execute_reply": "2022-09-05T15:52:36.888129Z",
     "shell.execute_reply.started": "2022-09-05T15:52:36.884921Z"
    },
    "tags": []
   },
   "outputs": [],
   "source": [
    "import pandas as pd\n",
    "from sklearn.metrics import (brier_score_loss, \n",
    "                             log_loss,\n",
    "                             precision_score, \n",
    "                             recall_score,\n",
    "                             f1_score,\n",
    "                             roc_auc_score)"
   ]
  },
  {
   "cell_type": "code",
   "execution_count": 886,
   "id": "5782a9ae",
   "metadata": {
    "execution": {
     "iopub.execute_input": "2022-09-05T15:52:37.064950Z",
     "iopub.status.busy": "2022-09-05T15:52:37.064541Z",
     "iopub.status.idle": "2022-09-05T15:52:37.070644Z",
     "shell.execute_reply": "2022-09-05T15:52:37.068589Z",
     "shell.execute_reply.started": "2022-09-05T15:52:37.064918Z"
    },
    "tags": []
   },
   "outputs": [],
   "source": [
    "data['Алгоритм'] = ['Logreg','SVM','Logreg + hist','Logreg + Platt','SVM + Platt','SVM + hist']"
   ]
  },
  {
   "cell_type": "code",
   "execution_count": 890,
   "id": "5d2f6cd4",
   "metadata": {
    "execution": {
     "iopub.execute_input": "2022-09-06T08:04:23.099459Z",
     "iopub.status.busy": "2022-09-06T08:04:23.098043Z",
     "iopub.status.idle": "2022-09-06T08:04:23.166274Z",
     "shell.execute_reply": "2022-09-06T08:04:23.165104Z",
     "shell.execute_reply.started": "2022-09-06T08:04:23.098487Z"
    },
    "tags": []
   },
   "outputs": [],
   "source": [
    "classifiers = [\n",
    "        LogisticRegression(),\n",
    "        SVC(kernel='linear', probability=True),\n",
    "        CalibratedClassifierCV(base_estimator=LogisticRegression(),\n",
    "                                    method='isotonic', \n",
    "                                    cv=5),\n",
    "        CalibratedClassifierCV(base_estimator=LogisticRegression(),\n",
    "                                    method='sigmoid', \n",
    "                                    cv=5),\n",
    "        CalibratedClassifierCV(base_estimator=SVC(kernel='linear', probability=True),\n",
    "                                    method='sigmoid', \n",
    "                                    cv=5),\n",
    "        CalibratedClassifierCV(base_estimator=SVC(kernel='linear', probability=True),\n",
    "                                    method='isotonic', \n",
    "                                    cv=5),\n",
    "]\n",
    "\n",
    "metrics = [brier_score_loss, log_loss, precision_score, recall_score, f1_score, roc_auc_score]"
   ]
  },
  {
   "cell_type": "code",
   "execution_count": 891,
   "id": "5e0318ce",
   "metadata": {
    "execution": {
     "iopub.execute_input": "2022-09-06T08:04:23.437169Z",
     "iopub.status.busy": "2022-09-06T08:04:23.436843Z",
     "iopub.status.idle": "2022-09-06T08:04:23.875646Z",
     "shell.execute_reply": "2022-09-06T08:04:23.874637Z",
     "shell.execute_reply.started": "2022-09-06T08:04:23.437143Z"
    },
    "tags": []
   },
   "outputs": [],
   "source": [
    "for i, classifier in enumerate(classifiers):\n",
    "    classifier.fit(train, y_train)\n",
    "    clf_probs = classifier.predict_proba(test)\n",
    "    clf_preds = classifier.predict(test)\n",
    "    \n",
    "    metrics_scores = []\n",
    "    \n",
    "    for metric in [brier_score_loss, log_loss]:\n",
    "        metrics_scores.append(metric(y_test, clf_probs[:, 1]))\n",
    "        \n",
    "    for metric in [precision_score, recall_score, f1_score, roc_auc_score]:\n",
    "        metrics_scores.append(metric(y_test, clf_preds))\n",
    "        \n",
    "    data.iloc[i][1:] = metrics_scores"
   ]
  },
  {
   "cell_type": "code",
   "execution_count": 892,
   "id": "45a762f1",
   "metadata": {
    "execution": {
     "iopub.execute_input": "2022-09-06T08:04:24.888239Z",
     "iopub.status.busy": "2022-09-06T08:04:24.887910Z",
     "iopub.status.idle": "2022-09-06T08:04:24.917437Z",
     "shell.execute_reply": "2022-09-06T08:04:24.916360Z",
     "shell.execute_reply.started": "2022-09-06T08:04:24.888210Z"
    },
    "tags": []
   },
   "outputs": [
    {
     "data": {
      "text/html": [
       "<div>\n",
       "<style scoped>\n",
       "    .dataframe tbody tr th:only-of-type {\n",
       "        vertical-align: middle;\n",
       "    }\n",
       "\n",
       "    .dataframe tbody tr th {\n",
       "        vertical-align: top;\n",
       "    }\n",
       "\n",
       "    .dataframe thead th {\n",
       "        text-align: right;\n",
       "    }\n",
       "</style>\n",
       "<table border=\"1\" class=\"dataframe\">\n",
       "  <thead>\n",
       "    <tr style=\"text-align: right;\">\n",
       "      <th></th>\n",
       "      <th>Алгоритм</th>\n",
       "      <th>Brier Loss</th>\n",
       "      <th>Log Loss</th>\n",
       "      <th>Precision</th>\n",
       "      <th>Recall</th>\n",
       "      <th>F1</th>\n",
       "      <th>Roc auc</th>\n",
       "    </tr>\n",
       "  </thead>\n",
       "  <tbody>\n",
       "    <tr>\n",
       "      <th>0</th>\n",
       "      <td>Logreg</td>\n",
       "      <td>0.0862762</td>\n",
       "      <td>0.302857</td>\n",
       "      <td>0.902655</td>\n",
       "      <td>0.894737</td>\n",
       "      <td>0.898678</td>\n",
       "      <td>0.903718</td>\n",
       "    </tr>\n",
       "    <tr>\n",
       "      <th>1</th>\n",
       "      <td>SVM</td>\n",
       "      <td>0.0870324</td>\n",
       "      <td>0.305245</td>\n",
       "      <td>0.872881</td>\n",
       "      <td>0.903509</td>\n",
       "      <td>0.887931</td>\n",
       "      <td>0.892231</td>\n",
       "    </tr>\n",
       "    <tr>\n",
       "      <th>2</th>\n",
       "      <td>Logreg + hist</td>\n",
       "      <td>0.0801693</td>\n",
       "      <td>0.286528</td>\n",
       "      <td>0.901786</td>\n",
       "      <td>0.885965</td>\n",
       "      <td>0.893805</td>\n",
       "      <td>0.899332</td>\n",
       "    </tr>\n",
       "    <tr>\n",
       "      <th>3</th>\n",
       "      <td>Logreg + Platt</td>\n",
       "      <td>0.0888145</td>\n",
       "      <td>0.311229</td>\n",
       "      <td>0.902655</td>\n",
       "      <td>0.894737</td>\n",
       "      <td>0.898678</td>\n",
       "      <td>0.903718</td>\n",
       "    </tr>\n",
       "    <tr>\n",
       "      <th>4</th>\n",
       "      <td>SVM + Platt</td>\n",
       "      <td>0.0887038</td>\n",
       "      <td>0.310862</td>\n",
       "      <td>0.902655</td>\n",
       "      <td>0.894737</td>\n",
       "      <td>0.898678</td>\n",
       "      <td>0.903718</td>\n",
       "    </tr>\n",
       "    <tr>\n",
       "      <th>5</th>\n",
       "      <td>SVM + hist</td>\n",
       "      <td>0.079732</td>\n",
       "      <td>0.284978</td>\n",
       "      <td>0.901786</td>\n",
       "      <td>0.885965</td>\n",
       "      <td>0.893805</td>\n",
       "      <td>0.899332</td>\n",
       "    </tr>\n",
       "  </tbody>\n",
       "</table>\n",
       "</div>"
      ],
      "text/plain": [
       "         Алгоритм Brier Loss  Log Loss Precision    Recall        F1   Roc auc\n",
       "0          Logreg  0.0862762  0.302857  0.902655  0.894737  0.898678  0.903718\n",
       "1             SVM  0.0870324  0.305245  0.872881  0.903509  0.887931  0.892231\n",
       "2   Logreg + hist  0.0801693  0.286528  0.901786  0.885965  0.893805  0.899332\n",
       "3  Logreg + Platt  0.0888145  0.311229  0.902655  0.894737  0.898678  0.903718\n",
       "4     SVM + Platt  0.0887038  0.310862  0.902655  0.894737  0.898678  0.903718\n",
       "5      SVM + hist   0.079732  0.284978  0.901786  0.885965  0.893805  0.899332"
      ]
     },
     "execution_count": 892,
     "metadata": {},
     "output_type": "execute_result"
    }
   ],
   "source": [
    "data"
   ]
  },
  {
   "cell_type": "markdown",
   "id": "af6c47ba-85cd-4938-af25-fd6000e87d53",
   "metadata": {},
   "source": [
    "При добавлении гистограммного стабилизатора к SVM, Brier loss, как и Log loss, ожидаемо падают, ровно как и при применении стабилизатора Платта к логистической регрессии."
   ]
  }
 ],
 "metadata": {
  "kernelspec": {
   "display_name": "Python 3",
   "language": "python",
   "name": "python3"
  },
  "language_info": {
   "codemirror_mode": {
    "name": "ipython",
    "version": 3
   },
   "file_extension": ".py",
   "mimetype": "text/x-python",
   "name": "python",
   "nbconvert_exporter": "python",
   "pygments_lexer": "ipython3",
   "version": "3.8.5"
  }
 },
 "nbformat": 4,
 "nbformat_minor": 5
}
