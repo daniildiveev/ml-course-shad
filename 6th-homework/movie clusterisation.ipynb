{
 "cells": [
  {
   "cell_type": "markdown",
   "id": "084a7801-24af-449a-a08a-598f65a0a76d",
   "metadata": {},
   "source": [
    "# Imports"
   ]
  },
  {
   "cell_type": "code",
   "execution_count": 1,
   "id": "ba3036ad-f2ff-4bc0-a516-db63f0ef91aa",
   "metadata": {
    "tags": []
   },
   "outputs": [
    {
     "name": "stderr",
     "output_type": "stream",
     "text": [
      "[nltk_data] Downloading package stopwords to /home/diveev/nltk_data...\n",
      "[nltk_data]   Package stopwords is already up-to-date!\n"
     ]
    }
   ],
   "source": [
    "from typing import List\n",
    "import json \n",
    "import re\n",
    "import pandas as pd\n",
    "import numpy as np\n",
    "from sklearn.feature_extraction.text import TfidfVectorizer\n",
    "from sklearn.cluster import KMeans, DBSCAN, AgglomerativeClustering\n",
    "from sklearn.experimental import enable_halving_search_cv\n",
    "from sklearn.model_selection import train_test_split\n",
    "from sklearn.metrics import silhouette_score\n",
    "import nltk\n",
    "nltk.download(\"stopwords\")\n",
    "from nltk.corpus import stopwords\n",
    "from pymystem3 import Mystem\n",
    "from tqdm.notebook import tqdm\n",
    "import nmslib"
   ]
  },
  {
   "cell_type": "markdown",
   "id": "0bdae106-a1f2-4162-826f-5042c60fd8bf",
   "metadata": {},
   "source": [
    "# Data loading"
   ]
  },
  {
   "cell_type": "code",
   "execution_count": 2,
   "id": "7f50fbe8-b5b5-4be8-9832-f7ea186955f1",
   "metadata": {
    "tags": []
   },
   "outputs": [],
   "source": [
    "data = pd.read_csv(\"../data/kp_films.csv\")\n",
    "data = data.dropna().reset_index().drop(columns='index')"
   ]
  },
  {
   "cell_type": "code",
   "execution_count": 3,
   "id": "6974dbdc-16bf-486f-b738-4033b222918d",
   "metadata": {
    "tags": []
   },
   "outputs": [
    {
     "data": {
      "text/html": [
       "<div>\n",
       "<style scoped>\n",
       "    .dataframe tbody tr th:only-of-type {\n",
       "        vertical-align: middle;\n",
       "    }\n",
       "\n",
       "    .dataframe tbody tr th {\n",
       "        vertical-align: top;\n",
       "    }\n",
       "\n",
       "    .dataframe thead th {\n",
       "        text-align: right;\n",
       "    }\n",
       "</style>\n",
       "<table border=\"1\" class=\"dataframe\">\n",
       "  <thead>\n",
       "    <tr style=\"text-align: right;\">\n",
       "      <th></th>\n",
       "      <th>kp_id</th>\n",
       "      <th>rating_kp</th>\n",
       "      <th>genres</th>\n",
       "      <th>description</th>\n",
       "    </tr>\n",
       "  </thead>\n",
       "  <tbody>\n",
       "    <tr>\n",
       "      <th>0</th>\n",
       "      <td>12819</td>\n",
       "      <td>7.70</td>\n",
       "      <td>['триллер' 'мелодрама' 'криминал']</td>\n",
       "      <td>Миллиардер Томас Краун, пресыщенный финансист,...</td>\n",
       "    </tr>\n",
       "    <tr>\n",
       "      <th>1</th>\n",
       "      <td>1260096</td>\n",
       "      <td>-1.00</td>\n",
       "      <td>['семейный' 'для' 'кино' 'ребенок']</td>\n",
       "      <td>Банда саранчи во главе с безжалостным Боссом о...</td>\n",
       "    </tr>\n",
       "    <tr>\n",
       "      <th>2</th>\n",
       "      <td>894673</td>\n",
       "      <td>4.40</td>\n",
       "      <td>['вестерн' 'иностранный' 'триллер' 'мистика' '...</td>\n",
       "      <td>В горах живёт обособленная община, возглавляем...</td>\n",
       "    </tr>\n",
       "    <tr>\n",
       "      <th>3</th>\n",
       "      <td>485364</td>\n",
       "      <td>6.06</td>\n",
       "      <td>['семейный' 'для' 'кино' 'короткометражный' 'р...</td>\n",
       "      <td>Фильм высмеивает тех, кто понимает трудовую ди...</td>\n",
       "    </tr>\n",
       "    <tr>\n",
       "      <th>4</th>\n",
       "      <td>1289632</td>\n",
       "      <td>6.40</td>\n",
       "      <td>['семейный' 'приключение' 'кино']</td>\n",
       "      <td>В скучном городке Линдсборо всё меняется, когд...</td>\n",
       "    </tr>\n",
       "    <tr>\n",
       "      <th>...</th>\n",
       "      <td>...</td>\n",
       "      <td>...</td>\n",
       "      <td>...</td>\n",
       "      <td>...</td>\n",
       "    </tr>\n",
       "    <tr>\n",
       "      <th>18494</th>\n",
       "      <td>806159</td>\n",
       "      <td>5.31</td>\n",
       "      <td>['семейный' 'аниме' 'приключение' 'фантастика'...</td>\n",
       "      <td>Сатоши готовится к новому турниру, где парню н...</td>\n",
       "    </tr>\n",
       "    <tr>\n",
       "      <th>18495</th>\n",
       "      <td>625381</td>\n",
       "      <td>6.40</td>\n",
       "      <td>['русский' 'мультфильм' 'для' 'ребенок' 'детск...</td>\n",
       "      <td>На нелепом и забавном мужчине по прозвищу Пара...</td>\n",
       "    </tr>\n",
       "    <tr>\n",
       "      <th>18496</th>\n",
       "      <td>4535755</td>\n",
       "      <td>-1.00</td>\n",
       "      <td>['семейный' 'мультфильм' 'иностранный' 'для' '...</td>\n",
       "      <td>Очаровательная сказка о маленьком лягушонке с ...</td>\n",
       "    </tr>\n",
       "    <tr>\n",
       "      <th>18497</th>\n",
       "      <td>1111361</td>\n",
       "      <td>6.60</td>\n",
       "      <td>['драма']</td>\n",
       "      <td>Криминальная драма о реальной истории жизни си...</td>\n",
       "    </tr>\n",
       "    <tr>\n",
       "      <th>18498</th>\n",
       "      <td>77660</td>\n",
       "      <td>7.20</td>\n",
       "      <td>['мелодрама' 'комедия']</td>\n",
       "      <td>История о бесшабашных приключениях двух заядлы...</td>\n",
       "    </tr>\n",
       "  </tbody>\n",
       "</table>\n",
       "<p>18499 rows × 4 columns</p>\n",
       "</div>"
      ],
      "text/plain": [
       "         kp_id  rating_kp                                             genres  \\\n",
       "0        12819       7.70                 ['триллер' 'мелодрама' 'криминал']   \n",
       "1      1260096      -1.00                ['семейный' 'для' 'кино' 'ребенок']   \n",
       "2       894673       4.40  ['вестерн' 'иностранный' 'триллер' 'мистика' '...   \n",
       "3       485364       6.06  ['семейный' 'для' 'кино' 'короткометражный' 'р...   \n",
       "4      1289632       6.40                  ['семейный' 'приключение' 'кино']   \n",
       "...        ...        ...                                                ...   \n",
       "18494   806159       5.31  ['семейный' 'аниме' 'приключение' 'фантастика'...   \n",
       "18495   625381       6.40  ['русский' 'мультфильм' 'для' 'ребенок' 'детск...   \n",
       "18496  4535755      -1.00  ['семейный' 'мультфильм' 'иностранный' 'для' '...   \n",
       "18497  1111361       6.60                                          ['драма']   \n",
       "18498    77660       7.20                            ['мелодрама' 'комедия']   \n",
       "\n",
       "                                             description  \n",
       "0      Миллиардер Томас Краун, пресыщенный финансист,...  \n",
       "1      Банда саранчи во главе с безжалостным Боссом о...  \n",
       "2      В горах живёт обособленная община, возглавляем...  \n",
       "3      Фильм высмеивает тех, кто понимает трудовую ди...  \n",
       "4      В скучном городке Линдсборо всё меняется, когд...  \n",
       "...                                                  ...  \n",
       "18494  Сатоши готовится к новому турниру, где парню н...  \n",
       "18495  На нелепом и забавном мужчине по прозвищу Пара...  \n",
       "18496  Очаровательная сказка о маленьком лягушонке с ...  \n",
       "18497  Криминальная драма о реальной истории жизни си...  \n",
       "18498  История о бесшабашных приключениях двух заядлы...  \n",
       "\n",
       "[18499 rows x 4 columns]"
      ]
     },
     "execution_count": 3,
     "metadata": {},
     "output_type": "execute_result"
    }
   ],
   "source": [
    "data"
   ]
  },
  {
   "cell_type": "markdown",
   "id": "c61f8edd-6552-414f-996e-9bae39a3c181",
   "metadata": {
    "tags": []
   },
   "source": [
    "# Data preprocessing"
   ]
  },
  {
   "cell_type": "markdown",
   "id": "f028a2d0-550d-430f-89ea-c3d5f9c4a9b3",
   "metadata": {},
   "source": [
    "## *Preprocessing genres*"
   ]
  },
  {
   "cell_type": "code",
   "execution_count": 4,
   "id": "2ea3a667-3d96-4a52-89ba-c0cae789cc18",
   "metadata": {
    "tags": []
   },
   "outputs": [],
   "source": [
    "genres = data.genres.to_list()\n",
    "\n",
    "for i in range(len(genres)):\n",
    "    genres[i] = genres[i].replace('[', '')\n",
    "    genres[i] = genres[i].replace(']', '')\n",
    "    genres[i] = genres[i].replace(',', '')\n",
    "    genres[i] = genres[i].replace(\"'\", '')\n",
    "    genres[i] = genres[i].split()"
   ]
  },
  {
   "cell_type": "code",
   "execution_count": 5,
   "id": "df1e622d-933f-481b-8db6-c8f7035319ac",
   "metadata": {
    "tags": []
   },
   "outputs": [],
   "source": [
    "genres_corpus = []\n",
    "\n",
    "for genres_list in genres:\n",
    "    genres_corpus += genres_list\n",
    "\n",
    "genres_corpus = set(genres_corpus)"
   ]
  },
  {
   "cell_type": "code",
   "execution_count": 6,
   "id": "ac6cbc6b-4344-4d94-9e86-e0e31da85962",
   "metadata": {
    "tags": []
   },
   "outputs": [],
   "source": [
    "genres_corpus = genres_corpus.difference(stopwords.words(\"russian\")) #Removing stopwords from genres"
   ]
  },
  {
   "cell_type": "code",
   "execution_count": 7,
   "id": "22f9e2fe-0d30-4b6b-9e20-096d0184aa42",
   "metadata": {
    "tags": []
   },
   "outputs": [],
   "source": [
    "for genre in genres_corpus:\n",
    "    data[genre] = [1 if genre in genres[i] else 0 for i in range(data.shape[0])] #One hot encoding genres"
   ]
  },
  {
   "cell_type": "code",
   "execution_count": 8,
   "id": "ccc5008f-843d-4307-86a0-06cda4153254",
   "metadata": {
    "tags": []
   },
   "outputs": [
    {
     "data": {
      "text/html": [
       "<div>\n",
       "<style scoped>\n",
       "    .dataframe tbody tr th:only-of-type {\n",
       "        vertical-align: middle;\n",
       "    }\n",
       "\n",
       "    .dataframe tbody tr th {\n",
       "        vertical-align: top;\n",
       "    }\n",
       "\n",
       "    .dataframe thead th {\n",
       "        text-align: right;\n",
       "    }\n",
       "</style>\n",
       "<table border=\"1\" class=\"dataframe\">\n",
       "  <thead>\n",
       "    <tr style=\"text-align: right;\">\n",
       "      <th></th>\n",
       "      <th>kp_id</th>\n",
       "      <th>rating_kp</th>\n",
       "      <th>genres</th>\n",
       "      <th>description</th>\n",
       "      <th>шоу</th>\n",
       "      <th>ток</th>\n",
       "      <th>кино</th>\n",
       "      <th>развлечение</th>\n",
       "      <th>музыкальный</th>\n",
       "      <th>спорт</th>\n",
       "      <th>...</th>\n",
       "      <th>научпоп</th>\n",
       "      <th>мюзикл</th>\n",
       "      <th>ссср</th>\n",
       "      <th>художественный</th>\n",
       "      <th>сериал</th>\n",
       "      <th>природа</th>\n",
       "      <th>фильм</th>\n",
       "      <th>юмор</th>\n",
       "      <th>приключение</th>\n",
       "      <th>комедия</th>\n",
       "    </tr>\n",
       "  </thead>\n",
       "  <tbody>\n",
       "    <tr>\n",
       "      <th>0</th>\n",
       "      <td>12819</td>\n",
       "      <td>7.70</td>\n",
       "      <td>['триллер' 'мелодрама' 'криминал']</td>\n",
       "      <td>Миллиардер Томас Краун, пресыщенный финансист,...</td>\n",
       "      <td>0</td>\n",
       "      <td>0</td>\n",
       "      <td>0</td>\n",
       "      <td>0</td>\n",
       "      <td>0</td>\n",
       "      <td>0</td>\n",
       "      <td>...</td>\n",
       "      <td>0</td>\n",
       "      <td>0</td>\n",
       "      <td>0</td>\n",
       "      <td>0</td>\n",
       "      <td>0</td>\n",
       "      <td>0</td>\n",
       "      <td>0</td>\n",
       "      <td>0</td>\n",
       "      <td>0</td>\n",
       "      <td>0</td>\n",
       "    </tr>\n",
       "    <tr>\n",
       "      <th>1</th>\n",
       "      <td>1260096</td>\n",
       "      <td>-1.00</td>\n",
       "      <td>['семейный' 'для' 'кино' 'ребенок']</td>\n",
       "      <td>Банда саранчи во главе с безжалостным Боссом о...</td>\n",
       "      <td>0</td>\n",
       "      <td>0</td>\n",
       "      <td>1</td>\n",
       "      <td>0</td>\n",
       "      <td>0</td>\n",
       "      <td>0</td>\n",
       "      <td>...</td>\n",
       "      <td>0</td>\n",
       "      <td>0</td>\n",
       "      <td>0</td>\n",
       "      <td>0</td>\n",
       "      <td>0</td>\n",
       "      <td>0</td>\n",
       "      <td>0</td>\n",
       "      <td>0</td>\n",
       "      <td>0</td>\n",
       "      <td>0</td>\n",
       "    </tr>\n",
       "    <tr>\n",
       "      <th>2</th>\n",
       "      <td>894673</td>\n",
       "      <td>4.40</td>\n",
       "      <td>['вестерн' 'иностранный' 'триллер' 'мистика' '...</td>\n",
       "      <td>В горах живёт обособленная община, возглавляем...</td>\n",
       "      <td>0</td>\n",
       "      <td>0</td>\n",
       "      <td>0</td>\n",
       "      <td>0</td>\n",
       "      <td>0</td>\n",
       "      <td>0</td>\n",
       "      <td>...</td>\n",
       "      <td>0</td>\n",
       "      <td>0</td>\n",
       "      <td>0</td>\n",
       "      <td>0</td>\n",
       "      <td>0</td>\n",
       "      <td>0</td>\n",
       "      <td>0</td>\n",
       "      <td>0</td>\n",
       "      <td>0</td>\n",
       "      <td>0</td>\n",
       "    </tr>\n",
       "    <tr>\n",
       "      <th>3</th>\n",
       "      <td>485364</td>\n",
       "      <td>6.06</td>\n",
       "      <td>['семейный' 'для' 'кино' 'короткометражный' 'р...</td>\n",
       "      <td>Фильм высмеивает тех, кто понимает трудовую ди...</td>\n",
       "      <td>0</td>\n",
       "      <td>0</td>\n",
       "      <td>1</td>\n",
       "      <td>0</td>\n",
       "      <td>0</td>\n",
       "      <td>0</td>\n",
       "      <td>...</td>\n",
       "      <td>0</td>\n",
       "      <td>0</td>\n",
       "      <td>0</td>\n",
       "      <td>0</td>\n",
       "      <td>0</td>\n",
       "      <td>0</td>\n",
       "      <td>0</td>\n",
       "      <td>0</td>\n",
       "      <td>0</td>\n",
       "      <td>0</td>\n",
       "    </tr>\n",
       "    <tr>\n",
       "      <th>4</th>\n",
       "      <td>1289632</td>\n",
       "      <td>6.40</td>\n",
       "      <td>['семейный' 'приключение' 'кино']</td>\n",
       "      <td>В скучном городке Линдсборо всё меняется, когд...</td>\n",
       "      <td>0</td>\n",
       "      <td>0</td>\n",
       "      <td>1</td>\n",
       "      <td>0</td>\n",
       "      <td>0</td>\n",
       "      <td>0</td>\n",
       "      <td>...</td>\n",
       "      <td>0</td>\n",
       "      <td>0</td>\n",
       "      <td>0</td>\n",
       "      <td>0</td>\n",
       "      <td>0</td>\n",
       "      <td>0</td>\n",
       "      <td>0</td>\n",
       "      <td>0</td>\n",
       "      <td>1</td>\n",
       "      <td>0</td>\n",
       "    </tr>\n",
       "    <tr>\n",
       "      <th>5</th>\n",
       "      <td>960385</td>\n",
       "      <td>6.30</td>\n",
       "      <td>['комедия']</td>\n",
       "      <td>С самого начала отношений страстные любовники ...</td>\n",
       "      <td>0</td>\n",
       "      <td>0</td>\n",
       "      <td>0</td>\n",
       "      <td>0</td>\n",
       "      <td>0</td>\n",
       "      <td>0</td>\n",
       "      <td>...</td>\n",
       "      <td>0</td>\n",
       "      <td>0</td>\n",
       "      <td>0</td>\n",
       "      <td>0</td>\n",
       "      <td>0</td>\n",
       "      <td>0</td>\n",
       "      <td>0</td>\n",
       "      <td>0</td>\n",
       "      <td>0</td>\n",
       "      <td>1</td>\n",
       "    </tr>\n",
       "    <tr>\n",
       "      <th>6</th>\n",
       "      <td>43127</td>\n",
       "      <td>7.30</td>\n",
       "      <td>['драма' 'советский' 'военный' 'ссср']</td>\n",
       "      <td>Советский художественный фильм, рассказывающий...</td>\n",
       "      <td>0</td>\n",
       "      <td>0</td>\n",
       "      <td>0</td>\n",
       "      <td>0</td>\n",
       "      <td>0</td>\n",
       "      <td>0</td>\n",
       "      <td>...</td>\n",
       "      <td>0</td>\n",
       "      <td>0</td>\n",
       "      <td>1</td>\n",
       "      <td>0</td>\n",
       "      <td>0</td>\n",
       "      <td>0</td>\n",
       "      <td>0</td>\n",
       "      <td>0</td>\n",
       "      <td>0</td>\n",
       "      <td>0</td>\n",
       "    </tr>\n",
       "    <tr>\n",
       "      <th>7</th>\n",
       "      <td>331881</td>\n",
       "      <td>5.30</td>\n",
       "      <td>['ссср' 'советский' 'комедия']</td>\n",
       "      <td>Если привычная жизнь уже порядком надоела, а м...</td>\n",
       "      <td>0</td>\n",
       "      <td>0</td>\n",
       "      <td>0</td>\n",
       "      <td>0</td>\n",
       "      <td>0</td>\n",
       "      <td>0</td>\n",
       "      <td>...</td>\n",
       "      <td>0</td>\n",
       "      <td>0</td>\n",
       "      <td>1</td>\n",
       "      <td>0</td>\n",
       "      <td>0</td>\n",
       "      <td>0</td>\n",
       "      <td>0</td>\n",
       "      <td>0</td>\n",
       "      <td>0</td>\n",
       "      <td>1</td>\n",
       "    </tr>\n",
       "    <tr>\n",
       "      <th>8</th>\n",
       "      <td>259905</td>\n",
       "      <td>-1.00</td>\n",
       "      <td>['русский' 'советский' 'мультфильм' 'для' 'реб...</td>\n",
       "      <td>Очаровательный щенок Боб больше всего любит сл...</td>\n",
       "      <td>0</td>\n",
       "      <td>0</td>\n",
       "      <td>0</td>\n",
       "      <td>0</td>\n",
       "      <td>0</td>\n",
       "      <td>0</td>\n",
       "      <td>...</td>\n",
       "      <td>0</td>\n",
       "      <td>0</td>\n",
       "      <td>0</td>\n",
       "      <td>0</td>\n",
       "      <td>0</td>\n",
       "      <td>0</td>\n",
       "      <td>0</td>\n",
       "      <td>0</td>\n",
       "      <td>0</td>\n",
       "      <td>0</td>\n",
       "    </tr>\n",
       "    <tr>\n",
       "      <th>9</th>\n",
       "      <td>487544</td>\n",
       "      <td>6.83</td>\n",
       "      <td>['русский' 'семейный' 'документальный' 'познав...</td>\n",
       "      <td>Режиссер Валерий Бабич, автор исторических про...</td>\n",
       "      <td>0</td>\n",
       "      <td>0</td>\n",
       "      <td>1</td>\n",
       "      <td>0</td>\n",
       "      <td>0</td>\n",
       "      <td>0</td>\n",
       "      <td>...</td>\n",
       "      <td>0</td>\n",
       "      <td>0</td>\n",
       "      <td>0</td>\n",
       "      <td>0</td>\n",
       "      <td>0</td>\n",
       "      <td>0</td>\n",
       "      <td>0</td>\n",
       "      <td>0</td>\n",
       "      <td>0</td>\n",
       "      <td>0</td>\n",
       "    </tr>\n",
       "  </tbody>\n",
       "</table>\n",
       "<p>10 rows × 98 columns</p>\n",
       "</div>"
      ],
      "text/plain": [
       "     kp_id  rating_kp                                             genres  \\\n",
       "0    12819       7.70                 ['триллер' 'мелодрама' 'криминал']   \n",
       "1  1260096      -1.00                ['семейный' 'для' 'кино' 'ребенок']   \n",
       "2   894673       4.40  ['вестерн' 'иностранный' 'триллер' 'мистика' '...   \n",
       "3   485364       6.06  ['семейный' 'для' 'кино' 'короткометражный' 'р...   \n",
       "4  1289632       6.40                  ['семейный' 'приключение' 'кино']   \n",
       "5   960385       6.30                                        ['комедия']   \n",
       "6    43127       7.30             ['драма' 'советский' 'военный' 'ссср']   \n",
       "7   331881       5.30                     ['ссср' 'советский' 'комедия']   \n",
       "8   259905      -1.00  ['русский' 'советский' 'мультфильм' 'для' 'реб...   \n",
       "9   487544       6.83  ['русский' 'семейный' 'документальный' 'познав...   \n",
       "\n",
       "                                         description  шоу  ток  кино  \\\n",
       "0  Миллиардер Томас Краун, пресыщенный финансист,...    0    0     0   \n",
       "1  Банда саранчи во главе с безжалостным Боссом о...    0    0     1   \n",
       "2  В горах живёт обособленная община, возглавляем...    0    0     0   \n",
       "3  Фильм высмеивает тех, кто понимает трудовую ди...    0    0     1   \n",
       "4  В скучном городке Линдсборо всё меняется, когд...    0    0     1   \n",
       "5  С самого начала отношений страстные любовники ...    0    0     0   \n",
       "6  Советский художественный фильм, рассказывающий...    0    0     0   \n",
       "7  Если привычная жизнь уже порядком надоела, а м...    0    0     0   \n",
       "8  Очаровательный щенок Боб больше всего любит сл...    0    0     0   \n",
       "9  Режиссер Валерий Бабич, автор исторических про...    0    0     1   \n",
       "\n",
       "   развлечение  музыкальный  спорт  ...  научпоп  мюзикл  ссср  \\\n",
       "0            0            0      0  ...        0       0     0   \n",
       "1            0            0      0  ...        0       0     0   \n",
       "2            0            0      0  ...        0       0     0   \n",
       "3            0            0      0  ...        0       0     0   \n",
       "4            0            0      0  ...        0       0     0   \n",
       "5            0            0      0  ...        0       0     0   \n",
       "6            0            0      0  ...        0       0     1   \n",
       "7            0            0      0  ...        0       0     1   \n",
       "8            0            0      0  ...        0       0     0   \n",
       "9            0            0      0  ...        0       0     0   \n",
       "\n",
       "   художественный  сериал  природа  фильм  юмор  приключение  комедия  \n",
       "0               0       0        0      0     0            0        0  \n",
       "1               0       0        0      0     0            0        0  \n",
       "2               0       0        0      0     0            0        0  \n",
       "3               0       0        0      0     0            0        0  \n",
       "4               0       0        0      0     0            1        0  \n",
       "5               0       0        0      0     0            0        1  \n",
       "6               0       0        0      0     0            0        0  \n",
       "7               0       0        0      0     0            0        1  \n",
       "8               0       0        0      0     0            0        0  \n",
       "9               0       0        0      0     0            0        0  \n",
       "\n",
       "[10 rows x 98 columns]"
      ]
     },
     "execution_count": 8,
     "metadata": {},
     "output_type": "execute_result"
    }
   ],
   "source": [
    "data.head(10)"
   ]
  },
  {
   "cell_type": "markdown",
   "id": "e15027be-8326-4278-8f04-f044530fc3f4",
   "metadata": {},
   "source": [
    "## *Filtering genres*"
   ]
  },
  {
   "cell_type": "code",
   "execution_count": 9,
   "id": "0291e290-5ae7-4ab7-96d3-b136ca38ad9e",
   "metadata": {},
   "outputs": [],
   "source": [
    "#Drop the least appearing genres\n",
    "\n",
    "genre_to_num = {genre : (data[genre] != 0).sum() for genre in genres_corpus if (data[genre] != 0).sum() > 2000}\n",
    "one_hot_encoded_genres = data[list(genre_to_num.keys())]\n",
    "descriptions = data[~(one_hot_encoded_genres==0).all(axis=1)].description\n",
    "one_hot_encoded_genres = one_hot_encoded_genres.loc[~(one_hot_encoded_genres==0).all(axis=1)].reset_index().drop(columns='index')"
   ]
  },
  {
   "cell_type": "code",
   "execution_count": 10,
   "id": "0e0ef4c4-c6b3-4f79-9af1-d63a7beaac23",
   "metadata": {},
   "outputs": [
    {
     "data": {
      "text/plain": [
       "{'ребенок': 2361,\n",
       " 'зарубежный': 4067,\n",
       " 'мелодрама': 3646,\n",
       " 'триллер': 2776,\n",
       " 'семейный': 2209,\n",
       " 'боевик': 2079,\n",
       " 'драма': 7091,\n",
       " 'мультфильм': 2635,\n",
       " 'русский': 3698,\n",
       " 'иностранный': 2937,\n",
       " 'приключение': 2200,\n",
       " 'комедия': 4494}"
      ]
     },
     "execution_count": 10,
     "metadata": {},
     "output_type": "execute_result"
    }
   ],
   "source": [
    "genre_to_num"
   ]
  },
  {
   "cell_type": "code",
   "execution_count": 11,
   "id": "2b280f91-f8a7-4b04-9bd2-a2e7c630b689",
   "metadata": {},
   "outputs": [
    {
     "data": {
      "text/html": [
       "<div>\n",
       "<style scoped>\n",
       "    .dataframe tbody tr th:only-of-type {\n",
       "        vertical-align: middle;\n",
       "    }\n",
       "\n",
       "    .dataframe tbody tr th {\n",
       "        vertical-align: top;\n",
       "    }\n",
       "\n",
       "    .dataframe thead th {\n",
       "        text-align: right;\n",
       "    }\n",
       "</style>\n",
       "<table border=\"1\" class=\"dataframe\">\n",
       "  <thead>\n",
       "    <tr style=\"text-align: right;\">\n",
       "      <th></th>\n",
       "      <th>ребенок</th>\n",
       "      <th>зарубежный</th>\n",
       "      <th>мелодрама</th>\n",
       "      <th>триллер</th>\n",
       "      <th>семейный</th>\n",
       "      <th>боевик</th>\n",
       "      <th>драма</th>\n",
       "      <th>мультфильм</th>\n",
       "      <th>русский</th>\n",
       "      <th>иностранный</th>\n",
       "      <th>приключение</th>\n",
       "      <th>комедия</th>\n",
       "    </tr>\n",
       "  </thead>\n",
       "  <tbody>\n",
       "    <tr>\n",
       "      <th>0</th>\n",
       "      <td>0</td>\n",
       "      <td>0</td>\n",
       "      <td>1</td>\n",
       "      <td>1</td>\n",
       "      <td>0</td>\n",
       "      <td>0</td>\n",
       "      <td>0</td>\n",
       "      <td>0</td>\n",
       "      <td>0</td>\n",
       "      <td>0</td>\n",
       "      <td>0</td>\n",
       "      <td>0</td>\n",
       "    </tr>\n",
       "    <tr>\n",
       "      <th>1</th>\n",
       "      <td>1</td>\n",
       "      <td>0</td>\n",
       "      <td>0</td>\n",
       "      <td>0</td>\n",
       "      <td>1</td>\n",
       "      <td>0</td>\n",
       "      <td>0</td>\n",
       "      <td>0</td>\n",
       "      <td>0</td>\n",
       "      <td>0</td>\n",
       "      <td>0</td>\n",
       "      <td>0</td>\n",
       "    </tr>\n",
       "    <tr>\n",
       "      <th>2</th>\n",
       "      <td>0</td>\n",
       "      <td>1</td>\n",
       "      <td>0</td>\n",
       "      <td>1</td>\n",
       "      <td>0</td>\n",
       "      <td>0</td>\n",
       "      <td>0</td>\n",
       "      <td>0</td>\n",
       "      <td>0</td>\n",
       "      <td>1</td>\n",
       "      <td>0</td>\n",
       "      <td>0</td>\n",
       "    </tr>\n",
       "    <tr>\n",
       "      <th>3</th>\n",
       "      <td>1</td>\n",
       "      <td>0</td>\n",
       "      <td>0</td>\n",
       "      <td>0</td>\n",
       "      <td>1</td>\n",
       "      <td>0</td>\n",
       "      <td>0</td>\n",
       "      <td>0</td>\n",
       "      <td>0</td>\n",
       "      <td>0</td>\n",
       "      <td>0</td>\n",
       "      <td>0</td>\n",
       "    </tr>\n",
       "    <tr>\n",
       "      <th>4</th>\n",
       "      <td>0</td>\n",
       "      <td>0</td>\n",
       "      <td>0</td>\n",
       "      <td>0</td>\n",
       "      <td>1</td>\n",
       "      <td>0</td>\n",
       "      <td>0</td>\n",
       "      <td>0</td>\n",
       "      <td>0</td>\n",
       "      <td>0</td>\n",
       "      <td>1</td>\n",
       "      <td>0</td>\n",
       "    </tr>\n",
       "    <tr>\n",
       "      <th>...</th>\n",
       "      <td>...</td>\n",
       "      <td>...</td>\n",
       "      <td>...</td>\n",
       "      <td>...</td>\n",
       "      <td>...</td>\n",
       "      <td>...</td>\n",
       "      <td>...</td>\n",
       "      <td>...</td>\n",
       "      <td>...</td>\n",
       "      <td>...</td>\n",
       "      <td>...</td>\n",
       "      <td>...</td>\n",
       "    </tr>\n",
       "    <tr>\n",
       "      <th>17684</th>\n",
       "      <td>0</td>\n",
       "      <td>1</td>\n",
       "      <td>0</td>\n",
       "      <td>0</td>\n",
       "      <td>1</td>\n",
       "      <td>0</td>\n",
       "      <td>0</td>\n",
       "      <td>0</td>\n",
       "      <td>0</td>\n",
       "      <td>0</td>\n",
       "      <td>1</td>\n",
       "      <td>0</td>\n",
       "    </tr>\n",
       "    <tr>\n",
       "      <th>17685</th>\n",
       "      <td>1</td>\n",
       "      <td>0</td>\n",
       "      <td>0</td>\n",
       "      <td>0</td>\n",
       "      <td>0</td>\n",
       "      <td>0</td>\n",
       "      <td>0</td>\n",
       "      <td>1</td>\n",
       "      <td>1</td>\n",
       "      <td>0</td>\n",
       "      <td>0</td>\n",
       "      <td>0</td>\n",
       "    </tr>\n",
       "    <tr>\n",
       "      <th>17686</th>\n",
       "      <td>1</td>\n",
       "      <td>1</td>\n",
       "      <td>0</td>\n",
       "      <td>0</td>\n",
       "      <td>1</td>\n",
       "      <td>0</td>\n",
       "      <td>0</td>\n",
       "      <td>1</td>\n",
       "      <td>0</td>\n",
       "      <td>1</td>\n",
       "      <td>0</td>\n",
       "      <td>0</td>\n",
       "    </tr>\n",
       "    <tr>\n",
       "      <th>17687</th>\n",
       "      <td>0</td>\n",
       "      <td>0</td>\n",
       "      <td>0</td>\n",
       "      <td>0</td>\n",
       "      <td>0</td>\n",
       "      <td>0</td>\n",
       "      <td>1</td>\n",
       "      <td>0</td>\n",
       "      <td>0</td>\n",
       "      <td>0</td>\n",
       "      <td>0</td>\n",
       "      <td>0</td>\n",
       "    </tr>\n",
       "    <tr>\n",
       "      <th>17688</th>\n",
       "      <td>0</td>\n",
       "      <td>0</td>\n",
       "      <td>1</td>\n",
       "      <td>0</td>\n",
       "      <td>0</td>\n",
       "      <td>0</td>\n",
       "      <td>0</td>\n",
       "      <td>0</td>\n",
       "      <td>0</td>\n",
       "      <td>0</td>\n",
       "      <td>0</td>\n",
       "      <td>1</td>\n",
       "    </tr>\n",
       "  </tbody>\n",
       "</table>\n",
       "<p>17689 rows × 12 columns</p>\n",
       "</div>"
      ],
      "text/plain": [
       "       ребенок  зарубежный  мелодрама  триллер  семейный  боевик  драма  \\\n",
       "0            0           0          1        1         0       0      0   \n",
       "1            1           0          0        0         1       0      0   \n",
       "2            0           1          0        1         0       0      0   \n",
       "3            1           0          0        0         1       0      0   \n",
       "4            0           0          0        0         1       0      0   \n",
       "...        ...         ...        ...      ...       ...     ...    ...   \n",
       "17684        0           1          0        0         1       0      0   \n",
       "17685        1           0          0        0         0       0      0   \n",
       "17686        1           1          0        0         1       0      0   \n",
       "17687        0           0          0        0         0       0      1   \n",
       "17688        0           0          1        0         0       0      0   \n",
       "\n",
       "       мультфильм  русский  иностранный  приключение  комедия  \n",
       "0               0        0            0            0        0  \n",
       "1               0        0            0            0        0  \n",
       "2               0        0            1            0        0  \n",
       "3               0        0            0            0        0  \n",
       "4               0        0            0            1        0  \n",
       "...           ...      ...          ...          ...      ...  \n",
       "17684           0        0            0            1        0  \n",
       "17685           1        1            0            0        0  \n",
       "17686           1        0            1            0        0  \n",
       "17687           0        0            0            0        0  \n",
       "17688           0        0            0            0        1  \n",
       "\n",
       "[17689 rows x 12 columns]"
      ]
     },
     "execution_count": 11,
     "metadata": {},
     "output_type": "execute_result"
    }
   ],
   "source": [
    "one_hot_encoded_genres"
   ]
  },
  {
   "cell_type": "markdown",
   "id": "e5d36eb0-643f-4ee1-8100-218921a8a2e7",
   "metadata": {},
   "source": [
    "## *Preprocessing and encoding descriptions*"
   ]
  },
  {
   "cell_type": "code",
   "execution_count": 12,
   "id": "71f216e0-c726-4651-ba9c-685a6eb8ea4a",
   "metadata": {},
   "outputs": [],
   "source": [
    "def normalize_text(strings:List[str]) -> List[str]:\n",
    "    normalized = []\n",
    "    \n",
    "    for string in tqdm(strings, desc='Normalizing texts'):\n",
    "        string = re.findall(r\"\\w+\", str(string))\n",
    "        string = \" \".join(string)\n",
    "        string = re.sub(r\"\\s+\", \" \", string)\n",
    "        string = string.lower()\n",
    "        \n",
    "        normalized.append(string)\n",
    "        \n",
    "    return normalized"
   ]
  },
  {
   "cell_type": "code",
   "execution_count": 13,
   "id": "388d8169-58b1-46d6-bca7-d57f5032d3ed",
   "metadata": {},
   "outputs": [],
   "source": [
    "def filter_stopwords(strings:List[str]) -> List[str]:\n",
    "    filtered = []\n",
    "    \n",
    "    for string in tqdm(strings, desc='Filtering stopwords'):\n",
    "        words = string.split()\n",
    "        words = [w for w in words if w not in stopwords.words(\"russian\")]\n",
    "        string = \" \".join(words)\n",
    "        \n",
    "        filtered.append(string)\n",
    "        \n",
    "    return filtered"
   ]
  },
  {
   "cell_type": "code",
   "execution_count": 14,
   "id": "436c1f1b-da38-4224-9682-cb7c2dc82bee",
   "metadata": {},
   "outputs": [],
   "source": [
    "def lemmatize_words(strings:List[str]) -> List[str]:\n",
    "    lemmatized = []\n",
    "    stem = Mystem()\n",
    "    \n",
    "    for string in tqdm(strings, desc='Lemmatizing'):\n",
    "        lemmas = stem.lemmatize(string)\n",
    "        lemmas[-1] = lemmas[-1].replace(\"\\n\", \"\")\n",
    "        string = ''.join(lemmas)\n",
    "        \n",
    "        lemmatized.append(string)\n",
    "        \n",
    "    return lemmatized"
   ]
  },
  {
   "cell_type": "code",
   "execution_count": 15,
   "id": "0e7f8c3c-bfb7-489b-b99d-983e8e514be9",
   "metadata": {},
   "outputs": [],
   "source": [
    "def preprocessing_pipeline(strings:List[str]) -> List[str]:\n",
    "    strings = normalize_text(strings)\n",
    "    strings = filter_stopwords(strings)\n",
    "    strings = lemmatize_words(strings)\n",
    "    \n",
    "    return strings"
   ]
  },
  {
   "cell_type": "code",
   "execution_count": 16,
   "id": "e95033dd-aecb-49dc-8a27-5677bd6ce113",
   "metadata": {
    "tags": []
   },
   "outputs": [
    {
     "data": {
      "application/vnd.jupyter.widget-view+json": {
       "model_id": "444c75bf337949359c5ee7ba95b2ecf3",
       "version_major": 2,
       "version_minor": 0
      },
      "text/plain": [
       "Normalizing texts:   0%|          | 0/17689 [00:00<?, ?it/s]"
      ]
     },
     "metadata": {},
     "output_type": "display_data"
    },
    {
     "data": {
      "application/vnd.jupyter.widget-view+json": {
       "model_id": "982453330d1b4d73970302275b8678ea",
       "version_major": 2,
       "version_minor": 0
      },
      "text/plain": [
       "Filtering stopwords:   0%|          | 0/17689 [00:00<?, ?it/s]"
      ]
     },
     "metadata": {},
     "output_type": "display_data"
    },
    {
     "data": {
      "application/vnd.jupyter.widget-view+json": {
       "model_id": "f00bdc1bba374d07ae7078b92f0dd1c5",
       "version_major": 2,
       "version_minor": 0
      },
      "text/plain": [
       "Lemmatizing:   0%|          | 0/17689 [00:00<?, ?it/s]"
      ]
     },
     "metadata": {},
     "output_type": "display_data"
    }
   ],
   "source": [
    "corpus = preprocessing_pipeline(descriptions)"
   ]
  },
  {
   "cell_type": "code",
   "execution_count": 17,
   "id": "be4b297f-4bd9-4de0-abe5-25e214e1a3df",
   "metadata": {},
   "outputs": [],
   "source": [
    "id_to_text = {i : corpus[i] for i in range(len(corpus))}"
   ]
  },
  {
   "cell_type": "code",
   "execution_count": 18,
   "id": "4bd1d345-e74e-48e7-96b0-ff14f33d5c94",
   "metadata": {},
   "outputs": [],
   "source": [
    "with open(\"../data/movie_descriptions.json\", \"w\") as f:\n",
    "    f.write(json.dumps(id_to_text))"
   ]
  },
  {
   "cell_type": "code",
   "execution_count": 19,
   "id": "d520f479-8fee-4579-961b-98ac98ead415",
   "metadata": {},
   "outputs": [],
   "source": [
    "with open(\"../data/movie_descriptions.json\") as f:\n",
    "    data = json.loads(f.read())\n",
    "descriptions = list(data.values())"
   ]
  },
  {
   "cell_type": "code",
   "execution_count": 20,
   "id": "bfb1f932-5fcb-426f-a009-7d7ae5d04e4d",
   "metadata": {},
   "outputs": [],
   "source": [
    "vectorizer = TfidfVectorizer()\n",
    "corpus = vectorizer.fit_transform(descriptions)"
   ]
  },
  {
   "cell_type": "code",
   "execution_count": 21,
   "id": "00bdcaba-c133-4cf5-a044-857d12a18192",
   "metadata": {},
   "outputs": [
    {
     "data": {
      "text/plain": [
       "<17689x50711 sparse matrix of type '<class 'numpy.float64'>'\n",
       "\twith 1030740 stored elements in Compressed Sparse Row format>"
      ]
     },
     "execution_count": 21,
     "metadata": {},
     "output_type": "execute_result"
    }
   ],
   "source": [
    "corpus"
   ]
  },
  {
   "cell_type": "markdown",
   "id": "1836a46c-f02f-4e85-bf86-31493d83cd4b",
   "metadata": {},
   "source": [
    "## *Creating labels for descriptions*"
   ]
  },
  {
   "cell_type": "code",
   "execution_count": 22,
   "id": "c2ec5c81-221c-419c-92a6-abf80bbc7a47",
   "metadata": {},
   "outputs": [],
   "source": [
    "labels = one_hot_encoded_genres.apply(lambda x : np.where(x != 0)[0][0], axis=1) #just take first non-zero value of a row as a label"
   ]
  },
  {
   "cell_type": "code",
   "execution_count": 23,
   "id": "dd8f46ad-bd2e-4dd0-9d18-ed6ffbabe59e",
   "metadata": {},
   "outputs": [
    {
     "data": {
      "text/plain": [
       "0        2\n",
       "1        0\n",
       "2        1\n",
       "3        0\n",
       "4        4\n",
       "        ..\n",
       "17684    1\n",
       "17685    0\n",
       "17686    0\n",
       "17687    6\n",
       "17688    2\n",
       "Length: 17689, dtype: int64"
      ]
     },
     "execution_count": 23,
     "metadata": {},
     "output_type": "execute_result"
    }
   ],
   "source": [
    "labels"
   ]
  },
  {
   "cell_type": "markdown",
   "id": "387e7521-3d69-4127-ac31-e7b3016bec4f",
   "metadata": {},
   "source": [
    "# Fitting and evaluating models"
   ]
  },
  {
   "cell_type": "markdown",
   "id": "3ca142d8-98c4-474c-97df-6be394de4e59",
   "metadata": {},
   "source": [
    "## Splitting data for train and test"
   ]
  },
  {
   "cell_type": "code",
   "execution_count": 24,
   "id": "b629e806-4088-48cf-8ad3-3ab19e666f34",
   "metadata": {},
   "outputs": [],
   "source": [
    "x_train, x_test, y_train, y_test = train_test_split(corpus, labels,\n",
    "                                                    random_state=42,\n",
    "                                                    test_size=0.1, shuffle=True)"
   ]
  },
  {
   "cell_type": "code",
   "execution_count": 25,
   "id": "ab69ae8f-be46-40a2-a9d7-ea0794b3309f",
   "metadata": {},
   "outputs": [
    {
     "name": "stdout",
     "output_type": "stream",
     "text": [
      "(15920, 50711) (1769, 50711)\n"
     ]
    }
   ],
   "source": [
    "print(x_train.shape, x_test.shape)"
   ]
  },
  {
   "cell_type": "markdown",
   "id": "01c939f5-32e8-4d1f-9a41-df1896d8086f",
   "metadata": {},
   "source": [
    "## KMeans"
   ]
  },
  {
   "cell_type": "markdown",
   "id": "f7cc7752-ca91-4c95-9eca-59cae0ce10ef",
   "metadata": {},
   "source": [
    "### *Fitting model*"
   ]
  },
  {
   "cell_type": "code",
   "execution_count": 26,
   "id": "ed67dfe6-c8d9-43aa-97fa-5525d6488625",
   "metadata": {},
   "outputs": [],
   "source": [
    "n_clusters = labels.nunique()\n",
    "kmeans = KMeans(n_clusters=n_clusters)"
   ]
  },
  {
   "cell_type": "code",
   "execution_count": 27,
   "id": "59ba3341-b480-4fc8-bd18-27a3d53c11e9",
   "metadata": {},
   "outputs": [
    {
     "data": {
      "text/html": [
       "<style>#sk-container-id-1 {color: black;background-color: white;}#sk-container-id-1 pre{padding: 0;}#sk-container-id-1 div.sk-toggleable {background-color: white;}#sk-container-id-1 label.sk-toggleable__label {cursor: pointer;display: block;width: 100%;margin-bottom: 0;padding: 0.3em;box-sizing: border-box;text-align: center;}#sk-container-id-1 label.sk-toggleable__label-arrow:before {content: \"▸\";float: left;margin-right: 0.25em;color: #696969;}#sk-container-id-1 label.sk-toggleable__label-arrow:hover:before {color: black;}#sk-container-id-1 div.sk-estimator:hover label.sk-toggleable__label-arrow:before {color: black;}#sk-container-id-1 div.sk-toggleable__content {max-height: 0;max-width: 0;overflow: hidden;text-align: left;background-color: #f0f8ff;}#sk-container-id-1 div.sk-toggleable__content pre {margin: 0.2em;color: black;border-radius: 0.25em;background-color: #f0f8ff;}#sk-container-id-1 input.sk-toggleable__control:checked~div.sk-toggleable__content {max-height: 200px;max-width: 100%;overflow: auto;}#sk-container-id-1 input.sk-toggleable__control:checked~label.sk-toggleable__label-arrow:before {content: \"▾\";}#sk-container-id-1 div.sk-estimator input.sk-toggleable__control:checked~label.sk-toggleable__label {background-color: #d4ebff;}#sk-container-id-1 div.sk-label input.sk-toggleable__control:checked~label.sk-toggleable__label {background-color: #d4ebff;}#sk-container-id-1 input.sk-hidden--visually {border: 0;clip: rect(1px 1px 1px 1px);clip: rect(1px, 1px, 1px, 1px);height: 1px;margin: -1px;overflow: hidden;padding: 0;position: absolute;width: 1px;}#sk-container-id-1 div.sk-estimator {font-family: monospace;background-color: #f0f8ff;border: 1px dotted black;border-radius: 0.25em;box-sizing: border-box;margin-bottom: 0.5em;}#sk-container-id-1 div.sk-estimator:hover {background-color: #d4ebff;}#sk-container-id-1 div.sk-parallel-item::after {content: \"\";width: 100%;border-bottom: 1px solid gray;flex-grow: 1;}#sk-container-id-1 div.sk-label:hover label.sk-toggleable__label {background-color: #d4ebff;}#sk-container-id-1 div.sk-serial::before {content: \"\";position: absolute;border-left: 1px solid gray;box-sizing: border-box;top: 0;bottom: 0;left: 50%;z-index: 0;}#sk-container-id-1 div.sk-serial {display: flex;flex-direction: column;align-items: center;background-color: white;padding-right: 0.2em;padding-left: 0.2em;position: relative;}#sk-container-id-1 div.sk-item {position: relative;z-index: 1;}#sk-container-id-1 div.sk-parallel {display: flex;align-items: stretch;justify-content: center;background-color: white;position: relative;}#sk-container-id-1 div.sk-item::before, #sk-container-id-1 div.sk-parallel-item::before {content: \"\";position: absolute;border-left: 1px solid gray;box-sizing: border-box;top: 0;bottom: 0;left: 50%;z-index: -1;}#sk-container-id-1 div.sk-parallel-item {display: flex;flex-direction: column;z-index: 1;position: relative;background-color: white;}#sk-container-id-1 div.sk-parallel-item:first-child::after {align-self: flex-end;width: 50%;}#sk-container-id-1 div.sk-parallel-item:last-child::after {align-self: flex-start;width: 50%;}#sk-container-id-1 div.sk-parallel-item:only-child::after {width: 0;}#sk-container-id-1 div.sk-dashed-wrapped {border: 1px dashed gray;margin: 0 0.4em 0.5em 0.4em;box-sizing: border-box;padding-bottom: 0.4em;background-color: white;}#sk-container-id-1 div.sk-label label {font-family: monospace;font-weight: bold;display: inline-block;line-height: 1.2em;}#sk-container-id-1 div.sk-label-container {text-align: center;}#sk-container-id-1 div.sk-container {/* jupyter's `normalize.less` sets `[hidden] { display: none; }` but bootstrap.min.css set `[hidden] { display: none !important; }` so we also need the `!important` here to be able to override the default hidden behavior on the sphinx rendered scikit-learn.org. See: https://github.com/scikit-learn/scikit-learn/issues/21755 */display: inline-block !important;position: relative;}#sk-container-id-1 div.sk-text-repr-fallback {display: none;}</style><div id=\"sk-container-id-1\" class=\"sk-top-container\"><div class=\"sk-text-repr-fallback\"><pre>KMeans(n_clusters=12)</pre><b>In a Jupyter environment, please rerun this cell to show the HTML representation or trust the notebook. <br />On GitHub, the HTML representation is unable to render, please try loading this page with nbviewer.org.</b></div><div class=\"sk-container\" hidden><div class=\"sk-item\"><div class=\"sk-estimator sk-toggleable\"><input class=\"sk-toggleable__control sk-hidden--visually\" id=\"sk-estimator-id-1\" type=\"checkbox\" checked><label for=\"sk-estimator-id-1\" class=\"sk-toggleable__label sk-toggleable__label-arrow\">KMeans</label><div class=\"sk-toggleable__content\"><pre>KMeans(n_clusters=12)</pre></div></div></div></div></div>"
      ],
      "text/plain": [
       "KMeans(n_clusters=12)"
      ]
     },
     "execution_count": 27,
     "metadata": {},
     "output_type": "execute_result"
    }
   ],
   "source": [
    "kmeans.fit(x_train)"
   ]
  },
  {
   "cell_type": "markdown",
   "id": "ef8886db-4622-4bd9-a2d1-2451777990ed",
   "metadata": {
    "tags": []
   },
   "source": [
    "### *Evaluating model*"
   ]
  },
  {
   "cell_type": "code",
   "execution_count": 28,
   "id": "cc053a89-25fa-4e80-8286-f224312a46fe",
   "metadata": {},
   "outputs": [],
   "source": [
    "preds = kmeans.predict(x_test)"
   ]
  },
  {
   "cell_type": "code",
   "execution_count": 29,
   "id": "719d6dac-e082-4175-8285-3d0a4ed53ccb",
   "metadata": {},
   "outputs": [
    {
     "data": {
      "text/plain": [
       "-0.2411829213324872"
      ]
     },
     "execution_count": 29,
     "metadata": {},
     "output_type": "execute_result"
    }
   ],
   "source": [
    "silhouette_score(preds.reshape(-1, 1), y_test.to_numpy().astype(np.int32))"
   ]
  },
  {
   "cell_type": "markdown",
   "id": "515c519e-64d8-438f-9f6d-ab35e0341e99",
   "metadata": {},
   "source": [
    "## DBScan"
   ]
  },
  {
   "cell_type": "markdown",
   "id": "b335dfa7-cbc7-4408-bd9e-3016bc3c3451",
   "metadata": {},
   "source": [
    "### *Fitting model*"
   ]
  },
  {
   "cell_type": "code",
   "execution_count": 30,
   "id": "4db86dfe-04be-42ca-a68a-8396c3e32eb1",
   "metadata": {},
   "outputs": [],
   "source": [
    "dbscan = DBSCAN()"
   ]
  },
  {
   "cell_type": "code",
   "execution_count": 31,
   "id": "d54ec893-3db0-4de3-8db7-783460dd052d",
   "metadata": {},
   "outputs": [],
   "source": [
    "preds = dbscan.fit_predict(corpus)"
   ]
  },
  {
   "cell_type": "markdown",
   "id": "906ef535-2538-47d4-99aa-0570df3569a5",
   "metadata": {},
   "source": [
    "### *Evaluating model*"
   ]
  },
  {
   "cell_type": "code",
   "execution_count": 32,
   "id": "fa98c82d-9db6-475d-ab50-6ee9f16e8b90",
   "metadata": {},
   "outputs": [
    {
     "data": {
      "text/plain": [
       "-0.5012660284114789"
      ]
     },
     "execution_count": 32,
     "metadata": {},
     "output_type": "execute_result"
    }
   ],
   "source": [
    "silhouette_score(preds.reshape(-1, 1), labels.to_numpy())"
   ]
  },
  {
   "cell_type": "markdown",
   "id": "1f1003a8-de82-47c2-b90b-567d72292279",
   "metadata": {},
   "source": [
    "# Indexing"
   ]
  },
  {
   "cell_type": "code",
   "execution_count": 33,
   "id": "98c36930-813e-4e67-82f5-7098e9356a2f",
   "metadata": {},
   "outputs": [
    {
     "name": "stderr",
     "output_type": "stream",
     "text": [
      "\n",
      "0%   10   20   30   40   50   60   70   80   90   100%\n",
      "|----|----|----|----|----|----|----|----|----|----|\n",
      "***************************************************\n",
      "\n",
      "0%   10   20   30   40   50   60   70   80   90   100%\n",
      "|----|----|----|----|----|----|----|----|----|----|\n",
      "******************************************************\n",
      "\n"
     ]
    }
   ],
   "source": [
    "index = nmslib.init(method='hnsw', space='cosinesimil')\n",
    "index.addDataPointBatch(corpus.todense())\n",
    "index.createIndex({'post': 2}, print_progress=True)"
   ]
  },
  {
   "cell_type": "code",
   "execution_count": 40,
   "id": "e979db0b-c90b-4798-96ed-631045066ff9",
   "metadata": {},
   "outputs": [],
   "source": [
    "ids, distances = index.knnQuery(corpus.todense()[566], k=10)"
   ]
  },
  {
   "cell_type": "code",
   "execution_count": 41,
   "id": "d012acb4-18b6-4a93-90a4-1d9d88f93c3d",
   "metadata": {},
   "outputs": [
    {
     "data": {
      "text/plain": [
       "(array([  566,  1231, 17633, 11187,  2532,  6343,  6335, 16379, 12722,\n",
       "        10489], dtype=int32),\n",
       " array([5.9604645e-08, 6.0702515e-01, 7.9070109e-01, 8.5961443e-01,\n",
       "        8.6396623e-01, 8.7417018e-01, 8.7441581e-01, 8.7442732e-01,\n",
       "        8.7451237e-01, 8.7549382e-01], dtype=float32))"
      ]
     },
     "execution_count": 41,
     "metadata": {},
     "output_type": "execute_result"
    }
   ],
   "source": [
    "ids, distances"
   ]
  }
 ],
 "metadata": {
  "kernelspec": {
   "display_name": "AAAAA",
   "language": "python",
   "name": "movie-clusterisation"
  },
  "language_info": {
   "codemirror_mode": {
    "name": "ipython",
    "version": 3
   },
   "file_extension": ".py",
   "mimetype": "text/x-python",
   "name": "python",
   "nbconvert_exporter": "python",
   "pygments_lexer": "ipython3",
   "version": "3.8.13"
  }
 },
 "nbformat": 4,
 "nbformat_minor": 5
}
