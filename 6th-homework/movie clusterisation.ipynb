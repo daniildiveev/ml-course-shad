{
 "cells": [
  {
   "cell_type": "markdown",
   "id": "084a7801-24af-449a-a08a-598f65a0a76d",
   "metadata": {},
   "source": [
    "# Imports"
   ]
  },
  {
   "cell_type": "code",
   "execution_count": 72,
   "id": "ba3036ad-f2ff-4bc0-a516-db63f0ef91aa",
   "metadata": {
    "execution": {
     "iopub.execute_input": "2022-10-12T21:50:28.371915Z",
     "iopub.status.busy": "2022-10-12T21:50:28.371488Z",
     "iopub.status.idle": "2022-10-12T21:50:28.378090Z",
     "shell.execute_reply": "2022-10-12T21:50:28.376569Z",
     "shell.execute_reply.started": "2022-10-12T21:50:28.371879Z"
    },
    "tags": []
   },
   "outputs": [
    {
     "name": "stderr",
     "output_type": "stream",
     "text": [
      "[nltk_data] Downloading package stopwords to\n",
      "[nltk_data]     /Users/daniildiveev/nltk_data...\n",
      "[nltk_data]   Package stopwords is already up-to-date!\n"
     ]
    }
   ],
   "source": [
    "import pandas as pd\n",
    "import numpy as np\n",
    "from sklearn.feature_extraction.text import TfidfVectorizer\n",
    "import nltk\n",
    "nltk.download(\"stopwords\")\n",
    "from nltk.corpus import stopwords"
   ]
  },
  {
   "cell_type": "markdown",
   "id": "0bdae106-a1f2-4162-826f-5042c60fd8bf",
   "metadata": {},
   "source": [
    "# Data loading"
   ]
  },
  {
   "cell_type": "code",
   "execution_count": 2,
   "id": "7f50fbe8-b5b5-4be8-9832-f7ea186955f1",
   "metadata": {
    "execution": {
     "iopub.execute_input": "2022-10-12T21:08:57.717287Z",
     "iopub.status.busy": "2022-10-12T21:08:57.716724Z",
     "iopub.status.idle": "2022-10-12T21:08:58.072647Z",
     "shell.execute_reply": "2022-10-12T21:08:58.071648Z",
     "shell.execute_reply.started": "2022-10-12T21:08:57.717248Z"
    }
   },
   "outputs": [],
   "source": [
    "data = pd.read_csv(\"../data/kp_films.csv\")"
   ]
  },
  {
   "cell_type": "code",
   "execution_count": 3,
   "id": "6974dbdc-16bf-486f-b738-4033b222918d",
   "metadata": {
    "execution": {
     "iopub.execute_input": "2022-10-12T21:08:58.901502Z",
     "iopub.status.busy": "2022-10-12T21:08:58.901025Z",
     "iopub.status.idle": "2022-10-12T21:08:58.939530Z",
     "shell.execute_reply": "2022-10-12T21:08:58.938192Z",
     "shell.execute_reply.started": "2022-10-12T21:08:58.901459Z"
    }
   },
   "outputs": [
    {
     "data": {
      "text/html": [
       "<div>\n",
       "<style scoped>\n",
       "    .dataframe tbody tr th:only-of-type {\n",
       "        vertical-align: middle;\n",
       "    }\n",
       "\n",
       "    .dataframe tbody tr th {\n",
       "        vertical-align: top;\n",
       "    }\n",
       "\n",
       "    .dataframe thead th {\n",
       "        text-align: right;\n",
       "    }\n",
       "</style>\n",
       "<table border=\"1\" class=\"dataframe\">\n",
       "  <thead>\n",
       "    <tr style=\"text-align: right;\">\n",
       "      <th></th>\n",
       "      <th>kp_id</th>\n",
       "      <th>rating_kp</th>\n",
       "      <th>genres</th>\n",
       "      <th>description</th>\n",
       "    </tr>\n",
       "  </thead>\n",
       "  <tbody>\n",
       "    <tr>\n",
       "      <th>0</th>\n",
       "      <td>12819</td>\n",
       "      <td>7.70</td>\n",
       "      <td>['триллер' 'мелодрама' 'криминал']</td>\n",
       "      <td>Миллиардер Томас Краун, пресыщенный финансист,...</td>\n",
       "    </tr>\n",
       "    <tr>\n",
       "      <th>1</th>\n",
       "      <td>1260096</td>\n",
       "      <td>-1.00</td>\n",
       "      <td>['семейный' 'для' 'кино' 'ребенок']</td>\n",
       "      <td>Банда саранчи во главе с безжалостным Боссом о...</td>\n",
       "    </tr>\n",
       "    <tr>\n",
       "      <th>2</th>\n",
       "      <td>894673</td>\n",
       "      <td>4.40</td>\n",
       "      <td>['вестерн' 'иностранный' 'триллер' 'мистика' '...</td>\n",
       "      <td>В горах живёт обособленная община, возглавляем...</td>\n",
       "    </tr>\n",
       "    <tr>\n",
       "      <th>3</th>\n",
       "      <td>485364</td>\n",
       "      <td>6.06</td>\n",
       "      <td>['семейный' 'для' 'кино' 'короткометражный' 'р...</td>\n",
       "      <td>Фильм высмеивает тех, кто понимает трудовую ди...</td>\n",
       "    </tr>\n",
       "    <tr>\n",
       "      <th>4</th>\n",
       "      <td>1289632</td>\n",
       "      <td>6.40</td>\n",
       "      <td>['семейный' 'приключение' 'кино']</td>\n",
       "      <td>В скучном городке Линдсборо всё меняется, когд...</td>\n",
       "    </tr>\n",
       "    <tr>\n",
       "      <th>...</th>\n",
       "      <td>...</td>\n",
       "      <td>...</td>\n",
       "      <td>...</td>\n",
       "      <td>...</td>\n",
       "    </tr>\n",
       "    <tr>\n",
       "      <th>18636</th>\n",
       "      <td>806159</td>\n",
       "      <td>5.31</td>\n",
       "      <td>['семейный' 'аниме' 'приключение' 'фантастика'...</td>\n",
       "      <td>Сатоши готовится к новому турниру, где парню н...</td>\n",
       "    </tr>\n",
       "    <tr>\n",
       "      <th>18637</th>\n",
       "      <td>625381</td>\n",
       "      <td>6.40</td>\n",
       "      <td>['русский' 'мультфильм' 'для' 'ребенок' 'детск...</td>\n",
       "      <td>На нелепом и забавном мужчине по прозвищу Пара...</td>\n",
       "    </tr>\n",
       "    <tr>\n",
       "      <th>18638</th>\n",
       "      <td>4535755</td>\n",
       "      <td>-1.00</td>\n",
       "      <td>['семейный' 'мультфильм' 'иностранный' 'для' '...</td>\n",
       "      <td>Очаровательная сказка о маленьком лягушонке с ...</td>\n",
       "    </tr>\n",
       "    <tr>\n",
       "      <th>18639</th>\n",
       "      <td>1111361</td>\n",
       "      <td>6.60</td>\n",
       "      <td>['драма']</td>\n",
       "      <td>Криминальная драма о реальной истории жизни си...</td>\n",
       "    </tr>\n",
       "    <tr>\n",
       "      <th>18640</th>\n",
       "      <td>77660</td>\n",
       "      <td>7.20</td>\n",
       "      <td>['мелодрама' 'комедия']</td>\n",
       "      <td>История о бесшабашных приключениях двух заядлы...</td>\n",
       "    </tr>\n",
       "  </tbody>\n",
       "</table>\n",
       "<p>18641 rows × 4 columns</p>\n",
       "</div>"
      ],
      "text/plain": [
       "         kp_id  rating_kp                                             genres  \\\n",
       "0        12819       7.70                 ['триллер' 'мелодрама' 'криминал']   \n",
       "1      1260096      -1.00                ['семейный' 'для' 'кино' 'ребенок']   \n",
       "2       894673       4.40  ['вестерн' 'иностранный' 'триллер' 'мистика' '...   \n",
       "3       485364       6.06  ['семейный' 'для' 'кино' 'короткометражный' 'р...   \n",
       "4      1289632       6.40                  ['семейный' 'приключение' 'кино']   \n",
       "...        ...        ...                                                ...   \n",
       "18636   806159       5.31  ['семейный' 'аниме' 'приключение' 'фантастика'...   \n",
       "18637   625381       6.40  ['русский' 'мультфильм' 'для' 'ребенок' 'детск...   \n",
       "18638  4535755      -1.00  ['семейный' 'мультфильм' 'иностранный' 'для' '...   \n",
       "18639  1111361       6.60                                          ['драма']   \n",
       "18640    77660       7.20                            ['мелодрама' 'комедия']   \n",
       "\n",
       "                                             description  \n",
       "0      Миллиардер Томас Краун, пресыщенный финансист,...  \n",
       "1      Банда саранчи во главе с безжалостным Боссом о...  \n",
       "2      В горах живёт обособленная община, возглавляем...  \n",
       "3      Фильм высмеивает тех, кто понимает трудовую ди...  \n",
       "4      В скучном городке Линдсборо всё меняется, когд...  \n",
       "...                                                  ...  \n",
       "18636  Сатоши готовится к новому турниру, где парню н...  \n",
       "18637  На нелепом и забавном мужчине по прозвищу Пара...  \n",
       "18638  Очаровательная сказка о маленьком лягушонке с ...  \n",
       "18639  Криминальная драма о реальной истории жизни си...  \n",
       "18640  История о бесшабашных приключениях двух заядлы...  \n",
       "\n",
       "[18641 rows x 4 columns]"
      ]
     },
     "execution_count": 3,
     "metadata": {},
     "output_type": "execute_result"
    }
   ],
   "source": [
    "data"
   ]
  },
  {
   "cell_type": "markdown",
   "id": "c61f8edd-6552-414f-996e-9bae39a3c181",
   "metadata": {
    "tags": []
   },
   "source": [
    "# Data preprocessing"
   ]
  },
  {
   "cell_type": "code",
   "execution_count": 10,
   "id": "ce19e65d-1a23-4f4c-9c2f-3d3f1eeec66b",
   "metadata": {
    "execution": {
     "iopub.execute_input": "2022-10-12T21:14:22.235572Z",
     "iopub.status.busy": "2022-10-12T21:14:22.235106Z",
     "iopub.status.idle": "2022-10-12T21:14:22.240801Z",
     "shell.execute_reply": "2022-10-12T21:14:22.239142Z",
     "shell.execute_reply.started": "2022-10-12T21:14:22.235533Z"
    },
    "tags": []
   },
   "outputs": [],
   "source": [
    "vectorizer = TfidfVectorizer()"
   ]
  },
  {
   "cell_type": "code",
   "execution_count": 11,
   "id": "7a99f05e-9acf-471c-b25c-5ea25a44d4f1",
   "metadata": {
    "execution": {
     "iopub.execute_input": "2022-10-12T21:15:53.197913Z",
     "iopub.status.busy": "2022-10-12T21:15:53.197303Z",
     "iopub.status.idle": "2022-10-12T21:15:55.252990Z",
     "shell.execute_reply": "2022-10-12T21:15:55.251649Z",
     "shell.execute_reply.started": "2022-10-12T21:15:53.197853Z"
    }
   },
   "outputs": [],
   "source": [
    "corpus = vectorizer.fit_transform(data.description)"
   ]
  },
  {
   "cell_type": "code",
   "execution_count": 15,
   "id": "2b5e4dc4-875d-40f3-8b4f-2ca3dd7d4607",
   "metadata": {
    "execution": {
     "iopub.execute_input": "2022-10-12T21:16:43.255261Z",
     "iopub.status.busy": "2022-10-12T21:16:43.254753Z",
     "iopub.status.idle": "2022-10-12T21:16:43.264154Z",
     "shell.execute_reply": "2022-10-12T21:16:43.262682Z",
     "shell.execute_reply.started": "2022-10-12T21:16:43.255220Z"
    },
    "tags": []
   },
   "outputs": [
    {
     "data": {
      "text/plain": [
       "<18641x133400 sparse matrix of type '<class 'numpy.float64'>'\n",
       "\twith 1371699 stored elements in Compressed Sparse Row format>"
      ]
     },
     "execution_count": 15,
     "metadata": {},
     "output_type": "execute_result"
    }
   ],
   "source": [
    "corpus"
   ]
  },
  {
   "cell_type": "code",
   "execution_count": 28,
   "id": "2ea3a667-3d96-4a52-89ba-c0cae789cc18",
   "metadata": {
    "execution": {
     "iopub.execute_input": "2022-10-12T21:22:44.235398Z",
     "iopub.status.busy": "2022-10-12T21:22:44.234544Z",
     "iopub.status.idle": "2022-10-12T21:22:44.296742Z",
     "shell.execute_reply": "2022-10-12T21:22:44.295507Z",
     "shell.execute_reply.started": "2022-10-12T21:22:44.235352Z"
    },
    "tags": []
   },
   "outputs": [],
   "source": [
    "genres = data.genres.to_list()\n",
    "\n",
    "for i in range(len(genres)):\n",
    "    genres[i] = genres[i].replace('[', '')\n",
    "    genres[i] = genres[i].replace(']', '')\n",
    "    genres[i] = genres[i].replace(',', '')\n",
    "    genres[i] = genres[i].replace(\"'\", '')\n",
    "    genres[i] = genres[i].split()"
   ]
  },
  {
   "cell_type": "code",
   "execution_count": 35,
   "id": "df1e622d-933f-481b-8db6-c8f7035319ac",
   "metadata": {
    "execution": {
     "iopub.execute_input": "2022-10-12T21:25:34.403880Z",
     "iopub.status.busy": "2022-10-12T21:25:34.403453Z",
     "iopub.status.idle": "2022-10-12T21:25:34.417258Z",
     "shell.execute_reply": "2022-10-12T21:25:34.415906Z",
     "shell.execute_reply.started": "2022-10-12T21:25:34.403844Z"
    },
    "tags": []
   },
   "outputs": [],
   "source": [
    "genres_corpus = []\n",
    "\n",
    "for genres_list in genres:\n",
    "    genres_corpus += genres_list\n",
    "\n",
    "genres_corpus = set(genres_corpus)"
   ]
  },
  {
   "cell_type": "code",
   "execution_count": 62,
   "id": "ac6cbc6b-4344-4d94-9e86-e0e31da85962",
   "metadata": {
    "execution": {
     "iopub.execute_input": "2022-10-12T21:46:53.943514Z",
     "iopub.status.busy": "2022-10-12T21:46:53.943020Z",
     "iopub.status.idle": "2022-10-12T21:46:53.949620Z",
     "shell.execute_reply": "2022-10-12T21:46:53.948328Z",
     "shell.execute_reply.started": "2022-10-12T21:46:53.943472Z"
    },
    "tags": []
   },
   "outputs": [],
   "source": [
    "genres_corpus = genres_corpus.difference(stopwords.words(\"russian\")) #removing stopwords from genres"
   ]
  },
  {
   "cell_type": "code",
   "execution_count": 63,
   "id": "22f9e2fe-0d30-4b6b-9e20-096d0184aa42",
   "metadata": {
    "execution": {
     "iopub.execute_input": "2022-10-12T21:46:55.261541Z",
     "iopub.status.busy": "2022-10-12T21:46:55.261148Z",
     "iopub.status.idle": "2022-10-12T21:46:55.958788Z",
     "shell.execute_reply": "2022-10-12T21:46:55.957737Z",
     "shell.execute_reply.started": "2022-10-12T21:46:55.261509Z"
    },
    "tags": []
   },
   "outputs": [],
   "source": [
    "for genre in genres_corpus:\n",
    "    data[genre] = [1 if genre in genres[i] else 0 for i in range(data.shape[0])]"
   ]
  },
  {
   "cell_type": "code",
   "execution_count": 64,
   "id": "ccc5008f-843d-4307-86a0-06cda4153254",
   "metadata": {
    "execution": {
     "iopub.execute_input": "2022-10-12T21:46:55.960444Z",
     "iopub.status.busy": "2022-10-12T21:46:55.960201Z",
     "iopub.status.idle": "2022-10-12T21:46:56.014023Z",
     "shell.execute_reply": "2022-10-12T21:46:56.011586Z",
     "shell.execute_reply.started": "2022-10-12T21:46:55.960421Z"
    },
    "tags": []
   },
   "outputs": [
    {
     "data": {
      "text/html": [
       "<div>\n",
       "<style scoped>\n",
       "    .dataframe tbody tr th:only-of-type {\n",
       "        vertical-align: middle;\n",
       "    }\n",
       "\n",
       "    .dataframe tbody tr th {\n",
       "        vertical-align: top;\n",
       "    }\n",
       "\n",
       "    .dataframe thead th {\n",
       "        text-align: right;\n",
       "    }\n",
       "</style>\n",
       "<table border=\"1\" class=\"dataframe\">\n",
       "  <thead>\n",
       "    <tr style=\"text-align: right;\">\n",
       "      <th></th>\n",
       "      <th>kp_id</th>\n",
       "      <th>rating_kp</th>\n",
       "      <th>genres</th>\n",
       "      <th>description</th>\n",
       "      <th>короткометражный</th>\n",
       "      <th>боевик</th>\n",
       "      <th>взрослый</th>\n",
       "      <th>песня</th>\n",
       "      <th>телешоу</th>\n",
       "      <th>нуар</th>\n",
       "      <th>...</th>\n",
       "      <th>передача</th>\n",
       "      <th>драма</th>\n",
       "      <th>молодежный</th>\n",
       "      <th>биография</th>\n",
       "      <th>знать</th>\n",
       "      <th>военный</th>\n",
       "      <th>кино</th>\n",
       "      <th>медицинский</th>\n",
       "      <th>все</th>\n",
       "      <th>свет</th>\n",
       "    </tr>\n",
       "  </thead>\n",
       "  <tbody>\n",
       "    <tr>\n",
       "      <th>0</th>\n",
       "      <td>12819</td>\n",
       "      <td>7.70</td>\n",
       "      <td>['триллер' 'мелодрама' 'криминал']</td>\n",
       "      <td>Миллиардер Томас Краун, пресыщенный финансист,...</td>\n",
       "      <td>0</td>\n",
       "      <td>0</td>\n",
       "      <td>0</td>\n",
       "      <td>0</td>\n",
       "      <td>0</td>\n",
       "      <td>0</td>\n",
       "      <td>...</td>\n",
       "      <td>0</td>\n",
       "      <td>0</td>\n",
       "      <td>0</td>\n",
       "      <td>0</td>\n",
       "      <td>0</td>\n",
       "      <td>0</td>\n",
       "      <td>0</td>\n",
       "      <td>0</td>\n",
       "      <td>0</td>\n",
       "      <td>0</td>\n",
       "    </tr>\n",
       "    <tr>\n",
       "      <th>1</th>\n",
       "      <td>1260096</td>\n",
       "      <td>-1.00</td>\n",
       "      <td>['семейный' 'для' 'кино' 'ребенок']</td>\n",
       "      <td>Банда саранчи во главе с безжалостным Боссом о...</td>\n",
       "      <td>0</td>\n",
       "      <td>0</td>\n",
       "      <td>0</td>\n",
       "      <td>0</td>\n",
       "      <td>0</td>\n",
       "      <td>0</td>\n",
       "      <td>...</td>\n",
       "      <td>0</td>\n",
       "      <td>0</td>\n",
       "      <td>0</td>\n",
       "      <td>0</td>\n",
       "      <td>0</td>\n",
       "      <td>0</td>\n",
       "      <td>1</td>\n",
       "      <td>0</td>\n",
       "      <td>0</td>\n",
       "      <td>0</td>\n",
       "    </tr>\n",
       "    <tr>\n",
       "      <th>2</th>\n",
       "      <td>894673</td>\n",
       "      <td>4.40</td>\n",
       "      <td>['вестерн' 'иностранный' 'триллер' 'мистика' '...</td>\n",
       "      <td>В горах живёт обособленная община, возглавляем...</td>\n",
       "      <td>0</td>\n",
       "      <td>0</td>\n",
       "      <td>0</td>\n",
       "      <td>0</td>\n",
       "      <td>0</td>\n",
       "      <td>0</td>\n",
       "      <td>...</td>\n",
       "      <td>0</td>\n",
       "      <td>0</td>\n",
       "      <td>0</td>\n",
       "      <td>0</td>\n",
       "      <td>0</td>\n",
       "      <td>0</td>\n",
       "      <td>0</td>\n",
       "      <td>0</td>\n",
       "      <td>0</td>\n",
       "      <td>0</td>\n",
       "    </tr>\n",
       "    <tr>\n",
       "      <th>3</th>\n",
       "      <td>485364</td>\n",
       "      <td>6.06</td>\n",
       "      <td>['семейный' 'для' 'кино' 'короткометражный' 'р...</td>\n",
       "      <td>Фильм высмеивает тех, кто понимает трудовую ди...</td>\n",
       "      <td>1</td>\n",
       "      <td>0</td>\n",
       "      <td>0</td>\n",
       "      <td>0</td>\n",
       "      <td>0</td>\n",
       "      <td>0</td>\n",
       "      <td>...</td>\n",
       "      <td>0</td>\n",
       "      <td>0</td>\n",
       "      <td>0</td>\n",
       "      <td>0</td>\n",
       "      <td>0</td>\n",
       "      <td>0</td>\n",
       "      <td>1</td>\n",
       "      <td>0</td>\n",
       "      <td>0</td>\n",
       "      <td>0</td>\n",
       "    </tr>\n",
       "    <tr>\n",
       "      <th>4</th>\n",
       "      <td>1289632</td>\n",
       "      <td>6.40</td>\n",
       "      <td>['семейный' 'приключение' 'кино']</td>\n",
       "      <td>В скучном городке Линдсборо всё меняется, когд...</td>\n",
       "      <td>0</td>\n",
       "      <td>0</td>\n",
       "      <td>0</td>\n",
       "      <td>0</td>\n",
       "      <td>0</td>\n",
       "      <td>0</td>\n",
       "      <td>...</td>\n",
       "      <td>0</td>\n",
       "      <td>0</td>\n",
       "      <td>0</td>\n",
       "      <td>0</td>\n",
       "      <td>0</td>\n",
       "      <td>0</td>\n",
       "      <td>1</td>\n",
       "      <td>0</td>\n",
       "      <td>0</td>\n",
       "      <td>0</td>\n",
       "    </tr>\n",
       "    <tr>\n",
       "      <th>...</th>\n",
       "      <td>...</td>\n",
       "      <td>...</td>\n",
       "      <td>...</td>\n",
       "      <td>...</td>\n",
       "      <td>...</td>\n",
       "      <td>...</td>\n",
       "      <td>...</td>\n",
       "      <td>...</td>\n",
       "      <td>...</td>\n",
       "      <td>...</td>\n",
       "      <td>...</td>\n",
       "      <td>...</td>\n",
       "      <td>...</td>\n",
       "      <td>...</td>\n",
       "      <td>...</td>\n",
       "      <td>...</td>\n",
       "      <td>...</td>\n",
       "      <td>...</td>\n",
       "      <td>...</td>\n",
       "      <td>...</td>\n",
       "      <td>...</td>\n",
       "    </tr>\n",
       "    <tr>\n",
       "      <th>18636</th>\n",
       "      <td>806159</td>\n",
       "      <td>5.31</td>\n",
       "      <td>['семейный' 'аниме' 'приключение' 'фантастика'...</td>\n",
       "      <td>Сатоши готовится к новому турниру, где парню н...</td>\n",
       "      <td>0</td>\n",
       "      <td>0</td>\n",
       "      <td>0</td>\n",
       "      <td>0</td>\n",
       "      <td>0</td>\n",
       "      <td>0</td>\n",
       "      <td>...</td>\n",
       "      <td>0</td>\n",
       "      <td>0</td>\n",
       "      <td>0</td>\n",
       "      <td>0</td>\n",
       "      <td>0</td>\n",
       "      <td>0</td>\n",
       "      <td>0</td>\n",
       "      <td>0</td>\n",
       "      <td>0</td>\n",
       "      <td>0</td>\n",
       "    </tr>\n",
       "    <tr>\n",
       "      <th>18637</th>\n",
       "      <td>625381</td>\n",
       "      <td>6.40</td>\n",
       "      <td>['русский' 'мультфильм' 'для' 'ребенок' 'детск...</td>\n",
       "      <td>На нелепом и забавном мужчине по прозвищу Пара...</td>\n",
       "      <td>0</td>\n",
       "      <td>0</td>\n",
       "      <td>0</td>\n",
       "      <td>0</td>\n",
       "      <td>0</td>\n",
       "      <td>0</td>\n",
       "      <td>...</td>\n",
       "      <td>0</td>\n",
       "      <td>0</td>\n",
       "      <td>0</td>\n",
       "      <td>0</td>\n",
       "      <td>0</td>\n",
       "      <td>0</td>\n",
       "      <td>0</td>\n",
       "      <td>0</td>\n",
       "      <td>0</td>\n",
       "      <td>0</td>\n",
       "    </tr>\n",
       "    <tr>\n",
       "      <th>18638</th>\n",
       "      <td>4535755</td>\n",
       "      <td>-1.00</td>\n",
       "      <td>['семейный' 'мультфильм' 'иностранный' 'для' '...</td>\n",
       "      <td>Очаровательная сказка о маленьком лягушонке с ...</td>\n",
       "      <td>0</td>\n",
       "      <td>0</td>\n",
       "      <td>0</td>\n",
       "      <td>0</td>\n",
       "      <td>0</td>\n",
       "      <td>0</td>\n",
       "      <td>...</td>\n",
       "      <td>0</td>\n",
       "      <td>0</td>\n",
       "      <td>0</td>\n",
       "      <td>0</td>\n",
       "      <td>0</td>\n",
       "      <td>0</td>\n",
       "      <td>0</td>\n",
       "      <td>0</td>\n",
       "      <td>0</td>\n",
       "      <td>0</td>\n",
       "    </tr>\n",
       "    <tr>\n",
       "      <th>18639</th>\n",
       "      <td>1111361</td>\n",
       "      <td>6.60</td>\n",
       "      <td>['драма']</td>\n",
       "      <td>Криминальная драма о реальной истории жизни си...</td>\n",
       "      <td>0</td>\n",
       "      <td>0</td>\n",
       "      <td>0</td>\n",
       "      <td>0</td>\n",
       "      <td>0</td>\n",
       "      <td>0</td>\n",
       "      <td>...</td>\n",
       "      <td>0</td>\n",
       "      <td>1</td>\n",
       "      <td>0</td>\n",
       "      <td>0</td>\n",
       "      <td>0</td>\n",
       "      <td>0</td>\n",
       "      <td>0</td>\n",
       "      <td>0</td>\n",
       "      <td>0</td>\n",
       "      <td>0</td>\n",
       "    </tr>\n",
       "    <tr>\n",
       "      <th>18640</th>\n",
       "      <td>77660</td>\n",
       "      <td>7.20</td>\n",
       "      <td>['мелодрама' 'комедия']</td>\n",
       "      <td>История о бесшабашных приключениях двух заядлы...</td>\n",
       "      <td>0</td>\n",
       "      <td>0</td>\n",
       "      <td>0</td>\n",
       "      <td>0</td>\n",
       "      <td>0</td>\n",
       "      <td>0</td>\n",
       "      <td>...</td>\n",
       "      <td>0</td>\n",
       "      <td>0</td>\n",
       "      <td>0</td>\n",
       "      <td>0</td>\n",
       "      <td>0</td>\n",
       "      <td>0</td>\n",
       "      <td>0</td>\n",
       "      <td>0</td>\n",
       "      <td>0</td>\n",
       "      <td>0</td>\n",
       "    </tr>\n",
       "  </tbody>\n",
       "</table>\n",
       "<p>18641 rows × 104 columns</p>\n",
       "</div>"
      ],
      "text/plain": [
       "         kp_id  rating_kp                                             genres  \\\n",
       "0        12819       7.70                 ['триллер' 'мелодрама' 'криминал']   \n",
       "1      1260096      -1.00                ['семейный' 'для' 'кино' 'ребенок']   \n",
       "2       894673       4.40  ['вестерн' 'иностранный' 'триллер' 'мистика' '...   \n",
       "3       485364       6.06  ['семейный' 'для' 'кино' 'короткометражный' 'р...   \n",
       "4      1289632       6.40                  ['семейный' 'приключение' 'кино']   \n",
       "...        ...        ...                                                ...   \n",
       "18636   806159       5.31  ['семейный' 'аниме' 'приключение' 'фантастика'...   \n",
       "18637   625381       6.40  ['русский' 'мультфильм' 'для' 'ребенок' 'детск...   \n",
       "18638  4535755      -1.00  ['семейный' 'мультфильм' 'иностранный' 'для' '...   \n",
       "18639  1111361       6.60                                          ['драма']   \n",
       "18640    77660       7.20                            ['мелодрама' 'комедия']   \n",
       "\n",
       "                                             description  короткометражный  \\\n",
       "0      Миллиардер Томас Краун, пресыщенный финансист,...                 0   \n",
       "1      Банда саранчи во главе с безжалостным Боссом о...                 0   \n",
       "2      В горах живёт обособленная община, возглавляем...                 0   \n",
       "3      Фильм высмеивает тех, кто понимает трудовую ди...                 1   \n",
       "4      В скучном городке Линдсборо всё меняется, когд...                 0   \n",
       "...                                                  ...               ...   \n",
       "18636  Сатоши готовится к новому турниру, где парню н...                 0   \n",
       "18637  На нелепом и забавном мужчине по прозвищу Пара...                 0   \n",
       "18638  Очаровательная сказка о маленьком лягушонке с ...                 0   \n",
       "18639  Криминальная драма о реальной истории жизни си...                 0   \n",
       "18640  История о бесшабашных приключениях двух заядлы...                 0   \n",
       "\n",
       "       боевик  взрослый  песня  телешоу  нуар  ...  передача  драма  \\\n",
       "0           0         0      0        0     0  ...         0      0   \n",
       "1           0         0      0        0     0  ...         0      0   \n",
       "2           0         0      0        0     0  ...         0      0   \n",
       "3           0         0      0        0     0  ...         0      0   \n",
       "4           0         0      0        0     0  ...         0      0   \n",
       "...       ...       ...    ...      ...   ...  ...       ...    ...   \n",
       "18636       0         0      0        0     0  ...         0      0   \n",
       "18637       0         0      0        0     0  ...         0      0   \n",
       "18638       0         0      0        0     0  ...         0      0   \n",
       "18639       0         0      0        0     0  ...         0      1   \n",
       "18640       0         0      0        0     0  ...         0      0   \n",
       "\n",
       "       молодежный  биография  знать  военный  кино  медицинский  все  свет  \n",
       "0               0          0      0        0     0            0    0     0  \n",
       "1               0          0      0        0     1            0    0     0  \n",
       "2               0          0      0        0     0            0    0     0  \n",
       "3               0          0      0        0     1            0    0     0  \n",
       "4               0          0      0        0     1            0    0     0  \n",
       "...           ...        ...    ...      ...   ...          ...  ...   ...  \n",
       "18636           0          0      0        0     0            0    0     0  \n",
       "18637           0          0      0        0     0            0    0     0  \n",
       "18638           0          0      0        0     0            0    0     0  \n",
       "18639           0          0      0        0     0            0    0     0  \n",
       "18640           0          0      0        0     0            0    0     0  \n",
       "\n",
       "[18641 rows x 104 columns]"
      ]
     },
     "execution_count": 64,
     "metadata": {},
     "output_type": "execute_result"
    }
   ],
   "source": [
    "data"
   ]
  },
  {
   "cell_type": "code",
   "execution_count": 70,
   "id": "c29541ef-f45d-4b84-992a-f7632d7a8252",
   "metadata": {
    "execution": {
     "iopub.execute_input": "2022-10-12T21:50:11.128896Z",
     "iopub.status.busy": "2022-10-12T21:50:11.128391Z",
     "iopub.status.idle": "2022-10-12T21:50:11.172961Z",
     "shell.execute_reply": "2022-10-12T21:50:11.169230Z",
     "shell.execute_reply.started": "2022-10-12T21:50:11.128853Z"
    },
    "tags": []
   },
   "outputs": [],
   "source": [
    "genre_to_num = {genre : (data[genre] != 0).sum() for genre in genres_corpus}\n",
    "genre_to_num = sorted(genre_to_num.items(), key=lambda x: x[1], reverse=True)"
   ]
  },
  {
   "cell_type": "code",
   "execution_count": 73,
   "id": "c31ba93c-17a1-4b81-8742-babb1706910b",
   "metadata": {
    "execution": {
     "iopub.execute_input": "2022-10-12T21:50:35.671204Z",
     "iopub.status.busy": "2022-10-12T21:50:35.670724Z",
     "iopub.status.idle": "2022-10-12T21:50:35.678344Z",
     "shell.execute_reply": "2022-10-12T21:50:35.677094Z",
     "shell.execute_reply.started": "2022-10-12T21:50:35.671167Z"
    },
    "tags": []
   },
   "outputs": [],
   "source": [
    "genre_to_num = np.array(genre_to_num)"
   ]
  },
  {
   "cell_type": "code",
   "execution_count": 76,
   "id": "53b45426-f08b-40b5-8bb9-4dd2b41a5bbe",
   "metadata": {
    "execution": {
     "iopub.execute_input": "2022-10-12T21:51:04.218183Z",
     "iopub.status.busy": "2022-10-12T21:51:04.217766Z",
     "iopub.status.idle": "2022-10-12T21:51:04.226815Z",
     "shell.execute_reply": "2022-10-12T21:51:04.225340Z",
     "shell.execute_reply.started": "2022-10-12T21:51:04.218149Z"
    },
    "tags": []
   },
   "outputs": [
    {
     "data": {
      "text/plain": [
       "array([7122, 4522, 4067, 3698, 3654, 2937, 2782, 2672, 2364, 2213, 2203,\n",
       "       2079, 1989, 1792, 1699, 1434, 1250, 1223, 1190, 1180, 1092,  966,\n",
       "        787,  707,  607,  572,  372,  281,  277,  264,  259,  254,  252,\n",
       "        206,  183,  182,  130,  122,   97,   94,   91,   87,   75,   75,\n",
       "         68,   65,   65,   57,   57,   57,   56,   54,   48,   47,   45,\n",
       "         45,   40,   34,   32,   31,   30,   23,   23,   22,   21,   17,\n",
       "         15,   12,   12,   12,   12,    8,    7,    6,    5,    5,    4,\n",
       "          4,    4,    3,    3,    3,    3,    3,    2,    2,    2,    1,\n",
       "          1,    1,    1,    1,    1,    1], dtype=int32)"
      ]
     },
     "execution_count": 76,
     "metadata": {},
     "output_type": "execute_result"
    }
   ],
   "source": [
    "genre_to_num[:, 1].astype(np.int32)"
   ]
  },
  {
   "cell_type": "code",
   "execution_count": null,
   "id": "2cdbe54c-801d-46c8-87a7-fa7f96d93c78",
   "metadata": {},
   "outputs": [],
   "source": []
  }
 ],
 "metadata": {
  "kernelspec": {
   "display_name": "Python 3",
   "language": "python",
   "name": "python3"
  },
  "language_info": {
   "codemirror_mode": {
    "name": "ipython",
    "version": 3
   },
   "file_extension": ".py",
   "mimetype": "text/x-python",
   "name": "python",
   "nbconvert_exporter": "python",
   "pygments_lexer": "ipython3",
   "version": "3.8.5"
  }
 },
 "nbformat": 4,
 "nbformat_minor": 5
}
