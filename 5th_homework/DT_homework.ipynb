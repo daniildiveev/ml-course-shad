{
  "cells": [
    {
      "cell_type": "markdown",
      "id": "3579fa43-dca1-453c-94a4-d0dc0f6100fa",
      "metadata": {
        "id": "3579fa43-dca1-453c-94a4-d0dc0f6100fa"
      },
      "source": [
        "# Imports"
      ]
    },
    {
      "cell_type": "code",
      "execution_count": 105,
      "id": "b52276f0-1035-4929-b3f4-1a0947a36c6f",
      "metadata": {
        "execution": {
          "iopub.execute_input": "2022-09-18T10:33:50.777193Z",
          "iopub.status.busy": "2022-09-18T10:33:50.776810Z",
          "iopub.status.idle": "2022-09-18T10:33:50.781231Z",
          "shell.execute_reply": "2022-09-18T10:33:50.780052Z",
          "shell.execute_reply.started": "2022-09-18T10:33:50.777164Z"
        },
        "tags": [],
        "id": "b52276f0-1035-4929-b3f4-1a0947a36c6f"
      },
      "outputs": [],
      "source": [
        "import numpy as np\n",
        "from sklearn.datasets import fetch_covtype\n",
        "from sklearn.ensemble import RandomForestClassifier\n",
        "from sklearn.linear_model import LogisticRegression\n",
        "from sklearn.experimental import enable_halving_search_cv\n",
        "from sklearn.model_selection import HalvingGridSearchCV, train_test_split\n",
        "from sklearn.metrics import classification_report, make_scorer, accuracy_score, plot_roc_curve\n",
        "import matplotlib.pyplot as plt\n",
        "import warnings\n",
        "warnings.simplefilter(\"ignore\")"
      ]
    },
    {
      "cell_type": "markdown",
      "id": "6c9bca02-ca1e-45b2-8334-d2dfa4d6ddc6",
      "metadata": {
        "id": "6c9bca02-ca1e-45b2-8334-d2dfa4d6ddc6"
      },
      "source": [
        "# Loading and preparing data"
      ]
    },
    {
      "cell_type": "code",
      "execution_count": 106,
      "id": "b99d17e2-411c-4d8c-9c30-e31c2aedf9d6",
      "metadata": {
        "execution": {
          "iopub.execute_input": "2022-09-18T10:16:13.477943Z",
          "iopub.status.busy": "2022-09-18T10:16:13.477595Z",
          "iopub.status.idle": "2022-09-18T10:16:14.054284Z",
          "shell.execute_reply": "2022-09-18T10:16:14.053451Z",
          "shell.execute_reply.started": "2022-09-18T10:16:13.477914Z"
        },
        "tags": [],
        "id": "b99d17e2-411c-4d8c-9c30-e31c2aedf9d6"
      },
      "outputs": [],
      "source": [
        "X, y = fetch_covtype(return_X_y=True)"
      ]
    },
    {
      "cell_type": "code",
      "execution_count": 107,
      "id": "b8588a05-c679-46e1-a803-09c1552ec6fd",
      "metadata": {
        "execution": {
          "iopub.execute_input": "2022-09-18T10:16:14.056134Z",
          "iopub.status.busy": "2022-09-18T10:16:14.055892Z",
          "iopub.status.idle": "2022-09-18T10:16:14.060245Z",
          "shell.execute_reply": "2022-09-18T10:16:14.059680Z",
          "shell.execute_reply.started": "2022-09-18T10:16:14.056114Z"
        },
        "tags": [],
        "colab": {
          "base_uri": "https://localhost:8080/"
        },
        "id": "b8588a05-c679-46e1-a803-09c1552ec6fd",
        "outputId": "5d9aa795-565b-4003-911c-ae0a8ef26da8"
      },
      "outputs": [
        {
          "output_type": "execute_result",
          "data": {
            "text/plain": [
              "(581012, 54)"
            ]
          },
          "metadata": {},
          "execution_count": 107
        }
      ],
      "source": [
        "X.shape"
      ]
    },
    {
      "cell_type": "code",
      "execution_count": 108,
      "id": "80a8662b-f4f0-450f-8711-5d63e829fd74",
      "metadata": {
        "execution": {
          "iopub.execute_input": "2022-09-18T10:16:14.848519Z",
          "iopub.status.busy": "2022-09-18T10:16:14.848155Z",
          "iopub.status.idle": "2022-09-18T10:16:14.853410Z",
          "shell.execute_reply": "2022-09-18T10:16:14.852501Z",
          "shell.execute_reply.started": "2022-09-18T10:16:14.848469Z"
        },
        "tags": [],
        "colab": {
          "base_uri": "https://localhost:8080/"
        },
        "id": "80a8662b-f4f0-450f-8711-5d63e829fd74",
        "outputId": "3cb41ea2-f5a0-4ea9-cc58-5b3b9fb5be1f"
      },
      "outputs": [
        {
          "output_type": "execute_result",
          "data": {
            "text/plain": [
              "(581012,)"
            ]
          },
          "metadata": {},
          "execution_count": 108
        }
      ],
      "source": [
        "y.shape"
      ]
    },
    {
      "cell_type": "code",
      "execution_count": 109,
      "id": "44daab8a-fd61-4915-b088-d65573851390",
      "metadata": {
        "execution": {
          "iopub.execute_input": "2022-09-18T10:16:16.568336Z",
          "iopub.status.busy": "2022-09-18T10:16:16.567933Z",
          "iopub.status.idle": "2022-09-18T10:16:17.304417Z",
          "shell.execute_reply": "2022-09-18T10:16:17.303623Z",
          "shell.execute_reply.started": "2022-09-18T10:16:16.568306Z"
        },
        "tags": [],
        "id": "44daab8a-fd61-4915-b088-d65573851390"
      },
      "outputs": [],
      "source": [
        "y_new = np.array([1 if y_i == 2 else 0 for y_i in y])"
      ]
    },
    {
      "cell_type": "code",
      "execution_count": 110,
      "id": "41f7fdb2-552c-4c7f-bddd-a951bc979fd3",
      "metadata": {
        "execution": {
          "iopub.execute_input": "2022-09-18T10:16:17.786852Z",
          "iopub.status.busy": "2022-09-18T10:16:17.786513Z",
          "iopub.status.idle": "2022-09-18T10:16:17.792609Z",
          "shell.execute_reply": "2022-09-18T10:16:17.791799Z",
          "shell.execute_reply.started": "2022-09-18T10:16:17.786824Z"
        },
        "tags": [],
        "colab": {
          "base_uri": "https://localhost:8080/"
        },
        "id": "41f7fdb2-552c-4c7f-bddd-a951bc979fd3",
        "outputId": "2679f9c0-d8a6-45ec-816f-f6205852ca61"
      },
      "outputs": [
        {
          "output_type": "execute_result",
          "data": {
            "text/plain": [
              "array([5, 5, 2, ..., 3, 3, 3], dtype=int32)"
            ]
          },
          "metadata": {},
          "execution_count": 110
        }
      ],
      "source": [
        "y"
      ]
    },
    {
      "cell_type": "code",
      "execution_count": 111,
      "id": "b7b149d1-02d7-4e6e-b2b1-a54205b25683",
      "metadata": {
        "execution": {
          "iopub.execute_input": "2022-09-18T10:16:25.483115Z",
          "iopub.status.busy": "2022-09-18T10:16:25.482786Z",
          "iopub.status.idle": "2022-09-18T10:16:25.488432Z",
          "shell.execute_reply": "2022-09-18T10:16:25.487301Z",
          "shell.execute_reply.started": "2022-09-18T10:16:25.483087Z"
        },
        "tags": [],
        "colab": {
          "base_uri": "https://localhost:8080/"
        },
        "id": "b7b149d1-02d7-4e6e-b2b1-a54205b25683",
        "outputId": "9f4e2743-4663-4f7b-9d0c-1d628b79cc6d"
      },
      "outputs": [
        {
          "output_type": "execute_result",
          "data": {
            "text/plain": [
              "array([0, 0, 1, ..., 0, 0, 0])"
            ]
          },
          "metadata": {},
          "execution_count": 111
        }
      ],
      "source": [
        "y_new"
      ]
    },
    {
      "cell_type": "code",
      "source": [
        "x_train, x_test, y_train, y_test = train_test_split(X, y_new,\n",
        "                                                    test_size=0.3,\n",
        "                                                    shuffle=True,\n",
        "                                                    random_state=42, \n",
        "                                                    stratify=y_new)"
      ],
      "metadata": {
        "id": "A5Mfg4q1glDi"
      },
      "id": "A5Mfg4q1glDi",
      "execution_count": 112,
      "outputs": []
    },
    {
      "cell_type": "markdown",
      "id": "488efe95-dae1-4624-b13c-b0056fd287b4",
      "metadata": {
        "id": "488efe95-dae1-4624-b13c-b0056fd287b4"
      },
      "source": [
        "# Hyperparameters tuning"
      ]
    },
    {
      "cell_type": "code",
      "execution_count": 113,
      "id": "2e7fa89a-2383-44df-8bbc-a83205574e09",
      "metadata": {
        "execution": {
          "iopub.execute_input": "2022-09-18T10:37:01.219646Z",
          "iopub.status.busy": "2022-09-18T10:37:01.219303Z",
          "iopub.status.idle": "2022-09-18T10:37:01.224526Z",
          "shell.execute_reply": "2022-09-18T10:37:01.223469Z",
          "shell.execute_reply.started": "2022-09-18T10:37:01.219618Z"
        },
        "tags": [],
        "id": "2e7fa89a-2383-44df-8bbc-a83205574e09"
      },
      "outputs": [],
      "source": [
        "forest_parameters = {\n",
        "    \"criterion\" : [\"gini\", \"entropy\"],\n",
        "    \"n_estimators\" : [int(x) for x in np.linspace(10, 50, 5)],\n",
        "    \"max_depth\" : [x for x in range(4, 8)],\n",
        "    \"max_features\" : [\"log2\", \"sqrt\"], \n",
        "    \"bootstrap\" : [True, False]\n",
        "}"
      ]
    },
    {
      "cell_type": "code",
      "source": [
        "acc_scorer = make_scorer(accuracy_score)"
      ],
      "metadata": {
        "id": "t16bDvaTiAPx"
      },
      "id": "t16bDvaTiAPx",
      "execution_count": 114,
      "outputs": []
    },
    {
      "cell_type": "code",
      "execution_count": 115,
      "id": "2829adda-66b1-44a8-be6d-6e66277d785e",
      "metadata": {
        "execution": {
          "iopub.execute_input": "2022-09-18T10:37:49.892910Z",
          "iopub.status.busy": "2022-09-18T10:37:49.892417Z",
          "iopub.status.idle": "2022-09-18T10:37:49.897232Z",
          "shell.execute_reply": "2022-09-18T10:37:49.896136Z",
          "shell.execute_reply.started": "2022-09-18T10:37:49.892861Z"
        },
        "tags": [],
        "id": "2829adda-66b1-44a8-be6d-6e66277d785e"
      },
      "outputs": [],
      "source": [
        "forest = RandomForestClassifier()\n",
        "forest_grid_search = HalvingGridSearchCV(forest, forest_parameters, cv=3, scoring=acc_scorer)"
      ]
    },
    {
      "cell_type": "code",
      "execution_count": 116,
      "id": "ddbbdf3b-a4c0-4827-b0bd-d19f84b27000",
      "metadata": {
        "execution": {
          "iopub.execute_input": "2022-09-18T10:37:50.737173Z",
          "iopub.status.busy": "2022-09-18T10:37:50.736843Z"
        },
        "tags": [],
        "colab": {
          "base_uri": "https://localhost:8080/"
        },
        "id": "ddbbdf3b-a4c0-4827-b0bd-d19f84b27000",
        "outputId": "a1680738-b970-41c5-815b-10a54ddd867c"
      },
      "outputs": [
        {
          "output_type": "execute_result",
          "data": {
            "text/plain": [
              "HalvingGridSearchCV(cv=3, estimator=RandomForestClassifier(),\n",
              "                    param_grid={'bootstrap': [True, False],\n",
              "                                'criterion': ['gini', 'entropy'],\n",
              "                                'max_depth': [4, 5, 6, 7],\n",
              "                                'max_features': ['log2', 'sqrt'],\n",
              "                                'n_estimators': [10, 20, 30, 40, 50]},\n",
              "                    scoring=make_scorer(accuracy_score))"
            ]
          },
          "metadata": {},
          "execution_count": 116
        }
      ],
      "source": [
        "forest_grid_search.fit(x_train, y_train,)"
      ]
    },
    {
      "cell_type": "code",
      "source": [
        "forest_grid_search.best_params_"
      ],
      "metadata": {
        "colab": {
          "base_uri": "https://localhost:8080/"
        },
        "id": "hAluBo07mRn6",
        "outputId": "81c44e37-3a0f-4799-b468-483adaf70bdf"
      },
      "id": "hAluBo07mRn6",
      "execution_count": 117,
      "outputs": [
        {
          "output_type": "execute_result",
          "data": {
            "text/plain": [
              "{'bootstrap': True,\n",
              " 'criterion': 'gini',\n",
              " 'max_depth': 7,\n",
              " 'max_features': 'log2',\n",
              " 'n_estimators': 40}"
            ]
          },
          "metadata": {},
          "execution_count": 117
        }
      ]
    },
    {
      "cell_type": "code",
      "execution_count": 118,
      "id": "7985d323-6fcc-4eff-96bf-1b6a2364085c",
      "metadata": {
        "id": "7985d323-6fcc-4eff-96bf-1b6a2364085c"
      },
      "outputs": [],
      "source": [
        "best_forest = forest_grid_search.best_estimator_"
      ]
    },
    {
      "cell_type": "code",
      "source": [
        "forest_n_estimators = forest_grid_search.cv_results_['param_n_estimators'] \n",
        "forest_max_depth = forest_grid_search.cv_results_['param_max_depth']\n",
        "forest_mean_test_scores = forest_grid_search.cv_results_['mean_test_score']"
      ],
      "metadata": {
        "id": "i6HtvQYha49_"
      },
      "id": "i6HtvQYha49_",
      "execution_count": 132,
      "outputs": []
    },
    {
      "cell_type": "code",
      "source": [
        "mean_n_estim_test_score = []\n",
        "\n",
        "for n_estimators in sorted(set(forest_n_estimators)):\n",
        "    indexes = (forest_n_estimators == n_estimators)\n",
        "    mean_n_estim_test_score.append(np.mean(forest_mean_test_scores[indexes]))"
      ],
      "metadata": {
        "id": "Wbvp3FyRduHW"
      },
      "id": "Wbvp3FyRduHW",
      "execution_count": 133,
      "outputs": []
    },
    {
      "cell_type": "code",
      "source": [
        "mean_max_depth_test_score = []\n",
        "\n",
        "for max_depth in sorted(set(forest_max_depth)):\n",
        "    indexes = (forest_max_depth == max_depth)\n",
        "    mean_max_depth_test_score.append(np.mean(forest_mean_test_scores[indexes]))"
      ],
      "metadata": {
        "id": "N_n1lnR9oxbI"
      },
      "id": "N_n1lnR9oxbI",
      "execution_count": 134,
      "outputs": []
    },
    {
      "cell_type": "code",
      "source": [
        "plt.plot(sorted(set(forest_n_estimators)), mean_n_estim_test_score);\n",
        "plt.show()"
      ],
      "metadata": {
        "colab": {
          "base_uri": "https://localhost:8080/",
          "height": 265
        },
        "id": "z2r76h6lboTd",
        "outputId": "6ec6b3a7-8bd6-486f-b840-58321b436eb6"
      },
      "id": "z2r76h6lboTd",
      "execution_count": 121,
      "outputs": [
        {
          "output_type": "display_data",
          "data": {
            "text/plain": [
              "<Figure size 432x288 with 1 Axes>"
            ],
            "image/png": "[encoded data removed]"
          },
          "metadata": {
            "needs_background": "light"
          }
        }
      ]
    },
    {
      "cell_type": "code",
      "source": [
        "plt.plot(sorted(set(forest_max_depth)), mean_max_depth_test_score);\n",
        "plt.show()"
      ],
      "metadata": {
        "colab": {
          "base_uri": "https://localhost:8080/",
          "height": 265
        },
        "id": "Kev4GDLvpB3w",
        "outputId": "2c76e88e-107c-4e59-bd09-ff1689b2220f"
      },
      "id": "Kev4GDLvpB3w",
      "execution_count": 135,
      "outputs": [
        {
          "output_type": "display_data",
          "data": {
            "text/plain": [
              "<Figure size 432x288 with 1 Axes>"
            ],
            "image/png": "[encoded data removed]"
          },
          "metadata": {
            "needs_background": "light"
          }
        }
      ]
    },
    {
      "cell_type": "code",
      "source": [
        "logreg_parameters = {\n",
        "    'C' : np.logspace(-3, 5, 50, base=2)\n",
        "}"
      ],
      "metadata": {
        "id": "DeJHeYNkX5bO"
      },
      "id": "DeJHeYNkX5bO",
      "execution_count": 122,
      "outputs": []
    },
    {
      "cell_type": "code",
      "source": [
        "logreg = LogisticRegression()\n",
        "logreg_grid_search = HalvingGridSearchCV(logreg, logreg_parameters, cv=3, scoring=acc_scorer)"
      ],
      "metadata": {
        "id": "k8npTa--YUOG"
      },
      "id": "k8npTa--YUOG",
      "execution_count": 123,
      "outputs": []
    },
    {
      "cell_type": "code",
      "source": [
        "logreg_grid_search.fit(x_train, y_train)"
      ],
      "metadata": {
        "colab": {
          "base_uri": "https://localhost:8080/"
        },
        "id": "aZT6NSIvhAfs",
        "outputId": "5a197eb1-dfb9-4070-e098-74116a2533e6"
      },
      "id": "aZT6NSIvhAfs",
      "execution_count": 124,
      "outputs": [
        {
          "output_type": "execute_result",
          "data": {
            "text/plain": [
              "HalvingGridSearchCV(cv=3, estimator=LogisticRegression(),\n",
              "                    param_grid={'C': array([ 0.125     ,  0.13997735,  0.15674927,  0.17553078,  0.19656266,\n",
              "        0.22011457,  0.24648843,  0.27602238,  0.30909505,  0.34613045,\n",
              "        0.38760338,  0.43404555,  0.48605237,  0.54429058,  0.60950683,\n",
              "        0.6825372 ,  0.76431799,  0.85589766,  0.95845029,  1.07329065,\n",
              "        1.20189105,  1.34590019,  1.50716434,  1.68775096,  1.88997526,\n",
              "        2.11642982,  2.37001791,  2.65399061,  2.97198858,  3.32808868,\n",
              "        3.72685628,  4.17340372,  4.67345595,  5.23342383,  5.8604864 ,\n",
              "        6.56268285,  7.34901563,  8.22956587,  9.21562258, 10.31982742,\n",
              "       11.55633675, 12.94100316, 14.49157863, 16.22794219, 18.17235475,\n",
              "       20.3497445 , 22.78802646, 25.51846045, 28.57605177, 32.        ])},\n",
              "                    scoring=make_scorer(accuracy_score))"
            ]
          },
          "metadata": {},
          "execution_count": 124
        }
      ]
    },
    {
      "cell_type": "code",
      "source": [
        "logreg_grid_search.best_params_"
      ],
      "metadata": {
        "colab": {
          "base_uri": "https://localhost:8080/"
        },
        "id": "9I88ycStmdSr",
        "outputId": "04de019c-2473-4fa5-b503-26f1f97eed69"
      },
      "id": "9I88ycStmdSr",
      "execution_count": 125,
      "outputs": [
        {
          "output_type": "execute_result",
          "data": {
            "text/plain": [
              "{'C': 0.19656266450237375}"
            ]
          },
          "metadata": {},
          "execution_count": 125
        }
      ]
    },
    {
      "cell_type": "code",
      "source": [
        "best_logreg = logreg_grid_search.best_estimator_"
      ],
      "metadata": {
        "id": "s7-2vl64ZKbZ"
      },
      "id": "s7-2vl64ZKbZ",
      "execution_count": 126,
      "outputs": []
    },
    {
      "cell_type": "markdown",
      "source": [
        "# Evaluating models"
      ],
      "metadata": {
        "id": "SE1sedxSkNLr"
      },
      "id": "SE1sedxSkNLr"
    },
    {
      "cell_type": "code",
      "source": [
        "logreg_preds = best_logreg.predict(x_test)\n",
        "forest_preds = best_forest.predict(x_test)"
      ],
      "metadata": {
        "id": "0_e8UydcXtML"
      },
      "id": "0_e8UydcXtML",
      "execution_count": 127,
      "outputs": []
    },
    {
      "cell_type": "code",
      "source": [
        "print(classification_report(logreg_preds, y_test))"
      ],
      "metadata": {
        "colab": {
          "base_uri": "https://localhost:8080/"
        },
        "id": "swq8l1edkY5B",
        "outputId": "8915c306-eb00-462b-f3bc-1e4d50505b7e"
      },
      "id": "swq8l1edkY5B",
      "execution_count": 128,
      "outputs": [
        {
          "output_type": "stream",
          "name": "stdout",
          "text": [
            "              precision    recall  f1-score   support\n",
            "\n",
            "           0       0.66      0.61      0.63     95626\n",
            "           1       0.56      0.61      0.59     78678\n",
            "\n",
            "    accuracy                           0.61    174304\n",
            "   macro avg       0.61      0.61      0.61    174304\n",
            "weighted avg       0.61      0.61      0.61    174304\n",
            "\n"
          ]
        }
      ]
    },
    {
      "cell_type": "code",
      "source": [
        "print(classification_report(forest_preds, y_test))"
      ],
      "metadata": {
        "colab": {
          "base_uri": "https://localhost:8080/"
        },
        "id": "1KfL41lRkcP9",
        "outputId": "3089b0a8-55c0-49c7-f303-04f12feae24f"
      },
      "id": "1KfL41lRkcP9",
      "execution_count": 129,
      "outputs": [
        {
          "output_type": "stream",
          "name": "stdout",
          "text": [
            "              precision    recall  f1-score   support\n",
            "\n",
            "           0       0.70      0.78      0.74     80086\n",
            "           1       0.80      0.72      0.76     94218\n",
            "\n",
            "    accuracy                           0.75    174304\n",
            "   macro avg       0.75      0.75      0.75    174304\n",
            "weighted avg       0.75      0.75      0.75    174304\n",
            "\n"
          ]
        }
      ]
    },
    {
      "cell_type": "code",
      "source": [
        "plot_roc_curve(best_forest, x_test, y_test)"
      ],
      "metadata": {
        "colab": {
          "base_uri": "https://localhost:8080/",
          "height": 296
        },
        "id": "N6_hmypUlXZX",
        "outputId": "0531329a-78b4-44dd-a0e5-6655021c2aa1"
      },
      "id": "N6_hmypUlXZX",
      "execution_count": 130,
      "outputs": [
        {
          "output_type": "execute_result",
          "data": {
            "text/plain": [
              "<sklearn.metrics._plot.roc_curve.RocCurveDisplay at 0x7f167bff3e90>"
            ]
          },
          "metadata": {},
          "execution_count": 130
        },
        {
          "output_type": "display_data",
          "data": {
            "text/plain": [
              "<Figure size 432x288 with 1 Axes>"
            ],
            "image/png": "[encoded data removed]"
          },
          "metadata": {
            "needs_background": "light"
          }
        }
      ]
    },
    {
      "cell_type": "code",
      "source": [
        "plot_roc_curve(best_logreg, x_test, y_test)"
      ],
      "metadata": {
        "colab": {
          "base_uri": "https://localhost:8080/",
          "height": 296
        },
        "id": "tBS2jvbFlXer",
        "outputId": "36dcb89d-cfc2-4e0f-b7b9-2e867edfbea4"
      },
      "id": "tBS2jvbFlXer",
      "execution_count": 131,
      "outputs": [
        {
          "output_type": "execute_result",
          "data": {
            "text/plain": [
              "<sklearn.metrics._plot.roc_curve.RocCurveDisplay at 0x7f167bf51f10>"
            ]
          },
          "metadata": {},
          "execution_count": 131
        },
        {
          "output_type": "display_data",
          "data": {
            "text/plain": [
              "<Figure size 432x288 with 1 Axes>"
            ],
            "image/png": "[encoded data removed]"
          },
          "metadata": {
            "needs_background": "light"
          }
        }
      ]
    }
  ],
  "metadata": {
    "kernelspec": {
      "display_name": "Python 3",
      "language": "python",
      "name": "python3"
    },
    "language_info": {
      "codemirror_mode": {
        "name": "ipython",
        "version": 3
      },
      "file_extension": ".py",
      "mimetype": "text/x-python",
      "name": "python",
      "nbconvert_exporter": "python",
      "pygments_lexer": "ipython3",
      "version": "3.8.5"
    },
    "colab": {
      "provenance": [],
      "toc_visible": true
    },
    "accelerator": "GPU"
  },
  "nbformat": 4,
  "nbformat_minor": 5
}