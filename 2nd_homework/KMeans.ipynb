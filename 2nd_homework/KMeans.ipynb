{
 "cells": [
  {
   "cell_type": "code",
   "execution_count": 338,
   "id": "d98c1948-29af-4d6a-acad-4446d9cdab5e",
   "metadata": {
    "execution": {
     "iopub.execute_input": "2022-08-27T15:33:53.229145Z",
     "iopub.status.busy": "2022-08-27T15:33:53.228677Z",
     "iopub.status.idle": "2022-08-27T15:33:53.235156Z",
     "shell.execute_reply": "2022-08-27T15:33:53.233816Z",
     "shell.execute_reply.started": "2022-08-27T15:33:53.229105Z"
    },
    "tags": []
   },
   "outputs": [],
   "source": [
    "import numpy as np\n",
    "from sklearn.datasets.samples_generator import make_blobs\n",
    "from sklearn.cluster import KMeans\n",
    "from sklearn.metrics import silhouette_score\n",
    "from sklearn.model_selection import train_test_split\n",
    "import matplotlib.pyplot as plt"
   ]
  },
  {
   "cell_type": "code",
   "execution_count": 313,
   "id": "10b36bca-951e-429b-ad8f-a85a36e60d75",
   "metadata": {
    "execution": {
     "iopub.execute_input": "2022-08-27T15:23:32.359970Z",
     "iopub.status.busy": "2022-08-27T15:23:32.359501Z",
     "iopub.status.idle": "2022-08-27T15:23:32.367952Z",
     "shell.execute_reply": "2022-08-27T15:23:32.366357Z",
     "shell.execute_reply.started": "2022-08-27T15:23:32.359930Z"
    },
    "tags": []
   },
   "outputs": [],
   "source": [
    "X, y = make_blobs(n_samples=1000, centers=4, cluster_std=1., random_state=67,)"
   ]
  },
  {
   "cell_type": "code",
   "execution_count": 314,
   "id": "f94427ba-a75d-4941-902a-9db55d1c43a0",
   "metadata": {
    "execution": {
     "iopub.execute_input": "2022-08-27T15:23:32.671743Z",
     "iopub.status.busy": "2022-08-27T15:23:32.671401Z",
     "iopub.status.idle": "2022-08-27T15:23:32.813759Z",
     "shell.execute_reply": "2022-08-27T15:23:32.813081Z",
     "shell.execute_reply.started": "2022-08-27T15:23:32.671714Z"
    },
    "tags": []
   },
   "outputs": [
    {
     "data": {
      "text/plain": [
       "<matplotlib.collections.PathCollection at 0x7fed8e4ce4f0>"
      ]
     },
     "execution_count": 314,
     "metadata": {},
     "output_type": "execute_result"
    },
    {
     "data": {
      "image/png": "[encoded data removed]",
      "text/plain": [
       "<Figure size 432x288 with 1 Axes>"
      ]
     },
     "metadata": {
      "needs_background": "light"
     },
     "output_type": "display_data"
    }
   ],
   "source": [
    "plt.scatter(X[:, 0], X[:, 1])"
   ]
  },
  {
   "cell_type": "code",
   "execution_count": 316,
   "id": "83511776-4572-46bd-86d6-880c13d01fdf",
   "metadata": {
    "execution": {
     "iopub.execute_input": "2022-08-27T15:24:49.658405Z",
     "iopub.status.busy": "2022-08-27T15:24:49.658088Z",
     "iopub.status.idle": "2022-08-27T15:24:49.663511Z",
     "shell.execute_reply": "2022-08-27T15:24:49.662510Z",
     "shell.execute_reply.started": "2022-08-27T15:24:49.658379Z"
    }
   },
   "outputs": [],
   "source": [
    "x_train, x_val, y_train, y_val = train_test_split(X, y, test_size=0.3, random_state=42, shuffle=True)"
   ]
  },
  {
   "cell_type": "code",
   "execution_count": 317,
   "id": "f1074ca0-332c-436c-8271-89fc08b0d7ef",
   "metadata": {
    "execution": {
     "iopub.execute_input": "2022-08-27T15:24:52.674299Z",
     "iopub.status.busy": "2022-08-27T15:24:52.673802Z",
     "iopub.status.idle": "2022-08-27T15:24:52.690412Z",
     "shell.execute_reply": "2022-08-27T15:24:52.689310Z",
     "shell.execute_reply.started": "2022-08-27T15:24:52.674255Z"
    },
    "tags": []
   },
   "outputs": [],
   "source": [
    "class Kmeans:\n",
    "    def __init__(self, n_clusters:int, max_iter:int):\n",
    "        if n_clusters <= 0 or not isinstance(n_clusters, int):\n",
    "            raise ValueError('n must be a positive integer')\n",
    "            \n",
    "        if max_iter <= 0 or not isinstance(max_iter, int):\n",
    "            raise ValueError('max_iter must be a positive integer')\n",
    "            \n",
    "        self.k = n_clusters\n",
    "        self.clusters = np.array([i for i in range(self.k)])\n",
    "        self.max_iter = max_iter\n",
    "    \n",
    "    @staticmethod\n",
    "    def dist(data, centroids):\n",
    "        distance = np.sum((np.array(centroids) - data[:, None, :])**2, axis = 2)\n",
    "        return distance\n",
    "        \n",
    "    def init_centeroids(self, X, pdf_method=True):\n",
    "        centers = []\n",
    "\n",
    "        initial_index = np.random.choice(range(X.shape[0]), )\n",
    "        centers.append(X[initial_index, :].tolist())\n",
    "\n",
    "        for i in range(self.k - 1):\n",
    "            distance = self.dist(X, np.array(centers))\n",
    "        \n",
    "            if i == 0:\n",
    "                pdf = distance / np.sum(distance)\n",
    "                centroid_new = X[np.random.choice(range(X.shape[0]), replace = False, p = pdf.flatten())]\n",
    "            else:\n",
    "                dist_min = np.min(distance, axis = 1)\n",
    "                \n",
    "                if pdf_method == True:\n",
    "                    pdf = dist_min / np.sum(dist_min)\n",
    "                    centroid_new = X[np.random.choice(range(X.shape[0]), replace = False, p = pdf)]\n",
    "                else:\n",
    "                    index_max = np.argmax(dist_min, axis = 0)\n",
    "                    centroid_new = X[index_max, :]\n",
    "                    \n",
    "            centers.append(centroid_new.tolist())\n",
    "            \n",
    "        return np.array(centers)\n",
    "        \n",
    "    def fit(self, X):\n",
    "        self.centroids = self.init_centeroids(X)\n",
    "        self.n_dims = X.shape[1]\n",
    "        \n",
    "        for epoch in range(self.max_iter):\n",
    "            points_clusters = []\n",
    "        \n",
    "            for point in X:\n",
    "                distances = np.linalg.norm(self.centroids - point, axis=1)\n",
    "                cluster = distances.argsort()[0]    \n",
    "                points_clusters.append(cluster)\n",
    "\n",
    "            points_clusters = np.array(points_clusters)\n",
    "\n",
    "            for i, cluster in enumerate(self.clusters):\n",
    "                try:\n",
    "                    self.centroids[i] = [np.mean(X[points_clusters == cluster][:,j]) for j in range(self.n_dims)] \n",
    "                except IndexError:\n",
    "                    continue\n",
    "                    \n",
    "        return self\n",
    "    \n",
    "    def predict(self, points):\n",
    "        predicted_clusters = []\n",
    "        \n",
    "        for point in points:\n",
    "            distances = np.linalg.norm(point - self.centroids, axis=1)\n",
    "            cluster = distances.argsort()[0] \n",
    "            \n",
    "            predicted_clusters.append(cluster)\n",
    "            \n",
    "        return np.array(predicted_clusters)            "
   ]
  },
  {
   "cell_type": "code",
   "execution_count": 324,
   "id": "5304e3da-5b63-4b55-bae7-f8d44e889a28",
   "metadata": {
    "execution": {
     "iopub.execute_input": "2022-08-27T15:25:52.776336Z",
     "iopub.status.busy": "2022-08-27T15:25:52.775893Z",
     "iopub.status.idle": "2022-08-27T15:25:54.603405Z",
     "shell.execute_reply": "2022-08-27T15:25:54.602268Z",
     "shell.execute_reply.started": "2022-08-27T15:25:52.776296Z"
    },
    "tags": []
   },
   "outputs": [],
   "source": [
    "instance = Kmeans(4, 300).fit(x_train)"
   ]
  },
  {
   "cell_type": "code",
   "execution_count": 325,
   "id": "ce073852-d799-4e70-98ff-d610e581c332",
   "metadata": {
    "execution": {
     "iopub.execute_input": "2022-08-27T15:25:54.605275Z",
     "iopub.status.busy": "2022-08-27T15:25:54.605065Z",
     "iopub.status.idle": "2022-08-27T15:25:54.732109Z",
     "shell.execute_reply": "2022-08-27T15:25:54.731274Z",
     "shell.execute_reply.started": "2022-08-27T15:25:54.605256Z"
    },
    "tags": []
   },
   "outputs": [
    {
     "data": {
      "image/png": "[encoded data removed]",
      "text/plain": [
       "<Figure size 432x288 with 1 Axes>"
      ]
     },
     "metadata": {
      "needs_background": "light"
     },
     "output_type": "display_data"
    }
   ],
   "source": [
    "plt.scatter(x_train[:, 0], x_train[:, 1]);\n",
    "plt.scatter(instance.centroids[:, 0], instance.centroids[:, 1]);"
   ]
  },
  {
   "cell_type": "code",
   "execution_count": 326,
   "id": "3a2a3e05-84ce-473f-ac21-c1470f019ae8",
   "metadata": {
    "execution": {
     "iopub.execute_input": "2022-08-27T15:25:54.832121Z",
     "iopub.status.busy": "2022-08-27T15:25:54.831614Z",
     "iopub.status.idle": "2022-08-27T15:25:54.837386Z",
     "shell.execute_reply": "2022-08-27T15:25:54.836531Z",
     "shell.execute_reply.started": "2022-08-27T15:25:54.832085Z"
    },
    "tags": []
   },
   "outputs": [
    {
     "data": {
      "text/plain": [
       "array([[-5.61998436,  8.59113261],\n",
       "       [-8.82185503, -2.23181205],\n",
       "       [ 3.60230499, -3.37502638],\n",
       "       [ 0.7697071 ,  7.31400674]])"
      ]
     },
     "execution_count": 326,
     "metadata": {},
     "output_type": "execute_result"
    }
   ],
   "source": [
    "instance.centroids"
   ]
  },
  {
   "cell_type": "code",
   "execution_count": 327,
   "id": "58370f34-9700-411e-b48a-1fb36c2d8478",
   "metadata": {
    "execution": {
     "iopub.execute_input": "2022-08-27T15:26:39.092395Z",
     "iopub.status.busy": "2022-08-27T15:26:39.091957Z",
     "iopub.status.idle": "2022-08-27T15:26:39.102787Z",
     "shell.execute_reply": "2022-08-27T15:26:39.101765Z",
     "shell.execute_reply.started": "2022-08-27T15:26:39.092356Z"
    }
   },
   "outputs": [],
   "source": [
    "my_predictions = instance.predict(x_val)"
   ]
  },
  {
   "cell_type": "code",
   "execution_count": 328,
   "id": "b3865569-5a22-453e-b437-2761016a58f0",
   "metadata": {
    "execution": {
     "iopub.execute_input": "2022-08-27T15:26:49.927200Z",
     "iopub.status.busy": "2022-08-27T15:26:49.926759Z",
     "iopub.status.idle": "2022-08-27T15:26:49.933565Z",
     "shell.execute_reply": "2022-08-27T15:26:49.932716Z",
     "shell.execute_reply.started": "2022-08-27T15:26:49.927163Z"
    }
   },
   "outputs": [
    {
     "data": {
      "text/plain": [
       "array([2, 3, 0, 3, 3, 3, 1, 0, 3, 0, 2, 1, 1, 3, 1, 0, 1, 2, 3, 3, 3, 2,\n",
       "       2, 0, 3, 0, 1, 1, 0, 1, 3, 0, 1, 1, 1, 1, 1, 0, 2, 0, 1, 0, 1, 1,\n",
       "       1, 2, 0, 3, 1, 1, 0, 0, 0, 3, 0, 3, 1, 0, 1, 0, 2, 0, 3, 1, 3, 2,\n",
       "       3, 2, 3, 3, 1, 2, 0, 2, 3, 0, 3, 1, 1, 2, 2, 0, 3, 0, 0, 2, 3, 1,\n",
       "       3, 1, 3, 2, 0, 0, 3, 3, 0, 2, 2, 1, 2, 2, 0, 2, 3, 2, 1, 0, 0, 1,\n",
       "       3, 2, 3, 3, 0, 2, 3, 3, 2, 0, 0, 1, 0, 1, 3, 1, 1, 0, 0, 1, 0, 1,\n",
       "       3, 1, 0, 3, 2, 1, 3, 2, 1, 2, 3, 2, 0, 1, 2, 3, 3, 1, 2, 3, 2, 2,\n",
       "       1, 0, 0, 0, 0, 3, 1, 1, 2, 0, 2, 3, 3, 0, 1, 2, 1, 2, 1, 0, 1, 0,\n",
       "       0, 3, 0, 1, 2, 1, 2, 3, 3, 3, 2, 3, 0, 1, 0, 3, 0, 1, 2, 3, 3, 1,\n",
       "       3, 1, 0, 3, 1, 0, 1, 2, 3, 0, 0, 1, 1, 2, 2, 1, 3, 2, 0, 0, 0, 0,\n",
       "       2, 0, 1, 0, 0, 1, 0, 3, 1, 2, 0, 2, 1, 1, 0, 2, 3, 3, 3, 0, 1, 3,\n",
       "       3, 2, 3, 2, 0, 3, 2, 1, 2, 2, 1, 0, 2, 2, 1, 2, 0, 1, 0, 0, 3, 1,\n",
       "       1, 3, 3, 3, 2, 2, 2, 1, 2, 3, 2, 3, 3, 1, 1, 1, 1, 2, 0, 1, 0, 3,\n",
       "       3, 1, 0, 3, 0, 1, 1, 0, 3, 0, 0, 0, 3, 2])"
      ]
     },
     "execution_count": 328,
     "metadata": {},
     "output_type": "execute_result"
    }
   ],
   "source": [
    "my_predictions"
   ]
  },
  {
   "cell_type": "code",
   "execution_count": 342,
   "id": "b73b11de-070c-41af-b818-bdf21c394dba",
   "metadata": {
    "execution": {
     "iopub.execute_input": "2022-08-27T15:35:23.619447Z",
     "iopub.status.busy": "2022-08-27T15:35:23.618974Z",
     "iopub.status.idle": "2022-08-27T15:35:23.630977Z",
     "shell.execute_reply": "2022-08-27T15:35:23.630011Z",
     "shell.execute_reply.started": "2022-08-27T15:35:23.619407Z"
    }
   },
   "outputs": [
    {
     "data": {
      "text/plain": [
       "1.0"
      ]
     },
     "execution_count": 342,
     "metadata": {},
     "output_type": "execute_result"
    }
   ],
   "source": [
    "silhouette_score(y_val.reshape(-1, 1), my_predictions)"
   ]
  },
  {
   "cell_type": "code",
   "execution_count": 330,
   "id": "9fd59d84-5eae-4b6e-bab2-a49539f9b1c2",
   "metadata": {
    "execution": {
     "iopub.execute_input": "2022-08-27T15:27:51.651280Z",
     "iopub.status.busy": "2022-08-27T15:27:51.650924Z",
     "iopub.status.idle": "2022-08-27T15:27:51.700437Z",
     "shell.execute_reply": "2022-08-27T15:27:51.699017Z",
     "shell.execute_reply.started": "2022-08-27T15:27:51.651250Z"
    },
    "tags": []
   },
   "outputs": [
    {
     "data": {
      "text/plain": [
       "KMeans(n_clusters=4)"
      ]
     },
     "execution_count": 330,
     "metadata": {},
     "output_type": "execute_result"
    }
   ],
   "source": [
    "instance = KMeans(n_clusters = 4)\n",
    "instance.fit(X)"
   ]
  },
  {
   "cell_type": "code",
   "execution_count": 331,
   "id": "ae810140-affc-4f48-bf77-6000cb23786f",
   "metadata": {
    "execution": {
     "iopub.execute_input": "2022-08-27T15:27:52.635148Z",
     "iopub.status.busy": "2022-08-27T15:27:52.634727Z",
     "iopub.status.idle": "2022-08-27T15:27:52.771185Z",
     "shell.execute_reply": "2022-08-27T15:27:52.770402Z",
     "shell.execute_reply.started": "2022-08-27T15:27:52.635111Z"
    },
    "tags": []
   },
   "outputs": [
    {
     "data": {
      "image/png": "[encoded data removed]",
      "text/plain": [
       "<Figure size 432x288 with 1 Axes>"
      ]
     },
     "metadata": {
      "needs_background": "light"
     },
     "output_type": "display_data"
    }
   ],
   "source": [
    "plt.scatter(x_train[:, 0], x_train[:, 1]);\n",
    "plt.scatter(instance.cluster_centers_[:, 0], instance.cluster_centers_[:, 1]);"
   ]
  },
  {
   "cell_type": "code",
   "execution_count": 332,
   "id": "bd128987-adf6-4842-8fc1-806fb77987c9",
   "metadata": {
    "execution": {
     "iopub.execute_input": "2022-08-27T15:27:55.335112Z",
     "iopub.status.busy": "2022-08-27T15:27:55.334674Z",
     "iopub.status.idle": "2022-08-27T15:27:55.341502Z",
     "shell.execute_reply": "2022-08-27T15:27:55.340636Z",
     "shell.execute_reply.started": "2022-08-27T15:27:55.335074Z"
    },
    "tags": []
   },
   "outputs": [
    {
     "data": {
      "text/plain": [
       "array([[-5.68672173,  8.64868295],\n",
       "       [ 3.61598473, -3.38299416],\n",
       "       [-8.87296037, -2.26574761],\n",
       "       [ 0.81340971,  7.20791546]])"
      ]
     },
     "execution_count": 332,
     "metadata": {},
     "output_type": "execute_result"
    }
   ],
   "source": [
    "instance.cluster_centers_"
   ]
  },
  {
   "cell_type": "code",
   "execution_count": 333,
   "id": "0552e7ff-3d1d-44a2-9c1b-20a467ff626e",
   "metadata": {
    "execution": {
     "iopub.execute_input": "2022-08-27T15:28:10.469566Z",
     "iopub.status.busy": "2022-08-27T15:28:10.469058Z",
     "iopub.status.idle": "2022-08-27T15:28:10.477523Z",
     "shell.execute_reply": "2022-08-27T15:28:10.476317Z",
     "shell.execute_reply.started": "2022-08-27T15:28:10.469522Z"
    }
   },
   "outputs": [],
   "source": [
    "sklearn_predictions = instance.predict(x_val)"
   ]
  },
  {
   "cell_type": "code",
   "execution_count": 334,
   "id": "7d98b374-d037-426f-97c9-22ad56d7cbe4",
   "metadata": {
    "execution": {
     "iopub.execute_input": "2022-08-27T15:28:15.570805Z",
     "iopub.status.busy": "2022-08-27T15:28:15.569963Z",
     "iopub.status.idle": "2022-08-27T15:28:15.579790Z",
     "shell.execute_reply": "2022-08-27T15:28:15.578569Z",
     "shell.execute_reply.started": "2022-08-27T15:28:15.570755Z"
    }
   },
   "outputs": [
    {
     "data": {
      "text/plain": [
       "array([1, 3, 0, 3, 3, 3, 2, 0, 3, 0, 1, 2, 2, 3, 2, 0, 2, 1, 3, 3, 3, 1,\n",
       "       1, 0, 3, 0, 2, 2, 0, 2, 3, 0, 2, 2, 2, 2, 2, 0, 1, 0, 2, 0, 2, 2,\n",
       "       2, 1, 0, 3, 2, 2, 0, 0, 0, 3, 0, 3, 2, 0, 2, 0, 1, 0, 3, 2, 3, 1,\n",
       "       3, 1, 3, 3, 2, 1, 0, 1, 3, 0, 3, 2, 2, 1, 1, 0, 3, 0, 0, 1, 3, 2,\n",
       "       3, 2, 3, 1, 0, 0, 3, 3, 0, 1, 1, 2, 1, 1, 0, 1, 3, 1, 2, 0, 0, 2,\n",
       "       3, 1, 3, 3, 0, 1, 3, 3, 1, 0, 0, 2, 0, 2, 3, 2, 2, 0, 0, 2, 0, 2,\n",
       "       3, 2, 0, 3, 1, 2, 3, 1, 2, 1, 3, 1, 0, 2, 1, 3, 3, 2, 1, 3, 1, 1,\n",
       "       2, 0, 0, 0, 0, 3, 2, 2, 1, 0, 1, 3, 3, 0, 2, 1, 2, 1, 2, 0, 2, 0,\n",
       "       0, 3, 0, 2, 1, 2, 1, 3, 3, 3, 1, 3, 0, 2, 0, 3, 0, 2, 1, 3, 3, 2,\n",
       "       3, 2, 0, 3, 2, 0, 2, 1, 3, 0, 0, 2, 2, 1, 1, 2, 3, 1, 0, 0, 0, 0,\n",
       "       1, 0, 2, 0, 0, 2, 0, 3, 2, 1, 0, 1, 2, 2, 0, 1, 3, 3, 3, 0, 2, 3,\n",
       "       3, 1, 3, 1, 0, 3, 1, 2, 1, 1, 2, 0, 1, 1, 2, 1, 0, 2, 0, 0, 3, 2,\n",
       "       2, 3, 3, 3, 1, 1, 1, 2, 1, 3, 1, 3, 3, 2, 2, 2, 2, 1, 0, 2, 0, 3,\n",
       "       3, 2, 0, 3, 0, 2, 2, 0, 3, 0, 0, 0, 3, 1], dtype=int32)"
      ]
     },
     "execution_count": 334,
     "metadata": {},
     "output_type": "execute_result"
    }
   ],
   "source": [
    "sklearn_predictions"
   ]
  },
  {
   "cell_type": "code",
   "execution_count": 341,
   "id": "045e8250-e6ab-44bb-8b9d-2fd91b272978",
   "metadata": {
    "execution": {
     "iopub.execute_input": "2022-08-27T15:34:56.516563Z",
     "iopub.status.busy": "2022-08-27T15:34:56.516007Z",
     "iopub.status.idle": "2022-08-27T15:34:56.535839Z",
     "shell.execute_reply": "2022-08-27T15:34:56.535046Z",
     "shell.execute_reply.started": "2022-08-27T15:34:56.516525Z"
    },
    "tags": []
   },
   "outputs": [
    {
     "data": {
      "text/plain": [
       "1.0"
      ]
     },
     "execution_count": 341,
     "metadata": {},
     "output_type": "execute_result"
    }
   ],
   "source": [
    "silhouette_score(y_val.reshape(-1, 1), sklearn_predictions)"
   ]
  }
 ],
 "metadata": {
  "kernelspec": {
   "display_name": "Python 3",
   "language": "python",
   "name": "python3"
  },
  "language_info": {
   "codemirror_mode": {
    "name": "ipython",
    "version": 3
   },
   "file_extension": ".py",
   "mimetype": "text/x-python",
   "name": "python",
   "nbconvert_exporter": "python",
   "pygments_lexer": "ipython3",
   "version": "3.8.5"
  }
 },
 "nbformat": 4,
 "nbformat_minor": 5
}
