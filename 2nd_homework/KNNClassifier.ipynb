{
 "cells": [
  {
   "cell_type": "code",
   "execution_count": 199,
   "id": "1a1b6c74-710f-44d8-aaad-78448af2b2b8",
   "metadata": {
    "execution": {
     "iopub.execute_input": "2022-08-27T18:25:28.186964Z",
     "iopub.status.busy": "2022-08-27T18:25:28.186504Z",
     "iopub.status.idle": "2022-08-27T18:25:28.193022Z",
     "shell.execute_reply": "2022-08-27T18:25:28.191773Z",
     "shell.execute_reply.started": "2022-08-27T18:25:28.186923Z"
    },
    "tags": []
   },
   "outputs": [],
   "source": [
    "import numpy as np\n",
    "from sklearn.datasets import make_classification\n",
    "from sklearn.model_selection import train_test_split\n",
    "from sklearn.metrics import accuracy_score\n",
    "import seaborn as sns"
   ]
  },
  {
   "cell_type": "code",
   "execution_count": 193,
   "id": "a3dda4a6-4698-4bfb-8bf1-1f1755ccaf66",
   "metadata": {
    "execution": {
     "iopub.execute_input": "2022-08-27T18:22:03.066462Z",
     "iopub.status.busy": "2022-08-27T18:22:03.065879Z",
     "iopub.status.idle": "2022-08-27T18:22:03.074916Z",
     "shell.execute_reply": "2022-08-27T18:22:03.073770Z",
     "shell.execute_reply.started": "2022-08-27T18:22:03.066416Z"
    },
    "tags": []
   },
   "outputs": [],
   "source": [
    "X, y = make_classification(n_samples = 1000, n_features=2, n_redundant=0, n_informative=2,\n",
    "                             n_clusters_per_class=1, n_classes=2, random_state=67)"
   ]
  },
  {
   "cell_type": "code",
   "execution_count": 194,
   "id": "d0e8a8a2-b5b6-4e50-a9ab-fe7c4acd7c08",
   "metadata": {
    "execution": {
     "iopub.execute_input": "2022-08-27T18:22:03.887429Z",
     "iopub.status.busy": "2022-08-27T18:22:03.886913Z",
     "iopub.status.idle": "2022-08-27T18:22:04.033746Z",
     "shell.execute_reply": "2022-08-27T18:22:04.033153Z",
     "shell.execute_reply.started": "2022-08-27T18:22:03.887387Z"
    },
    "tags": []
   },
   "outputs": [
    {
     "data": {
      "text/plain": [
       "<matplotlib.collections.PathCollection at 0x7fe3ba90dca0>"
      ]
     },
     "execution_count": 194,
     "metadata": {},
     "output_type": "execute_result"
    },
    {
     "data": {
      "image/png": "[encoded data removed]",
      "text/plain": [
       "<Figure size 432x288 with 1 Axes>"
      ]
     },
     "metadata": {
      "needs_background": "light"
     },
     "output_type": "display_data"
    }
   ],
   "source": [
    "plt.scatter(X[:, 0], X[:, 1])"
   ]
  },
  {
   "cell_type": "code",
   "execution_count": 197,
   "id": "dddbd111-e492-48a4-9a23-3714a4d0aa20",
   "metadata": {
    "execution": {
     "iopub.execute_input": "2022-08-27T18:24:56.303909Z",
     "iopub.status.busy": "2022-08-27T18:24:56.303462Z",
     "iopub.status.idle": "2022-08-27T18:24:56.310999Z",
     "shell.execute_reply": "2022-08-27T18:24:56.309492Z",
     "shell.execute_reply.started": "2022-08-27T18:24:56.303869Z"
    }
   },
   "outputs": [],
   "source": [
    "x_train, x_val, y_train, y_val = train_test_split(X, y, test_size=0.3, shuffle=True, random_state=42)"
   ]
  },
  {
   "cell_type": "code",
   "execution_count": 195,
   "id": "0a3dae36-70d3-4e52-9ac3-3b5ff771ffe2",
   "metadata": {
    "execution": {
     "iopub.execute_input": "2022-08-27T18:22:13.793556Z",
     "iopub.status.busy": "2022-08-27T18:22:13.793105Z",
     "iopub.status.idle": "2022-08-27T18:22:13.802976Z",
     "shell.execute_reply": "2022-08-27T18:22:13.801773Z",
     "shell.execute_reply.started": "2022-08-27T18:22:13.793517Z"
    },
    "tags": []
   },
   "outputs": [],
   "source": [
    "class KNNClassifier:\n",
    "    def __init__(self, k:int) -> None:\n",
    "        if k <= 0:\n",
    "            raise ValueError('k must be a positive number')\n",
    "        self.k = k\n",
    "    \n",
    "    def fit(self, X, y) -> 'KNNClassifier':\n",
    "        self.x = X\n",
    "        self.y = y\n",
    "        \n",
    "        return self\n",
    "    \n",
    "    def predict(self, points) -> int:\n",
    "        predicted_labels = []\n",
    "        \n",
    "        for point in points:\n",
    "            distances = np.linalg.norm(self.x - point, axis=1)\n",
    "            neighbors_indexes = distances.argsort()[:self.k] \n",
    "            neighbors_labels = self.y[neighbors_indexes]\n",
    "\n",
    "            labels_to_num = {label : np.count_nonzero(neighbors_labels == label) for label in set(neighbors_labels)}\n",
    "            labels_to_num = sorted(labels_to_num.items(), key=lambda x: x[1], reverse=True)\n",
    "\n",
    "            predicted_labels.append(labels_to_num[0][0])\n",
    "            \n",
    "        return np.array(predicted_labels)"
   ]
  },
  {
   "cell_type": "code",
   "execution_count": 202,
   "id": "134f8f5c-2d35-4459-8adc-e489b33f8b8d",
   "metadata": {
    "execution": {
     "iopub.execute_input": "2022-08-27T18:26:58.644840Z",
     "iopub.status.busy": "2022-08-27T18:26:58.644357Z",
     "iopub.status.idle": "2022-08-27T18:26:58.656267Z",
     "shell.execute_reply": "2022-08-27T18:26:58.654457Z",
     "shell.execute_reply.started": "2022-08-27T18:26:58.644799Z"
    },
    "tags": []
   },
   "outputs": [],
   "source": [
    "model = KNNClassifier(k=3).fit(x_train, y_train)"
   ]
  },
  {
   "cell_type": "code",
   "execution_count": 203,
   "id": "6f269502-4c9f-418c-bd21-e854be9b5ecc",
   "metadata": {
    "execution": {
     "iopub.execute_input": "2022-08-27T18:26:58.816247Z",
     "iopub.status.busy": "2022-08-27T18:26:58.815864Z",
     "iopub.status.idle": "2022-08-27T18:26:58.850584Z",
     "shell.execute_reply": "2022-08-27T18:26:58.849784Z",
     "shell.execute_reply.started": "2022-08-27T18:26:58.816217Z"
    },
    "tags": []
   },
   "outputs": [],
   "source": [
    "my_predictions = model.predict(x_val)"
   ]
  },
  {
   "cell_type": "code",
   "execution_count": 204,
   "id": "c140514b-baa2-4192-956c-cf1241db7ad8",
   "metadata": {
    "execution": {
     "iopub.execute_input": "2022-08-27T18:27:17.629576Z",
     "iopub.status.busy": "2022-08-27T18:27:17.629068Z",
     "iopub.status.idle": "2022-08-27T18:27:17.637955Z",
     "shell.execute_reply": "2022-08-27T18:27:17.636777Z",
     "shell.execute_reply.started": "2022-08-27T18:27:17.629532Z"
    }
   },
   "outputs": [
    {
     "data": {
      "text/plain": [
       "0.9766666666666667"
      ]
     },
     "execution_count": 204,
     "metadata": {},
     "output_type": "execute_result"
    }
   ],
   "source": [
    "accuracy_score(my_predictions, y_val)"
   ]
  },
  {
   "cell_type": "code",
   "execution_count": 205,
   "id": "59bc320a-3134-49fb-bc57-39633b6b9b2f",
   "metadata": {
    "execution": {
     "iopub.execute_input": "2022-08-27T18:28:09.673667Z",
     "iopub.status.busy": "2022-08-27T18:28:09.673219Z",
     "iopub.status.idle": "2022-08-27T18:28:09.685080Z",
     "shell.execute_reply": "2022-08-27T18:28:09.683784Z",
     "shell.execute_reply.started": "2022-08-27T18:28:09.673627Z"
    }
   },
   "outputs": [],
   "source": [
    "model = KNeighborsClassifier(n_neighbors=3).fit(x_train, y_train)"
   ]
  },
  {
   "cell_type": "code",
   "execution_count": 206,
   "id": "272851bd-5808-4b99-9b20-69711ad804ce",
   "metadata": {
    "execution": {
     "iopub.execute_input": "2022-08-27T18:28:25.128061Z",
     "iopub.status.busy": "2022-08-27T18:28:25.127630Z",
     "iopub.status.idle": "2022-08-27T18:28:25.149673Z",
     "shell.execute_reply": "2022-08-27T18:28:25.148789Z",
     "shell.execute_reply.started": "2022-08-27T18:28:25.128023Z"
    }
   },
   "outputs": [],
   "source": [
    "sklearn_predictions = model.predict(x_val)"
   ]
  },
  {
   "cell_type": "code",
   "execution_count": 207,
   "id": "0e99fcdb-ca49-46c8-b372-741a76259391",
   "metadata": {
    "execution": {
     "iopub.execute_input": "2022-08-27T18:28:34.388790Z",
     "iopub.status.busy": "2022-08-27T18:28:34.388331Z",
     "iopub.status.idle": "2022-08-27T18:28:34.396273Z",
     "shell.execute_reply": "2022-08-27T18:28:34.395227Z",
     "shell.execute_reply.started": "2022-08-27T18:28:34.388750Z"
    }
   },
   "outputs": [
    {
     "data": {
      "text/plain": [
       "0.9766666666666667"
      ]
     },
     "execution_count": 207,
     "metadata": {},
     "output_type": "execute_result"
    }
   ],
   "source": [
    "accuracy_score(sklearn_predictions, y_val)"
   ]
  },
  {
   "cell_type": "code",
   "execution_count": 208,
   "id": "40b2921b-edfa-435d-96c3-86f66b45058c",
   "metadata": {
    "execution": {
     "iopub.execute_input": "2022-08-27T18:28:48.274620Z",
     "iopub.status.busy": "2022-08-27T18:28:48.274218Z",
     "iopub.status.idle": "2022-08-27T18:28:48.282475Z",
     "shell.execute_reply": "2022-08-27T18:28:48.279942Z",
     "shell.execute_reply.started": "2022-08-27T18:28:48.274585Z"
    }
   },
   "outputs": [
    {
     "data": {
      "text/plain": [
       "True"
      ]
     },
     "execution_count": 208,
     "metadata": {},
     "output_type": "execute_result"
    }
   ],
   "source": [
    "(sklearn_predictions == my_predictions).all()"
   ]
  }
 ],
 "metadata": {
  "kernelspec": {
   "display_name": "Python 3",
   "language": "python",
   "name": "python3"
  },
  "language_info": {
   "codemirror_mode": {
    "name": "ipython",
    "version": 3
   },
   "file_extension": ".py",
   "mimetype": "text/x-python",
   "name": "python",
   "nbconvert_exporter": "python",
   "pygments_lexer": "ipython3",
   "version": "3.8.5"
  }
 },
 "nbformat": 4,
 "nbformat_minor": 5
}
