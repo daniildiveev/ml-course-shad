{
 "cells": [
  {
   "cell_type": "code",
   "execution_count": 165,
   "id": "1a1b6c74-710f-44d8-aaad-78448af2b2b8",
   "metadata": {
    "execution": {
     "iopub.execute_input": "2022-08-26T15:51:09.910837Z",
     "iopub.status.busy": "2022-08-26T15:51:09.910504Z",
     "iopub.status.idle": "2022-08-26T15:51:09.915703Z",
     "shell.execute_reply": "2022-08-26T15:51:09.914367Z",
     "shell.execute_reply.started": "2022-08-26T15:51:09.910809Z"
    },
    "tags": []
   },
   "outputs": [],
   "source": [
    "import numpy as np\n",
    "from sklearn.datasets import make_classification\n",
    "import seaborn as sns"
   ]
  },
  {
   "cell_type": "code",
   "execution_count": 166,
   "id": "a3dda4a6-4698-4bfb-8bf1-1f1755ccaf66",
   "metadata": {
    "execution": {
     "iopub.execute_input": "2022-08-26T15:51:10.097312Z",
     "iopub.status.busy": "2022-08-26T15:51:10.096958Z",
     "iopub.status.idle": "2022-08-26T15:51:10.102791Z",
     "shell.execute_reply": "2022-08-26T15:51:10.101795Z",
     "shell.execute_reply.started": "2022-08-26T15:51:10.097281Z"
    },
    "tags": []
   },
   "outputs": [],
   "source": [
    "X, y = make_classification(n_samples = 1000, n_features=2, n_redundant=0, n_informative=2,\n",
    "                             n_clusters_per_class=1, n_classes=2, random_state=67)"
   ]
  },
  {
   "cell_type": "code",
   "execution_count": 167,
   "id": "0a3dae36-70d3-4e52-9ac3-3b5ff771ffe2",
   "metadata": {
    "execution": {
     "iopub.execute_input": "2022-08-26T15:51:10.294763Z",
     "iopub.status.busy": "2022-08-26T15:51:10.294397Z",
     "iopub.status.idle": "2022-08-26T15:51:10.302712Z",
     "shell.execute_reply": "2022-08-26T15:51:10.301721Z",
     "shell.execute_reply.started": "2022-08-26T15:51:10.294733Z"
    },
    "tags": []
   },
   "outputs": [],
   "source": [
    "class KNNClassifier:\n",
    "    def __init__(self, k:int) -> None:\n",
    "        if k <= 0:\n",
    "            raise ValueError('k must be a positive number')\n",
    "        self.k = k\n",
    "    \n",
    "    def fit(self, X, y) -> 'KNNClassifier':\n",
    "        self.x = X\n",
    "        self.y = y\n",
    "        \n",
    "        return self\n",
    "    \n",
    "    def predict(self, points) -> int:\n",
    "        predicted_labels = []\n",
    "        \n",
    "        for point in points:\n",
    "            distances = np.linalg.norm(self.x - point, axis=1)\n",
    "            neighbors_indexes = distances.argsort()[:self.k] \n",
    "            neighbors_labels = self.y[neighbors_indexes]\n",
    "\n",
    "            labels_to_num = {label : np.count_nonzero(neighbors_labels == label) for label in set(neighbors_labels)}\n",
    "            labels_to_num = sorted(labels_to_num.items(), key=lambda x: x[1], reverse=True)\n",
    "\n",
    "            predicted_labels.append(labels_to_num[0][0])\n",
    "            \n",
    "        return np.array(predicted_labels)"
   ]
  },
  {
   "cell_type": "code",
   "execution_count": 168,
   "id": "293aeada-29fe-4453-bdc4-2f17384badf4",
   "metadata": {
    "execution": {
     "iopub.execute_input": "2022-08-26T15:51:10.513039Z",
     "iopub.status.busy": "2022-08-26T15:51:10.512520Z",
     "iopub.status.idle": "2022-08-26T15:51:10.517975Z",
     "shell.execute_reply": "2022-08-26T15:51:10.516976Z",
     "shell.execute_reply.started": "2022-08-26T15:51:10.513000Z"
    },
    "tags": []
   },
   "outputs": [],
   "source": [
    "my_instance = KNNClassifier(k=150).fit(X, y)"
   ]
  },
  {
   "cell_type": "code",
   "execution_count": 169,
   "id": "9c981a91-a6f3-4faa-9f97-d6d39bd0e882",
   "metadata": {
    "execution": {
     "iopub.execute_input": "2022-08-26T15:51:10.765920Z",
     "iopub.status.busy": "2022-08-26T15:51:10.765569Z",
     "iopub.status.idle": "2022-08-26T15:51:10.769972Z",
     "shell.execute_reply": "2022-08-26T15:51:10.768684Z",
     "shell.execute_reply.started": "2022-08-26T15:51:10.765892Z"
    },
    "tags": []
   },
   "outputs": [],
   "source": [
    "from sklearn.neighbors import KNeighborsClassifier "
   ]
  },
  {
   "cell_type": "code",
   "execution_count": 170,
   "id": "f6470660-a75a-47af-b4c0-c9a660a2033e",
   "metadata": {
    "execution": {
     "iopub.execute_input": "2022-08-26T15:51:11.013270Z",
     "iopub.status.busy": "2022-08-26T15:51:11.012862Z",
     "iopub.status.idle": "2022-08-26T15:51:11.017541Z",
     "shell.execute_reply": "2022-08-26T15:51:11.016317Z",
     "shell.execute_reply.started": "2022-08-26T15:51:11.013236Z"
    },
    "tags": []
   },
   "outputs": [],
   "source": [
    "instance = KNeighborsClassifier(n_neighbors=150)"
   ]
  },
  {
   "cell_type": "code",
   "execution_count": 171,
   "id": "73967c29-ee05-46d1-9763-548e841360f0",
   "metadata": {
    "execution": {
     "iopub.execute_input": "2022-08-26T15:51:11.231052Z",
     "iopub.status.busy": "2022-08-26T15:51:11.230675Z",
     "iopub.status.idle": "2022-08-26T15:51:11.237526Z",
     "shell.execute_reply": "2022-08-26T15:51:11.236520Z",
     "shell.execute_reply.started": "2022-08-26T15:51:11.231023Z"
    },
    "tags": []
   },
   "outputs": [
    {
     "data": {
      "text/plain": [
       "KNeighborsClassifier(n_neighbors=150)"
      ]
     },
     "execution_count": 171,
     "metadata": {},
     "output_type": "execute_result"
    }
   ],
   "source": [
    "instance.fit(X, y)"
   ]
  },
  {
   "cell_type": "code",
   "execution_count": 172,
   "id": "16a949df-e965-4137-aa61-0c3571d246a0",
   "metadata": {
    "execution": {
     "iopub.execute_input": "2022-08-26T15:51:12.623910Z",
     "iopub.status.busy": "2022-08-26T15:51:12.623524Z",
     "iopub.status.idle": "2022-08-26T15:51:12.629249Z",
     "shell.execute_reply": "2022-08-26T15:51:12.627721Z",
     "shell.execute_reply.started": "2022-08-26T15:51:12.623879Z"
    },
    "tags": []
   },
   "outputs": [],
   "source": [
    "x = np.linspace(-1.5, 2, 50)\n",
    "y = np.linspace(-4, 1, 50)"
   ]
  },
  {
   "cell_type": "code",
   "execution_count": 180,
   "id": "f20a8b6f-7b78-4624-aa15-3a9dff7c153a",
   "metadata": {
    "execution": {
     "iopub.execute_input": "2022-08-26T15:52:33.161734Z",
     "iopub.status.busy": "2022-08-26T15:52:33.161345Z",
     "iopub.status.idle": "2022-08-26T15:52:33.166838Z",
     "shell.execute_reply": "2022-08-26T15:52:33.165472Z",
     "shell.execute_reply.started": "2022-08-26T15:52:33.161703Z"
    },
    "tags": []
   },
   "outputs": [],
   "source": [
    "test_points = [np.array([x[i], y[i]]) for i in range(len(x))]"
   ]
  },
  {
   "cell_type": "code",
   "execution_count": 181,
   "id": "61315ca4-8629-408f-9f71-8f7408f728eb",
   "metadata": {
    "execution": {
     "iopub.execute_input": "2022-08-26T15:52:33.381634Z",
     "iopub.status.busy": "2022-08-26T15:52:33.381270Z",
     "iopub.status.idle": "2022-08-26T15:52:33.386213Z",
     "shell.execute_reply": "2022-08-26T15:52:33.384773Z",
     "shell.execute_reply.started": "2022-08-26T15:52:33.381605Z"
    },
    "tags": []
   },
   "outputs": [],
   "source": [
    "np.random.shuffle(test_points)"
   ]
  },
  {
   "cell_type": "code",
   "execution_count": 182,
   "id": "ef4bec13-219d-4bfa-ad00-43d835009ac1",
   "metadata": {
    "execution": {
     "iopub.execute_input": "2022-08-26T15:52:33.897705Z",
     "iopub.status.busy": "2022-08-26T15:52:33.897335Z",
     "iopub.status.idle": "2022-08-26T15:52:33.909073Z",
     "shell.execute_reply": "2022-08-26T15:52:33.908263Z",
     "shell.execute_reply.started": "2022-08-26T15:52:33.897674Z"
    },
    "tags": []
   },
   "outputs": [
    {
     "data": {
      "text/plain": [
       "[array([-0.14285714, -2.06122449]),\n",
       " array([-1.07142857, -3.3877551 ]),\n",
       " array([-0.35714286, -2.36734694]),\n",
       " array([1.78571429, 0.69387755]),\n",
       " array([ 0.5       , -1.14285714]),\n",
       " array([ 0.42857143, -1.24489796]),\n",
       " array([-1.42857143, -3.89795918]),\n",
       " array([1.5       , 0.28571429]),\n",
       " array([-0.5       , -2.57142857]),\n",
       " array([1.35714286, 0.08163265]),\n",
       " array([-1.14285714, -3.48979592]),\n",
       " array([ 0.35714286, -1.34693878]),\n",
       " array([-0.42857143, -2.46938776]),\n",
       " array([1.85714286, 0.79591837]),\n",
       " array([-0.64285714, -2.7755102 ]),\n",
       " array([ 0.        , -1.85714286]),\n",
       " array([-1.5, -4. ]),\n",
       " array([-0.71428571, -2.87755102]),\n",
       " array([ 0.64285714, -0.93877551]),\n",
       " array([ 0.85714286, -0.63265306]),\n",
       " array([ 1.21428571, -0.12244898]),\n",
       " array([-0.92857143, -3.18367347]),\n",
       " array([ 0.92857143, -0.53061224]),\n",
       " array([ 0.14285714, -1.65306122]),\n",
       " array([ 0.71428571, -0.83673469]),\n",
       " array([ 1.07142857, -0.32653061]),\n",
       " array([-1.21428571, -3.59183673]),\n",
       " array([-0.85714286, -3.08163265]),\n",
       " array([-0.57142857, -2.67346939]),\n",
       " array([2., 1.]),\n",
       " array([1.92857143, 0.89795918]),\n",
       " array([ 0.21428571, -1.55102041]),\n",
       " array([-0.28571429, -2.26530612]),\n",
       " array([ 1.28571429, -0.02040816]),\n",
       " array([-1.        , -3.28571429]),\n",
       " array([-0.78571429, -2.97959184]),\n",
       " array([-0.07142857, -1.95918367]),\n",
       " array([1.71428571, 0.59183673]),\n",
       " array([1.42857143, 0.18367347]),\n",
       " array([1.57142857, 0.3877551 ]),\n",
       " array([-1.28571429, -3.69387755]),\n",
       " array([ 0.28571429, -1.44897959]),\n",
       " array([ 1.        , -0.42857143]),\n",
       " array([ 0.57142857, -1.04081633]),\n",
       " array([ 1.14285714, -0.2244898 ]),\n",
       " array([ 0.07142857, -1.75510204]),\n",
       " array([1.64285714, 0.48979592]),\n",
       " array([-0.21428571, -2.16326531]),\n",
       " array([-1.35714286, -3.79591837]),\n",
       " array([ 0.78571429, -0.73469388])]"
      ]
     },
     "execution_count": 182,
     "metadata": {},
     "output_type": "execute_result"
    }
   ],
   "source": [
    "test_points"
   ]
  },
  {
   "cell_type": "code",
   "execution_count": 185,
   "id": "9317b079-0a8c-455c-93d4-2c9918b426d7",
   "metadata": {
    "execution": {
     "iopub.execute_input": "2022-08-26T15:53:00.428997Z",
     "iopub.status.busy": "2022-08-26T15:53:00.428582Z",
     "iopub.status.idle": "2022-08-26T15:53:00.441342Z",
     "shell.execute_reply": "2022-08-26T15:53:00.440423Z",
     "shell.execute_reply.started": "2022-08-26T15:53:00.428965Z"
    },
    "tags": []
   },
   "outputs": [],
   "source": [
    "my_predictions = my_instance.predict(test_points)"
   ]
  },
  {
   "cell_type": "code",
   "execution_count": 186,
   "id": "4055f6bc-66f9-41d9-a5a1-9202a217803e",
   "metadata": {
    "execution": {
     "iopub.execute_input": "2022-08-26T15:53:00.935422Z",
     "iopub.status.busy": "2022-08-26T15:53:00.935080Z",
     "iopub.status.idle": "2022-08-26T15:53:00.943264Z",
     "shell.execute_reply": "2022-08-26T15:53:00.942444Z",
     "shell.execute_reply.started": "2022-08-26T15:53:00.935392Z"
    },
    "tags": []
   },
   "outputs": [],
   "source": [
    "predictions = instance.predict(test_points)"
   ]
  },
  {
   "cell_type": "code",
   "execution_count": 187,
   "id": "3b50226e-bd5d-4935-be27-4004bae9d476",
   "metadata": {
    "execution": {
     "iopub.execute_input": "2022-08-26T15:53:14.438275Z",
     "iopub.status.busy": "2022-08-26T15:53:14.437873Z",
     "iopub.status.idle": "2022-08-26T15:53:14.446248Z",
     "shell.execute_reply": "2022-08-26T15:53:14.444896Z",
     "shell.execute_reply.started": "2022-08-26T15:53:14.438240Z"
    }
   },
   "outputs": [
    {
     "data": {
      "text/plain": [
       "True"
      ]
     },
     "execution_count": 187,
     "metadata": {},
     "output_type": "execute_result"
    }
   ],
   "source": [
    "(my_predictions == predictions).all()"
   ]
  },
  {
   "cell_type": "code",
   "execution_count": null,
   "id": "134f8f5c-2d35-4459-8adc-e489b33f8b8d",
   "metadata": {},
   "outputs": [],
   "source": []
  }
 ],
 "metadata": {
  "kernelspec": {
   "display_name": "Python 3",
   "language": "python",
   "name": "python3"
  },
  "language_info": {
   "codemirror_mode": {
    "name": "ipython",
    "version": 3
   },
   "file_extension": ".py",
   "mimetype": "text/x-python",
   "name": "python",
   "nbconvert_exporter": "python",
   "pygments_lexer": "ipython3",
   "version": "3.8.5"
  }
 },
 "nbformat": 4,
 "nbformat_minor": 5
}
