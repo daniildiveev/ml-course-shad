{
 "cells": [
  {
   "cell_type": "code",
   "execution_count": 53,
   "id": "3d943dd4-00a7-40b2-8d32-4f6a3281fbf2",
   "metadata": {
    "execution": {
     "iopub.execute_input": "2022-08-27T18:32:48.876983Z",
     "iopub.status.busy": "2022-08-27T18:32:48.876492Z",
     "iopub.status.idle": "2022-08-27T18:32:48.882797Z",
     "shell.execute_reply": "2022-08-27T18:32:48.881227Z",
     "shell.execute_reply.started": "2022-08-27T18:32:48.876941Z"
    },
    "tags": []
   },
   "outputs": [],
   "source": [
    "import numpy as np\n",
    "from sklearn.datasets import make_regression\n",
    "from sklearn.neighbors import KNeighborsRegressor\n",
    "from sklearn.model_selection import train_test_split\n",
    "from sklearn.metrics import mean_absolute_error as mae\n",
    "import matplotlib.pyplot as plt"
   ]
  },
  {
   "cell_type": "code",
   "execution_count": 49,
   "id": "578da190-6ac2-41a3-b3b4-4ce91914cb6f",
   "metadata": {
    "execution": {
     "iopub.execute_input": "2022-08-27T18:30:29.350647Z",
     "iopub.status.busy": "2022-08-27T18:30:29.350312Z",
     "iopub.status.idle": "2022-08-27T18:30:29.375778Z",
     "shell.execute_reply": "2022-08-27T18:30:29.375023Z",
     "shell.execute_reply.started": "2022-08-27T18:30:29.350618Z"
    },
    "tags": []
   },
   "outputs": [],
   "source": [
    "X, y = make_regression(n_samples = 1000, n_features=2, n_informative=2, n_targets=1)"
   ]
  },
  {
   "cell_type": "code",
   "execution_count": 52,
   "id": "f3efcfe0-b348-4fdb-86fd-bf2dfaddfb6c",
   "metadata": {
    "execution": {
     "iopub.execute_input": "2022-08-27T18:32:28.332773Z",
     "iopub.status.busy": "2022-08-27T18:32:28.332411Z",
     "iopub.status.idle": "2022-08-27T18:32:28.553068Z",
     "shell.execute_reply": "2022-08-27T18:32:28.552298Z",
     "shell.execute_reply.started": "2022-08-27T18:32:28.332744Z"
    },
    "tags": []
   },
   "outputs": [
    {
     "data": {
      "text/plain": [
       "<matplotlib.collections.PathCollection at 0x7f91676c1190>"
      ]
     },
     "execution_count": 52,
     "metadata": {},
     "output_type": "execute_result"
    },
    {
     "data": {
      "image/png": "[encoded data removed]",
      "text/plain": [
       "<Figure size 432x288 with 1 Axes>"
      ]
     },
     "metadata": {
      "needs_background": "light"
     },
     "output_type": "display_data"
    }
   ],
   "source": [
    "plt.scatter(X[:, 0], X[:, 1])"
   ]
  },
  {
   "cell_type": "code",
   "execution_count": 54,
   "id": "9c3c1a97-816c-4e4e-ac82-2313cd27643a",
   "metadata": {
    "execution": {
     "iopub.execute_input": "2022-08-27T18:33:41.958000Z",
     "iopub.status.busy": "2022-08-27T18:33:41.957477Z",
     "iopub.status.idle": "2022-08-27T18:33:41.969165Z",
     "shell.execute_reply": "2022-08-27T18:33:41.967644Z",
     "shell.execute_reply.started": "2022-08-27T18:33:41.957952Z"
    }
   },
   "outputs": [],
   "source": [
    "x_train, x_val, y_train, y_val = train_test_split(X, y, test_size=0.3, shuffle=True, random_state=42)"
   ]
  },
  {
   "cell_type": "code",
   "execution_count": 34,
   "id": "0851bb91-d561-4d15-b3bb-4917c97500c7",
   "metadata": {
    "execution": {
     "iopub.execute_input": "2022-08-26T17:24:00.846159Z",
     "iopub.status.busy": "2022-08-26T17:24:00.845822Z",
     "iopub.status.idle": "2022-08-26T17:24:00.852595Z",
     "shell.execute_reply": "2022-08-26T17:24:00.851636Z",
     "shell.execute_reply.started": "2022-08-26T17:24:00.846130Z"
    },
    "tags": []
   },
   "outputs": [],
   "source": [
    "class KNNRegressor:\n",
    "    def __init__(self, k:int) -> None:\n",
    "        if k <= 0 or not isinstance(k, int):\n",
    "            raise ValueError('k must be a positive integer')\n",
    "            \n",
    "        self.k = k\n",
    "        \n",
    "    def fit(self, x, y) -> 'KNNRegressor':\n",
    "        self.x = x\n",
    "        self.y = y\n",
    "        \n",
    "        return self\n",
    "    \n",
    "    def predict(self, points):\n",
    "        predicted_values = []\n",
    "        \n",
    "        for point in points:\n",
    "            distances = np.linalg.norm(self.x - point, axis=1)\n",
    "            neigbors_indexes = distances.argsort()[:self.k]\n",
    "            neigbors_values = self.y[neigbors_indexes]\n",
    "            \n",
    "            predicted_values.append(np.mean(neigbors_values))\n",
    "            \n",
    "        return np.array(predicted_values)"
   ]
  },
  {
   "cell_type": "code",
   "execution_count": 55,
   "id": "1670c087-3042-4466-825f-2bd2bc7c8524",
   "metadata": {
    "execution": {
     "iopub.execute_input": "2022-08-27T18:34:44.617956Z",
     "iopub.status.busy": "2022-08-27T18:34:44.617445Z",
     "iopub.status.idle": "2022-08-27T18:34:44.623560Z",
     "shell.execute_reply": "2022-08-27T18:34:44.622143Z",
     "shell.execute_reply.started": "2022-08-27T18:34:44.617912Z"
    }
   },
   "outputs": [],
   "source": [
    "model = KNNRegressor(k=3).fit(x_train, y_train)"
   ]
  },
  {
   "cell_type": "code",
   "execution_count": 56,
   "id": "9924caeb-3b37-4acc-b062-b6c020c48548",
   "metadata": {
    "execution": {
     "iopub.execute_input": "2022-08-27T18:35:00.088026Z",
     "iopub.status.busy": "2022-08-27T18:35:00.087569Z",
     "iopub.status.idle": "2022-08-27T18:35:00.126296Z",
     "shell.execute_reply": "2022-08-27T18:35:00.124470Z",
     "shell.execute_reply.started": "2022-08-27T18:35:00.087985Z"
    }
   },
   "outputs": [],
   "source": [
    "my_predictions = model.predict(x_val)"
   ]
  },
  {
   "cell_type": "code",
   "execution_count": 57,
   "id": "da694ec1-61ee-41ed-8a92-862f07b87065",
   "metadata": {
    "execution": {
     "iopub.execute_input": "2022-08-27T18:35:11.277245Z",
     "iopub.status.busy": "2022-08-27T18:35:11.276773Z",
     "iopub.status.idle": "2022-08-27T18:35:11.286330Z",
     "shell.execute_reply": "2022-08-27T18:35:11.285207Z",
     "shell.execute_reply.started": "2022-08-27T18:35:11.277204Z"
    }
   },
   "outputs": [
    {
     "data": {
      "text/plain": [
       "4.5313922295950855"
      ]
     },
     "execution_count": 57,
     "metadata": {},
     "output_type": "execute_result"
    }
   ],
   "source": [
    "mae(my_predictions, y_val)"
   ]
  },
  {
   "cell_type": "code",
   "execution_count": 59,
   "id": "8a6fac4d-7ff7-4d44-bc5f-3bb32f2e24f1",
   "metadata": {
    "execution": {
     "iopub.execute_input": "2022-08-27T18:36:04.695044Z",
     "iopub.status.busy": "2022-08-27T18:36:04.694677Z",
     "iopub.status.idle": "2022-08-27T18:36:04.701396Z",
     "shell.execute_reply": "2022-08-27T18:36:04.700199Z",
     "shell.execute_reply.started": "2022-08-27T18:36:04.695011Z"
    },
    "tags": []
   },
   "outputs": [],
   "source": [
    "model = KNeighborsRegressor(n_neighbors=3).fit(x_train, y_train)"
   ]
  },
  {
   "cell_type": "code",
   "execution_count": 60,
   "id": "398f93d0-1fde-4350-9985-6b6d640fe12b",
   "metadata": {
    "execution": {
     "iopub.execute_input": "2022-08-27T18:36:19.478347Z",
     "iopub.status.busy": "2022-08-27T18:36:19.477863Z",
     "iopub.status.idle": "2022-08-27T18:36:19.486322Z",
     "shell.execute_reply": "2022-08-27T18:36:19.485041Z",
     "shell.execute_reply.started": "2022-08-27T18:36:19.478306Z"
    }
   },
   "outputs": [],
   "source": [
    "sklearn_predictions = model.predict(x_val)"
   ]
  },
  {
   "cell_type": "code",
   "execution_count": 61,
   "id": "0551c791-cc1d-4903-88ad-9471456897cf",
   "metadata": {
    "execution": {
     "iopub.execute_input": "2022-08-27T18:36:25.821698Z",
     "iopub.status.busy": "2022-08-27T18:36:25.821213Z",
     "iopub.status.idle": "2022-08-27T18:36:25.828896Z",
     "shell.execute_reply": "2022-08-27T18:36:25.827809Z",
     "shell.execute_reply.started": "2022-08-27T18:36:25.821656Z"
    }
   },
   "outputs": [
    {
     "data": {
      "text/plain": [
       "4.5313922295950855"
      ]
     },
     "execution_count": 61,
     "metadata": {},
     "output_type": "execute_result"
    }
   ],
   "source": [
    "mae(sklearn_predictions, y_val)"
   ]
  },
  {
   "cell_type": "code",
   "execution_count": 62,
   "id": "67f8905e-d0ef-45e5-8c85-8ae4b33b67e9",
   "metadata": {
    "execution": {
     "iopub.execute_input": "2022-08-27T18:36:40.987567Z",
     "iopub.status.busy": "2022-08-27T18:36:40.987101Z",
     "iopub.status.idle": "2022-08-27T18:36:40.995167Z",
     "shell.execute_reply": "2022-08-27T18:36:40.994005Z",
     "shell.execute_reply.started": "2022-08-27T18:36:40.987527Z"
    }
   },
   "outputs": [
    {
     "data": {
      "text/plain": [
       "True"
      ]
     },
     "execution_count": 62,
     "metadata": {},
     "output_type": "execute_result"
    }
   ],
   "source": [
    "(sklearn_predictions == my_predictions).all()"
   ]
  }
 ],
 "metadata": {
  "kernelspec": {
   "display_name": "Python 3",
   "language": "python",
   "name": "python3"
  },
  "language_info": {
   "codemirror_mode": {
    "name": "ipython",
    "version": 3
   },
   "file_extension": ".py",
   "mimetype": "text/x-python",
   "name": "python",
   "nbconvert_exporter": "python",
   "pygments_lexer": "ipython3",
   "version": "3.8.5"
  }
 },
 "nbformat": 4,
 "nbformat_minor": 5
}
