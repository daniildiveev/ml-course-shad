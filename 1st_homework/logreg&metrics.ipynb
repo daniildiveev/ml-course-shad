{
 "cells": [
  {
   "cell_type": "markdown",
   "metadata": {
    "heading_collapsed": true,
    "tags": [
     "imports"
    ]
   },
   "source": [
    "# utils "
   ]
  },
  {
   "cell_type": "code",
   "execution_count": 41,
   "metadata": {
    "ExecuteTime": {
     "end_time": "2022-08-16T17:11:27.251915Z",
     "start_time": "2022-08-16T17:11:22.202535Z"
    },
    "execution": {
     "iopub.execute_input": "2022-08-22T01:02:01.753723Z",
     "iopub.status.busy": "2022-08-22T01:02:01.752250Z",
     "iopub.status.idle": "2022-08-22T01:02:01.760944Z",
     "shell.execute_reply": "2022-08-22T01:02:01.759877Z",
     "shell.execute_reply.started": "2022-08-22T01:02:01.753679Z"
    },
    "hidden": true,
    "tags": [
     "imports"
    ]
   },
   "outputs": [],
   "source": [
    "# used for manipulating directory paths\n",
    "import os\n",
    "\n",
    "#completely ignore warnings\n",
    "import warnings \n",
    "warnings.simplefilter(\"ignore\")\n",
    "\n",
    "# Scientific and vector computation for python\n",
    "import numpy as np\n",
    "\n",
    "# Plotting library\n",
    "import matplotlib.pyplot as plt\n",
    "\n",
    "# Optimization module in scipy\n",
    "from scipy import optimize\n",
    "\n",
    "# tells matplotlib to embed plots within the notebook\n",
    "%matplotlib inline"
   ]
  },
  {
   "cell_type": "code",
   "execution_count": 5,
   "metadata": {
    "ExecuteTime": {
     "end_time": "2022-08-16T17:11:27.314748Z",
     "start_time": "2022-08-16T17:11:27.258897Z"
    },
    "execution": {
     "iopub.execute_input": "2022-08-22T00:33:27.657816Z",
     "iopub.status.busy": "2022-08-22T00:33:27.657492Z",
     "iopub.status.idle": "2022-08-22T00:33:27.668779Z",
     "shell.execute_reply": "2022-08-22T00:33:27.667836Z",
     "shell.execute_reply.started": "2022-08-22T00:33:27.657786Z"
    },
    "hidden": true
   },
   "outputs": [],
   "source": [
    "def plot_data(X, y):\n",
    "    # Create New Figure\n",
    "    fig = plt.figure()\n",
    "\n",
    "    plt.plot(X[y==0, 0], X[y==0, 1], 'k*')\n",
    "    plt.plot(X[y==1, 0], X[y==1, 1], 'ko', mfc='yellow')\n",
    "    \n",
    "    \n",
    "def mapFeature(X1, X2, degree=6):\n",
    "    \"\"\"\n",
    "    Maps the two input features to quadratic features used in the regularization exercise.\n",
    "\n",
    "    Returns a new feature array with more features, comprising of\n",
    "    X1, X2, X1.^2, X2.^2, X1*X2, X1*X2.^2, etc..\n",
    "\n",
    "    Parameters\n",
    "    ----------\n",
    "    X1 : array_like\n",
    "        A vector of shape (m, 1), containing one feature for all examples.\n",
    "\n",
    "    X2 : array_like\n",
    "        A vector of shape (m, 1), containing a second feature for all examples.\n",
    "        Inputs X1, X2 must be the same size.\n",
    "\n",
    "    degree: int, optional\n",
    "        The polynomial degree.\n",
    "\n",
    "    Returns\n",
    "    -------\n",
    "    : array_like\n",
    "        A matrix of of m rows, and columns depend on the degree of polynomial.\n",
    "    \"\"\"\n",
    "    if X1.ndim > 0:\n",
    "        out = [np.ones(X1.shape[0])]\n",
    "    else:\n",
    "        out = [np.ones(1)]\n",
    "\n",
    "    for i in range(1, degree + 1):\n",
    "        for j in range(i + 1):\n",
    "            out.append((X1 ** (i - j)) * (X2 ** j))\n",
    "\n",
    "    if X1.ndim > 0:\n",
    "        return np.stack(out, axis=1)\n",
    "    else:\n",
    "        return np.array(out)\n",
    "    \n",
    "    \n",
    "def plotDecisionBoundary(plot_func, theta, X, y):\n",
    "    \"\"\"\n",
    "    Plots the data points X and y into a new figure with the decision boundary defined by theta.\n",
    "    Plots the data points with * for the positive examples and o for  the negative examples.\n",
    "\n",
    "    Parameters\n",
    "    ----------\n",
    "    plot_func : func\n",
    "        A function reference for plotting the X, y data.\n",
    "\n",
    "    theta : array_like\n",
    "        Parameters for logistic regression. A vector of shape (n+1, ).\n",
    "\n",
    "    X : array_like\n",
    "        The input dataset. X is assumed to be  a either:\n",
    "            1) Mx3 matrix, where the first column is an all ones column for the intercept.\n",
    "            2) MxN, N>3 matrix, where the first column is all ones.\n",
    "\n",
    "    y : array_like\n",
    "        Vector of data labels of shape (m, ).\n",
    "    \"\"\"\n",
    "    # make sure theta is a numpy array\n",
    "    theta = np.array(theta)\n",
    "\n",
    "    # Plot Data (remember first column in X is the intercept)\n",
    "    plot_func(X[:, 1:3], y)\n",
    "\n",
    "    if X.shape[1] <= 3:\n",
    "        # Only need 2 points to define a line, so choose two endpoints\n",
    "        plot_x = np.array([np.min(X[:, 1]) - 2, np.max(X[:, 1]) + 2])\n",
    "\n",
    "        # Calculate the decision boundary line\n",
    "        plot_y = (-1. / theta[2]) * (theta[1] * plot_x + theta[0])\n",
    "\n",
    "        # Plot, and adjust axes for better viewing\n",
    "        plt.plot(plot_x, plot_y)\n",
    "\n",
    "        # Legend, specific for the exercise\n",
    "        plt.legend(['Admitted', 'Not admitted', 'Decision Boundary'])\n",
    "        plt.xlim([30, 100])\n",
    "        plt.ylim([30, 100])\n",
    "    else:\n",
    "        # Here is the grid range\n",
    "        u = np.linspace(-1, 1.5, 50)\n",
    "        v = np.linspace(-1, 1.5, 50)\n",
    "\n",
    "        z = np.zeros((u.size, v.size))\n",
    "        # Evaluate z = theta*x over the grid\n",
    "        for i, ui in enumerate(u):\n",
    "            for j, vj in enumerate(v):\n",
    "                z[i, j] = np.dot(mapFeature(ui, vj), theta)\n",
    "\n",
    "        z = z.T  # important to transpose z before calling contour\n",
    "        # print(z)\n",
    "\n",
    "        # Plot z = 0\n",
    "        plt.contour(u, v, z, levels=[0], linewidths=2, colors='g')\n",
    "        plt.contourf(u, v, z, levels=[np.min(z), 0, np.max(z)], cmap='Greens', alpha=0.4)"
   ]
  },
  {
   "cell_type": "markdown",
   "metadata": {},
   "source": [
    "# Логистическая регрессия"
   ]
  },
  {
   "cell_type": "markdown",
   "metadata": {},
   "source": [
    "## Загрузка данных"
   ]
  },
  {
   "cell_type": "code",
   "execution_count": 47,
   "metadata": {
    "ExecuteTime": {
     "end_time": "2022-08-16T17:32:00.143898Z",
     "start_time": "2022-08-16T17:32:00.116967Z"
    }
   },
   "outputs": [],
   "source": [
    "# Load data\n",
    "# The first two columns contains the exam scores and the third column\n",
    "# contains the label.\n",
    "data = np.loadtxt(os.path.join('Data', 'ex2data1.txt'), delimiter=',')\n",
    "X, y = data[:, 0:2], data[:, 2]"
   ]
  },
  {
   "cell_type": "markdown",
   "metadata": {},
   "source": [
    "## Визуализация данных"
   ]
  },
  {
   "cell_type": "code",
   "execution_count": 4,
   "metadata": {
    "ExecuteTime": {
     "end_time": "2022-08-16T17:12:01.235361Z",
     "start_time": "2022-08-16T17:12:00.628980Z"
    }
   },
   "outputs": [
    {
     "data": {
      "text/plain": [
       "<matplotlib.legend.Legend at 0x243b364f850>"
      ]
     },
     "execution_count": 4,
     "metadata": {},
     "output_type": "execute_result"
    },
    {
     "data": {
      "image/png": "[encoded data removed]",
      "text/plain": [
       "<Figure size 432x288 with 1 Axes>"
      ]
     },
     "metadata": {
      "needs_background": "light"
     },
     "output_type": "display_data"
    }
   ],
   "source": [
    "plot_data(X, y)\n",
    "# add axes labels\n",
    "plt.xlabel('Exam 1 score')\n",
    "plt.ylabel('Exam 2 score')\n",
    "plt.legend(['Admitted', 'Not admitted'])"
   ]
  },
  {
   "cell_type": "markdown",
   "metadata": {},
   "source": [
    "## Реализация\n",
    "\n",
    "### Сигмоида\n",
    "\n",
    "Вспоминая из лекции:\n",
    "\n",
    "$$ a_w(x) = \\sigma(w^T x)$$\n",
    "\n",
    "где $\\sigma$ -- сигмоида, которая определяется следующим образом: \n",
    "\n",
    "$$\\sigma(z) = \\frac{1}{1+e^{-z}}.$$\n",
    "\n",
    "Для начала реализуем функцию сигмоиды самостоятельно.\n",
    "\n",
    "Для проверки: для больших положительных $x$ значение должны быть близкое к 1, для больших отрицательных $x$ близкое к 0, $\\sigma(0)=0.5.$"
   ]
  },
  {
   "cell_type": "code",
   "execution_count": 6,
   "metadata": {
    "ExecuteTime": {
     "end_time": "2022-08-16T17:13:55.607317Z",
     "start_time": "2022-08-16T17:13:55.584374Z"
    },
    "execution": {
     "iopub.execute_input": "2022-08-22T00:33:32.590144Z",
     "iopub.status.busy": "2022-08-22T00:33:32.589802Z",
     "iopub.status.idle": "2022-08-22T00:33:32.596613Z",
     "shell.execute_reply": "2022-08-22T00:33:32.595421Z",
     "shell.execute_reply.started": "2022-08-22T00:33:32.590106Z"
    }
   },
   "outputs": [],
   "source": [
    "def sigmoid(z):\n",
    "    \"\"\"\n",
    "    Compute sigmoid function given the input z.\n",
    "    \n",
    "    Parameters\n",
    "    ----------\n",
    "    z : array_like\n",
    "        The input to the sigmoid function. This can be a 1-D vector \n",
    "        or a 2-D matrix. \n",
    "    \n",
    "    Returns\n",
    "    -------\n",
    "    g : array_like\n",
    "        The computed sigmoid function. g has the same shape as z, since\n",
    "        the sigmoid is computed element-wise on z.\n",
    "        \n",
    "    Instructions\n",
    "    ------------\n",
    "    Compute the sigmoid of each value of z (z can be a matrix, vector or scalar).\n",
    "    \"\"\"\n",
    "    # convert input to a numpy array\n",
    "    z = np.array(z)\n",
    "    \n",
    "    # You need to return the following variables correctly \n",
    "    g = np.zeros(z.shape)  \n",
    "    return 1. / (1 + np.exp(-z))"
   ]
  },
  {
   "cell_type": "markdown",
   "metadata": {},
   "source": [
    "Проверим, что у нас все получилось правильно."
   ]
  },
  {
   "cell_type": "code",
   "execution_count": 5,
   "metadata": {
    "ExecuteTime": {
     "end_time": "2022-08-16T17:13:57.156185Z",
     "start_time": "2022-08-16T17:13:57.137235Z"
    }
   },
   "outputs": [
    {
     "name": "stdout",
     "output_type": "stream",
     "text": [
      "s( 0 ) =  0.5\n"
     ]
    }
   ],
   "source": [
    "# Test the implementation of sigmoid function here\n",
    "z = 0\n",
    "s = sigmoid(z)\n",
    "\n",
    "print('s(', z, ') = ', s)"
   ]
  },
  {
   "cell_type": "markdown",
   "metadata": {},
   "source": [
    "###  Функция потерь и градиент\n",
    "\n",
    "Реализуем лосс-функцию и ее градиент. Перед этим добавим константный признак."
   ]
  },
  {
   "cell_type": "code",
   "execution_count": 6,
   "metadata": {
    "ExecuteTime": {
     "end_time": "2022-08-16T17:32:03.110435Z",
     "start_time": "2022-08-16T17:32:03.094478Z"
    }
   },
   "outputs": [
    {
     "ename": "NameError",
     "evalue": "name 'X' is not defined",
     "output_type": "error",
     "traceback": [
      "\u001b[0;31m---------------------------------------------------------------------------\u001b[0m",
      "\u001b[0;31mNameError\u001b[0m                                 Traceback (most recent call last)",
      "\u001b[0;32m<ipython-input-6-18e878f72a59>\u001b[0m in \u001b[0;36m<module>\u001b[0;34m\u001b[0m\n\u001b[0;32m----> 1\u001b[0;31m \u001b[0mm\u001b[0m\u001b[0;34m,\u001b[0m \u001b[0mn\u001b[0m \u001b[0;34m=\u001b[0m \u001b[0mX\u001b[0m\u001b[0;34m.\u001b[0m\u001b[0mshape\u001b[0m\u001b[0;34m\u001b[0m\u001b[0;34m\u001b[0m\u001b[0m\n\u001b[0m\u001b[1;32m      2\u001b[0m \u001b[0;34m\u001b[0m\u001b[0m\n\u001b[1;32m      3\u001b[0m \u001b[0;31m# Add intercept term to X\u001b[0m\u001b[0;34m\u001b[0m\u001b[0;34m\u001b[0m\u001b[0;34m\u001b[0m\u001b[0m\n\u001b[1;32m      4\u001b[0m \u001b[0mX\u001b[0m \u001b[0;34m=\u001b[0m \u001b[0mnp\u001b[0m\u001b[0;34m.\u001b[0m\u001b[0mconcatenate\u001b[0m\u001b[0;34m(\u001b[0m\u001b[0;34m[\u001b[0m\u001b[0mnp\u001b[0m\u001b[0;34m.\u001b[0m\u001b[0mones\u001b[0m\u001b[0;34m(\u001b[0m\u001b[0;34m(\u001b[0m\u001b[0mm\u001b[0m\u001b[0;34m,\u001b[0m \u001b[0;36m1\u001b[0m\u001b[0;34m)\u001b[0m\u001b[0;34m)\u001b[0m\u001b[0;34m,\u001b[0m \u001b[0mX\u001b[0m\u001b[0;34m]\u001b[0m\u001b[0;34m,\u001b[0m \u001b[0maxis\u001b[0m\u001b[0;34m=\u001b[0m\u001b[0;36m1\u001b[0m\u001b[0;34m)\u001b[0m\u001b[0;34m\u001b[0m\u001b[0;34m\u001b[0m\u001b[0m\n",
      "\u001b[0;31mNameError\u001b[0m: name 'X' is not defined"
     ]
    }
   ],
   "source": [
    "m, n = X.shape\n",
    "\n",
    "# Add intercept term to X\n",
    "X = np.concatenate([np.ones((m, 1)), X], axis=1)"
   ]
  },
  {
   "cell_type": "markdown",
   "metadata": {},
   "source": [
    "Вспомним как выглядит функция потерь для логистической регрессии.\n",
    "\n",
    "$$ L(w) = \\frac{1}{m} \\sum_{i=1}^{m} \\left[ -y^{(i)} \\log\\left(a_w\\left( x^{(i)} \\right) \\right) - \\left( 1 - y^{(i)}\\right) \\log \\left( 1 - a_w\\left( x^{(i)} \\right) \\right) \\right]$$\n",
    "\n",
    "Градиент, соотвественно, будет иметь вид:\n",
    "\n",
    "$$ \\frac{\\partial L(w)}{\\partial w_j} = \\frac{1}{m} \\sum_{i=1}^m \\left( a_w \\left( x^{(i)} \\right) - y^{(i)} \\right) x_j^{(i)} $$\n",
    "\n",
    "Видим, что формула выглядит так же как и для линейной регрессии, но у нас здесь разные $a_w(x)$."
   ]
  },
  {
   "cell_type": "code",
   "execution_count": 54,
   "metadata": {
    "ExecuteTime": {
     "end_time": "2022-08-16T17:33:07.302312Z",
     "start_time": "2022-08-16T17:33:07.271396Z"
    }
   },
   "outputs": [],
   "source": [
    "def costFunction(w, X, y):\n",
    "    \"\"\"\n",
    "    Compute cost and gradient for logistic regression. \n",
    "    \n",
    "    Parameters\n",
    "    ----------\n",
    "    w : array_like\n",
    "        The parameters for logistic regression. This a vector\n",
    "        of shape (n+1, ).\n",
    "    \n",
    "    X : array_like\n",
    "        The input dataset of shape (m x n+1) where m is the total number\n",
    "        of data points and n is the number of features. We assume the \n",
    "        intercept has already been added to the input.\n",
    "    \n",
    "    y : arra_like\n",
    "        Labels for the input. This is a vector of shape (m, ).\n",
    "    \n",
    "    Returns\n",
    "    -------\n",
    "    L : float\n",
    "        The computed value for the cost function. \n",
    "    \n",
    "    grad : array_like\n",
    "        A vector of shape (n+1, ) which is the gradient of the cost\n",
    "        function with respect to w, at the current values of w.\n",
    "        \n",
    "    Instructions\n",
    "    ------------\n",
    "    Compute the cost of a particular choice of w. You should set L to \n",
    "    the cost. Compute the partial derivatives and set grad to the partial\n",
    "    derivatives of the cost w.r.t. each parameter in w.\n",
    "    \"\"\"\n",
    "    # Initialize some useful values\n",
    "    m = y.size  # number of training examples\n",
    "\n",
    "    # You need to return the following variables correctly \n",
    "    L = 0\n",
    "    grad = np.zeros(w.shape)\n",
    "    \n",
    "    # cost\n",
    "    a = sigmoid(X @ w)\n",
    "    term1 = y * np.log(a)\n",
    "    term2 = (1. - y) * np.log(1. - a)\n",
    "    L = -np.sum(term1 + term2) / m\n",
    "    # gradient\n",
    "    grad = np.dot((a - y), X) / m    \n",
    "#     grad = np.mean(X.dot(a - y))\n",
    "    return L, grad"
   ]
  },
  {
   "cell_type": "markdown",
   "metadata": {},
   "source": [
    "Проверка."
   ]
  },
  {
   "cell_type": "code",
   "execution_count": 55,
   "metadata": {
    "ExecuteTime": {
     "end_time": "2022-08-16T17:33:11.141795Z",
     "start_time": "2022-08-16T17:33:11.098909Z"
    }
   },
   "outputs": [
    {
     "name": "stdout",
     "output_type": "stream",
     "text": [
      "Cost at initial w (zeros): 0.693\n",
      "Expected cost (approx): 0.693\n",
      "\n",
      "Gradient at initial w (zeros):\n",
      "\t[-0.1000, -12.0092, -11.2628]\n",
      "Expected gradients (approx):\n",
      "\t[-0.1000, -12.0092, -11.2628]\n",
      "\n",
      "Cost at test w: 0.218\n",
      "Expected cost (approx): 0.218\n",
      "\n",
      "Gradient at test w:\n",
      "\t[0.043, 2.566, 2.647]\n",
      "Expected gradients (approx):\n",
      "\t[0.043, 2.566, 2.647]\n"
     ]
    }
   ],
   "source": [
    "# Initialize fitting parameters\n",
    "initial_w = np.zeros(n+1)\n",
    "\n",
    "cost, grad = costFunction(initial_w, X, y)\n",
    "\n",
    "print('Cost at initial w (zeros): {:.3f}'.format(cost))\n",
    "print('Expected cost (approx): 0.693\\n')\n",
    "\n",
    "print('Gradient at initial w (zeros):')\n",
    "print('\\t[{:.4f}, {:.4f}, {:.4f}]'.format(*grad))\n",
    "print('Expected gradients (approx):\\n\\t[-0.1000, -12.0092, -11.2628]\\n')\n",
    "\n",
    "# Compute and display cost and gradient with non-zero w\n",
    "test_w = np.array([-24, 0.2, 0.2])\n",
    "cost, grad = costFunction(test_w, X, y)\n",
    "\n",
    "print('Cost at test w: {:.3f}'.format(cost))\n",
    "print('Expected cost (approx): 0.218\\n')\n",
    "\n",
    "print('Gradient at test w:')\n",
    "print('\\t[{:.3f}, {:.3f}, {:.3f}]'.format(*grad))\n",
    "print('Expected gradients (approx):\\n\\t[0.043, 2.566, 2.647]')"
   ]
  },
  {
   "cell_type": "markdown",
   "metadata": {},
   "source": [
    "### `scipy.optimize`\n",
    "\n",
    "До этого мы реализовали метод для вычиселния функции потерь и ее градиента, теперь мы попробуем вычислить ее минимум с помощью [`scipy.optimize` module](https://docs.scipy.org/doc/scipy/reference/optimize.html).\n",
    "SciPy это библиотека с вычислительными методами на `python`. Ее модуль оптимизации позволяет находить корни и экстремумы.\n",
    "\n",
    "Итак, для логистической регрессии мы хотим оптимизировать $L(w)$ по параметру $w$.\n",
    "Для этого методу `optimize.minimize` подадим на вход следующие параметры:\n",
    "- `costFunction`: лосс-функция.\n",
    "- `initial_w`: начальное значения для вектора весов.\n",
    "- `(X, y)`: допольнительные аргументы для функции потерь.\n",
    "- `jac`: индикатор того, что наша ф-ия потерь возвращает Якобиан (градиент) вместе со значением самой ф-ии.\n",
    "- `method`: метод, который будет использоваться для оптимизации.\n",
    "- `options`: дополнительные параметры, которые может использовать метод оптимизации, например, ограничение на кол-во итераций."
   ]
  },
  {
   "cell_type": "code",
   "execution_count": 56,
   "metadata": {
    "ExecuteTime": {
     "end_time": "2022-08-16T17:35:56.769262Z",
     "start_time": "2022-08-16T17:35:56.726374Z"
    }
   },
   "outputs": [
    {
     "name": "stdout",
     "output_type": "stream",
     "text": [
      "Cost at w found by optimize.minimize: 0.203\n",
      "Expected cost (approx): 0.203\n",
      "\n",
      "w:\n",
      "\t[-25.161, 0.206, 0.201]\n",
      "Expected w (approx):\n",
      "\t[-25.161, 0.206, 0.201]\n"
     ]
    }
   ],
   "source": [
    "# set options for optimize.minimize\n",
    "options= {'maxiter': 400}\n",
    "\n",
    "# see documention for scipy's optimize.minimize  for description about\n",
    "# the different parameters\n",
    "res = optimize.minimize(costFunction,\n",
    "                        initial_w,\n",
    "                        (X, y),\n",
    "                        jac=True,\n",
    "                        method='TNC',\n",
    "                        options=options)\n",
    "\n",
    "# the fun property of `OptimizeResult` object returns\n",
    "# the value of costFunction at optimized w\n",
    "cost = res.fun\n",
    "\n",
    "# the optimized w is in the x property\n",
    "w = res.x\n",
    "\n",
    "# Print theta to screen\n",
    "print('Cost at w found by optimize.minimize: {:.3f}'.format(cost))\n",
    "print('Expected cost (approx): 0.203\\n');\n",
    "\n",
    "print('w:')\n",
    "print('\\t[{:.3f}, {:.3f}, {:.3f}]'.format(*w))\n",
    "print('Expected w (approx):\\n\\t[-25.161, 0.206, 0.201]')"
   ]
  },
  {
   "cell_type": "markdown",
   "metadata": {},
   "source": [
    "После успешного вычисления оптимального $w$, мы можем построить нашу разделяющую плоскость.\n",
    "ДОБАВИТЬ ФОРМУЛУ\n",
    "\n",
    "<!-- ![](Figures/decision_boundary1.png) -->\n"
   ]
  },
  {
   "cell_type": "code",
   "execution_count": 57,
   "metadata": {
    "ExecuteTime": {
     "end_time": "2022-08-16T17:36:28.176153Z",
     "start_time": "2022-08-16T17:36:27.697432Z"
    }
   },
   "outputs": [
    {
     "data": {
      "image/png": "[encoded data removed]",
      "text/plain": [
       "<Figure size 432x288 with 1 Axes>"
      ]
     },
     "metadata": {
      "needs_background": "light"
     },
     "output_type": "display_data"
    }
   ],
   "source": [
    "# Plot Boundary\n",
    "plotDecisionBoundary(plot_data, w, X, y)"
   ]
  },
  {
   "cell_type": "markdown",
   "metadata": {},
   "source": [
    "### Предсказание логистической регрессии\n",
    "\n",
    "На данный момент мы умеем минимизировать нашу функцию потерь на обучающей выборке, но этого мало, тк мы хотим для объектов из тестовой выборки получать метку класса 0 или 1 на выходе алгоритма."
   ]
  },
  {
   "cell_type": "code",
   "execution_count": 16,
   "metadata": {
    "ExecuteTime": {
     "end_time": "2022-08-16T17:37:28.823429Z",
     "start_time": "2022-08-16T17:37:28.810461Z"
    },
    "execution": {
     "iopub.execute_input": "2022-08-22T00:34:44.801157Z",
     "iopub.status.busy": "2022-08-22T00:34:44.800863Z",
     "iopub.status.idle": "2022-08-22T00:34:44.806001Z",
     "shell.execute_reply": "2022-08-22T00:34:44.804667Z",
     "shell.execute_reply.started": "2022-08-22T00:34:44.801133Z"
    }
   },
   "outputs": [],
   "source": [
    "def predict(w, X):\n",
    "    \"\"\"\n",
    "    Predict whether the label is 0 or 1 using learned logistic regression.\n",
    "    Computes the predictions for X using a threshold at 0.5 \n",
    "    (i.e., if sigmoid(w.T*x) >= 0.5, predict 1)\n",
    "    \n",
    "    Parameters\n",
    "    ----------\n",
    "    w : array_like\n",
    "        Parameters for logistic regression. A vecotor of shape (n+1, ).\n",
    "    \n",
    "    X : array_like\n",
    "        The data to use for computing predictions. The rows is the number \n",
    "        of points to compute predictions, and columns is the number of\n",
    "        features.\n",
    "\n",
    "    Returns\n",
    "    -------\n",
    "    p : array_like\n",
    "        Predictions and 0 or 1 for each row in X. \n",
    "    \n",
    "    Instructions\n",
    "    ------------\n",
    "    Complete the following code to make predictions using your learned \n",
    "    logistic regression parameters.You should set p to a vector of 0's and 1's    \n",
    "    \"\"\"\n",
    "    m = X.shape[0] # Number of training examples\n",
    "\n",
    "    # You need to return the following variables correctly\n",
    "    p = np.zeros(m)\n",
    "    p = sigmoid(X@w) >= 0.5\n",
    "    return p"
   ]
  },
  {
   "cell_type": "code",
   "execution_count": 8,
   "metadata": {
    "ExecuteTime": {
     "end_time": "2022-08-16T17:37:32.195011Z",
     "start_time": "2022-08-16T17:37:32.162098Z"
    }
   },
   "outputs": [
    {
     "ename": "NameError",
     "evalue": "name 'w' is not defined",
     "output_type": "error",
     "traceback": [
      "\u001b[0;31m---------------------------------------------------------------------------\u001b[0m",
      "\u001b[0;31mNameError\u001b[0m                                 Traceback (most recent call last)",
      "\u001b[0;32m<ipython-input-8-5479e68b25b6>\u001b[0m in \u001b[0;36m<module>\u001b[0;34m\u001b[0m\n\u001b[1;32m      1\u001b[0m \u001b[0;31m#  Predict probability for a student with score 45 on exam 1\u001b[0m\u001b[0;34m\u001b[0m\u001b[0;34m\u001b[0m\u001b[0;34m\u001b[0m\u001b[0m\n\u001b[1;32m      2\u001b[0m \u001b[0;31m#  and score 85 on exam 2\u001b[0m\u001b[0;34m\u001b[0m\u001b[0;34m\u001b[0m\u001b[0;34m\u001b[0m\u001b[0m\n\u001b[0;32m----> 3\u001b[0;31m \u001b[0mprob\u001b[0m \u001b[0;34m=\u001b[0m \u001b[0msigmoid\u001b[0m\u001b[0;34m(\u001b[0m\u001b[0mnp\u001b[0m\u001b[0;34m.\u001b[0m\u001b[0mdot\u001b[0m\u001b[0;34m(\u001b[0m\u001b[0;34m[\u001b[0m\u001b[0;36m1\u001b[0m\u001b[0;34m,\u001b[0m \u001b[0;36m45\u001b[0m\u001b[0;34m,\u001b[0m \u001b[0;36m85\u001b[0m\u001b[0;34m]\u001b[0m\u001b[0;34m,\u001b[0m \u001b[0mw\u001b[0m\u001b[0;34m)\u001b[0m\u001b[0;34m)\u001b[0m\u001b[0;34m\u001b[0m\u001b[0;34m\u001b[0m\u001b[0m\n\u001b[0m\u001b[1;32m      4\u001b[0m print('For a student with scores 45 and 85,'\n\u001b[1;32m      5\u001b[0m       'we predict an admission probability of {:.3f}'.format(prob))\n",
      "\u001b[0;31mNameError\u001b[0m: name 'w' is not defined"
     ]
    }
   ],
   "source": [
    "#  Predict probability for a student with score 45 on exam 1 \n",
    "#  and score 85 on exam 2 \n",
    "prob = sigmoid(np.dot([1, 45, 85], w))\n",
    "print('For a student with scores 45 and 85,'\n",
    "      'we predict an admission probability of {:.3f}'.format(prob))\n",
    "print('Expected value: 0.775 +/- 0.002\\n')\n",
    "\n",
    "# Compute accuracy on our training set\n",
    "p = predict(w, X)\n",
    "print('Train Accuracy: {:.2f} %'.format(np.mean(p == y) * 100))\n",
    "print('Expected accuracy (approx): 89.00 %')"
   ]
  },
  {
   "cell_type": "markdown",
   "metadata": {},
   "source": [
    "##  Регуляризация\n",
    "\n",
    "В этой части мы реализуем алгоритм логистической регресии с регуляризацией на данных о качестве произведенных микрочипов.\n",
    "По результатам двух тестов мы хотим принять решение о дальнейшей судьбе изделия (брак или нет)."
   ]
  },
  {
   "cell_type": "code",
   "execution_count": 7,
   "metadata": {
    "ExecuteTime": {
     "end_time": "2022-08-16T17:38:25.074398Z",
     "start_time": "2022-08-16T17:38:24.751927Z"
    },
    "execution": {
     "iopub.execute_input": "2022-08-22T00:33:46.832323Z",
     "iopub.status.busy": "2022-08-22T00:33:46.831931Z",
     "iopub.status.idle": "2022-08-22T00:33:46.840172Z",
     "shell.execute_reply": "2022-08-22T00:33:46.838885Z",
     "shell.execute_reply.started": "2022-08-22T00:33:46.832282Z"
    }
   },
   "outputs": [],
   "source": [
    "# Load Data\n",
    "# The first two columns contains the X values and the third column\n",
    "# contains the label (y).\n",
    "data = np.loadtxt('ex2data2.txt', delimiter=',')\n",
    "X = data[:, :2]\n",
    "y = data[:, 2]"
   ]
  },
  {
   "cell_type": "markdown",
   "metadata": {},
   "source": [
    "### Визуализация"
   ]
  },
  {
   "cell_type": "code",
   "execution_count": 8,
   "metadata": {
    "ExecuteTime": {
     "end_time": "2022-08-16T17:38:39.769747Z",
     "start_time": "2022-08-16T17:38:39.284567Z"
    },
    "execution": {
     "iopub.execute_input": "2022-08-22T00:33:50.337787Z",
     "iopub.status.busy": "2022-08-22T00:33:50.337444Z",
     "iopub.status.idle": "2022-08-22T00:33:50.538386Z",
     "shell.execute_reply": "2022-08-22T00:33:50.537704Z",
     "shell.execute_reply.started": "2022-08-22T00:33:50.337758Z"
    }
   },
   "outputs": [
    {
     "data": {
      "text/plain": [
       "<matplotlib.legend.Legend at 0x7f88f4661af0>"
      ]
     },
     "execution_count": 8,
     "metadata": {},
     "output_type": "execute_result"
    },
    {
     "data": {
      "image/png": "[encoded data removed]",
      "text/plain": [
       "<Figure size 432x288 with 1 Axes>"
      ]
     },
     "metadata": {
      "needs_background": "light"
     },
     "output_type": "display_data"
    }
   ],
   "source": [
    "plot_data(X, y)\n",
    "# Labels and Legend\n",
    "plt.xlabel('Microchip Test 1')\n",
    "plt.ylabel('Microchip Test 2')\n",
    "\n",
    "# Specified in plot order\n",
    "plt.legend(['y = 1', 'y = 0'], loc='upper right')"
   ]
  },
  {
   "cell_type": "markdown",
   "metadata": {},
   "source": [
    "На графике видно, что провести линию будет недостаточно для решения этой задачи.\n",
    "\n",
    "### Нелинейные признаки\n",
    "\n",
    "Один из способов добавления нелинейности -- комбинации признаков. Для этого мы будем использовать метод `mapFeature`. Посчитаем комбинации до 6 степени.\n",
    "\n",
    "$$ \\text{mapFeature}(x) = \\begin{bmatrix} 1 & x_1 & x_2 & x_1^2 & x_1 x_2 & x_2^2 & x_1^3 & \\dots & x_1 x_2^5 & x_2^6 \\end{bmatrix}^T $$\n",
    "\n",
    "Такая степень позволит логистической регрессии посторить более сложную разделяющую поверхность, но у нас есть большие шансы переобучиться."
   ]
  },
  {
   "cell_type": "code",
   "execution_count": 9,
   "metadata": {
    "ExecuteTime": {
     "end_time": "2022-08-16T17:40:55.697053Z",
     "start_time": "2022-08-16T17:40:55.685084Z"
    },
    "execution": {
     "iopub.execute_input": "2022-08-22T00:33:54.473844Z",
     "iopub.status.busy": "2022-08-22T00:33:54.473481Z",
     "iopub.status.idle": "2022-08-22T00:33:54.860050Z",
     "shell.execute_reply": "2022-08-22T00:33:54.859054Z",
     "shell.execute_reply.started": "2022-08-22T00:33:54.473807Z"
    }
   },
   "outputs": [],
   "source": [
    "# Note that mapFeature also adds a column of ones for us, so the intercept\n",
    "# term is handled\n",
    "from sklearn.preprocessing import PolynomialFeatures\n",
    "\n",
    "poly = PolynomialFeatures(6)\n",
    "X = poly.fit_transform(X)"
   ]
  },
  {
   "cell_type": "markdown",
   "metadata": {},
   "source": [
    "### Функция потерь и градиент\n",
    "\n",
    "Now you will implement code to compute the cost function and gradient for regularized logistic regression. Complete the code for the function `costFunctionReg` below to return the cost and gradient.\n",
    "Далее необходимо реализовать метод `costFunctionReg` для логиистической регрессии с регуляризацией.\n",
    "\n",
    "Функция потерь будет выглядеть следующим образом:\n",
    "\n",
    "$$ L(w) = \\frac{1}{m} \\sum_{i=1}^m \\left[ -y^{(i)}\\log \\left( a_w \\left(x^{(i)} \\right) \\right) - \\left( 1 - y^{(i)} \\right) \\log \\left( 1 - a_w \\left( x^{(i)} \\right) \\right) \\right] + \\frac{\\lambda}{2m} \\sum_{j=1}^n w_j^2 $$\n",
    "\n",
    "Помним, что мы не накладываем ограничение на $w_0$. Градиент будет выглядеть так:\n",
    "Note that you should not regularize the parameters $\\theta_0$. The gradient of the cost function is a vector where the $j^{th}$ element is defined as follows:\n",
    "\n",
    "$$ \\frac{\\partial L(w)}{\\partial w_0} = \\frac{1}{m} \\sum_{i=1}^m \\left( a_w \\left(x^{(i)}\\right) - y^{(i)} \\right) x_j^{(i)} \\qquad \\text{for } j =0 $$\n",
    "\n",
    "$$ \\frac{\\partial L(w)}{\\partial w_j} = \\left( \\frac{1}{m} \\sum_{i=1}^m \\left( a_w \\left(x^{(i)}\\right) - y^{(i)} \\right) x_j^{(i)} \\right) + \\frac{\\lambda}{m}w_j \\qquad \\text{for } j \\ge 1 $$"
   ]
  },
  {
   "cell_type": "code",
   "execution_count": 10,
   "metadata": {
    "execution": {
     "iopub.execute_input": "2022-08-22T00:33:56.974609Z",
     "iopub.status.busy": "2022-08-22T00:33:56.974071Z",
     "iopub.status.idle": "2022-08-22T00:33:56.981932Z",
     "shell.execute_reply": "2022-08-22T00:33:56.980889Z",
     "shell.execute_reply.started": "2022-08-22T00:33:56.974567Z"
    }
   },
   "outputs": [],
   "source": [
    "def costFunctionReg(w, X, y, lambda_):\n",
    "    \"\"\"\n",
    "    Compute cost and gradient for logistic regression with regularization.\n",
    "    \n",
    "    Parameters\n",
    "    ----------\n",
    "    w : array_like\n",
    "        Logistic regression parameters. A vector with shape (n, ). n is \n",
    "        the number of features including any intercept. If we have mapped\n",
    "        our initial features into polynomial features, then n is the total \n",
    "        number of polynomial features. \n",
    "    \n",
    "    X : array_like\n",
    "        The data set with shape (m x n). m is the number of examples, and\n",
    "        n is the number of features (after feature mapping).\n",
    "    \n",
    "    y : array_like\n",
    "        The data labels. A vector with shape (m, ).\n",
    "    \n",
    "    lambda_ : float\n",
    "        The regularization parameter. \n",
    "    \n",
    "    Returns\n",
    "    -------\n",
    "    L : float\n",
    "        The computed value for the regularized cost function. \n",
    "    \n",
    "    grad : array_like\n",
    "        A vector of shape (n, ) which is the gradient of the cost\n",
    "        function with respect to w, at the current values of w.\n",
    "    \n",
    "    Instructions\n",
    "    ------------\n",
    "    Compute the cost `L` of a particular choice of w.\n",
    "    Compute the partial derivatives and set `grad` to the partial\n",
    "    derivatives of the cost w.r.t. each parameter in w.\n",
    "    \"\"\"\n",
    "    # Initialize some useful values\n",
    "    m = y.size  # number of training examples\n",
    "\n",
    "    # You need to return the following variables correctly \n",
    "    L = 0\n",
    "    grad = np.zeros(w.shape)\n",
    "    \n",
    "    a = sigmoid(X @ w)\n",
    "    term1 = np.log(a).T @ y\n",
    "    term2 = np.log(1. - a).T @ (1. - y)\n",
    "    \n",
    "    wss = np.sum(w[1:] ** 2)\n",
    "    reg_coef = lambda_ * wss / (2 * m)\n",
    "    \n",
    "    L = (1 / m) * (-term1 - term2) + reg_coef\n",
    "    \n",
    "    grad = (1 / m) * X.T @ (a - y) + (lambda_ / m) * np.concatenate((np.array([0]), w[1:]))\n",
    "    \n",
    "    return L, grad"
   ]
  },
  {
   "cell_type": "markdown",
   "metadata": {},
   "source": [
    "Once you are done with the `costFunctionReg`, we call it below using the initial value of $\\theta$ (initialized to all zeros), and also another test case where $\\theta$ is all ones."
   ]
  },
  {
   "cell_type": "code",
   "execution_count": 11,
   "metadata": {
    "ExecuteTime": {
     "end_time": "2022-08-15T18:08:10.455428Z",
     "start_time": "2022-08-15T18:08:10.431489Z"
    },
    "execution": {
     "iopub.execute_input": "2022-08-22T00:34:02.368411Z",
     "iopub.status.busy": "2022-08-22T00:34:02.367966Z",
     "iopub.status.idle": "2022-08-22T00:34:02.379675Z",
     "shell.execute_reply": "2022-08-22T00:34:02.378666Z",
     "shell.execute_reply.started": "2022-08-22T00:34:02.368372Z"
    }
   },
   "outputs": [
    {
     "name": "stdout",
     "output_type": "stream",
     "text": [
      "Cost at initial w (zeros): 0.693\n",
      "Expected cost (approx)       : 0.693\n",
      "\n",
      "Gradient at initial w (zeros) - first five values only:\n",
      "\t[0.0085, 0.0188, 0.0001, 0.0503, 0.0115]\n",
      "Expected gradients (approx) - first five values only:\n",
      "\t[0.0085, 0.0188, 0.0001, 0.0503, 0.0115]\n",
      "\n",
      "------------------------------\n",
      "\n",
      "Cost at test theta    : 3.16\n",
      "Expected cost (approx): 3.16\n",
      "\n",
      "Gradient at test theta - first five values only:\n",
      "\t[0.3460, 0.1614, 0.1948, 0.2269, 0.0922]\n",
      "Expected gradients (approx) - first five values only:\n",
      "\t[0.3460, 0.1614, 0.1948, 0.2269, 0.0922]\n"
     ]
    }
   ],
   "source": [
    "# Initialize fitting parameters\n",
    "initial_w = np.zeros(X.shape[1])\n",
    "\n",
    "# Set regularization parameter lambda to 1\n",
    "# DO NOT use `lambda` as a variable name in python\n",
    "# because it is a python keyword\n",
    "lambda_ = 1\n",
    "\n",
    "# Compute and display initial cost and gradient for regularized logistic\n",
    "# regression\n",
    "cost, grad = costFunctionReg(initial_w, X, y, lambda_)\n",
    "\n",
    "print('Cost at initial w (zeros): {:.3f}'.format(cost))\n",
    "print('Expected cost (approx)       : 0.693\\n')\n",
    "\n",
    "print('Gradient at initial w (zeros) - first five values only:')\n",
    "print('\\t[{:.4f}, {:.4f}, {:.4f}, {:.4f}, {:.4f}]'.format(*grad[:5]))\n",
    "print('Expected gradients (approx) - first five values only:')\n",
    "print('\\t[0.0085, 0.0188, 0.0001, 0.0503, 0.0115]\\n')\n",
    "\n",
    "\n",
    "# Compute and display cost and gradient\n",
    "# with all-ones theta and lambda = 10\n",
    "test_w = np.ones(X.shape[1])\n",
    "cost, grad = costFunctionReg(test_w, X, y, 10)\n",
    "\n",
    "print('------------------------------\\n')\n",
    "print('Cost at test theta    : {:.2f}'.format(cost))\n",
    "print('Expected cost (approx): 3.16\\n')\n",
    "\n",
    "print('Gradient at test theta - first five values only:')\n",
    "print('\\t[{:.4f}, {:.4f}, {:.4f}, {:.4f}, {:.4f}]'.format(*grad[:5]))\n",
    "print('Expected gradients (approx) - first five values only:')\n",
    "print('\\t[0.3460, 0.1614, 0.1948, 0.2269, 0.0922]')"
   ]
  },
  {
   "cell_type": "markdown",
   "metadata": {},
   "source": [
    "###  `scipy.optimize.minimize`\n",
    "\n",
    "Аналогично можно использовать `optimize.minimize` для поиска $w$."
   ]
  },
  {
   "cell_type": "markdown",
   "metadata": {},
   "source": [
    "### Пример\n",
    "\n",
    "In this part of the exercise, you will get to try out different regularization parameters for the dataset to understand how regularization prevents overfitting.\n",
    "\n",
    "Notice the changes in the decision boundary as you vary $\\lambda$. With a small\n",
    "$\\lambda$, you should find that the classifier gets almost every training example correct, but draws a very complicated boundary, thus overfitting the data. See the following figures for the decision boundaries you should get for different values of $\\lambda$. \n",
    "\n",
    "<table>\n",
    "    <tr>\n",
    "        <td style=\"text-align:center\">\n",
    "            No regularization (overfitting)<img src=\"Figures/decision_boundary3.png\">\n",
    "        </td>        \n",
    "        <td style=\"text-align:center\">\n",
    "            Decision boundary with regularization\n",
    "            <img src=\"Figures/decision_boundary2.png\">\n",
    "        </td>\n",
    "        <td style=\"text-align:center\">\n",
    "            Decision boundary with too much regularization\n",
    "            <img src=\"Figures/decision_boundary4.png\">\n",
    "        </td>        \n",
    "    <tr>\n",
    "</table>\n",
    "\n",
    "This is not a good decision boundary: for example, it predicts that a point at $x = (−0.25, 1.5)$ is accepted $(y = 1)$, which seems to be an incorrect decision given the training set.\n",
    "With a larger $\\lambda$, you should see a plot that shows an simpler decision boundary which still separates the positives and negatives fairly well. However, if $\\lambda$ is set to too high a value, you will not get a good fit and the decision boundary will not follow the data so well, thus underfitting the data."
   ]
  },
  {
   "cell_type": "code",
   "execution_count": 38,
   "metadata": {
    "execution": {
     "iopub.execute_input": "2022-08-22T00:59:36.477324Z",
     "iopub.status.busy": "2022-08-22T00:59:36.477008Z",
     "iopub.status.idle": "2022-08-22T00:59:36.483614Z",
     "shell.execute_reply": "2022-08-22T00:59:36.482364Z",
     "shell.execute_reply.started": "2022-08-22T00:59:36.477300Z"
    },
    "tags": []
   },
   "outputs": [],
   "source": [
    "def SGD(cost_function, \n",
    "        w:np.ndarray, \n",
    "        train_data:tuple, \n",
    "        maxiter:int=100, \n",
    "        batch_size:int=32,\n",
    "        lambda_:float=1., \n",
    "        lr:float=0.1):\n",
    "    x, y = train_data\n",
    "    batched_data = [(x[i*batch_size:(i+1)*batch_size], y[i*batch_size: (i+1)*batch_size],) \\\n",
    "                    for i in range(len(x) // batch_size)]\n",
    "    \n",
    "    for epoch in range(maxiter):\n",
    "        for x_sample, y_sample in batched_data:\n",
    "            L, grads = cost_function(w, x_sample, y_sample, lambda_)\n",
    "            \n",
    "            w = w - grads * lr\n",
    "    return L, w"
   ]
  },
  {
   "cell_type": "markdown",
   "metadata": {},
   "source": [
    "# sklearn "
   ]
  },
  {
   "cell_type": "code",
   "execution_count": 39,
   "metadata": {
    "ExecuteTime": {
     "end_time": "2022-08-16T17:47:08.074152Z",
     "start_time": "2022-08-16T17:47:08.055175Z"
    },
    "execution": {
     "iopub.execute_input": "2022-08-22T00:59:37.105594Z",
     "iopub.status.busy": "2022-08-22T00:59:37.105243Z",
     "iopub.status.idle": "2022-08-22T00:59:37.110652Z",
     "shell.execute_reply": "2022-08-22T00:59:37.109303Z",
     "shell.execute_reply.started": "2022-08-22T00:59:37.105565Z"
    },
    "tags": []
   },
   "outputs": [],
   "source": [
    "from sklearn.model_selection import train_test_split\n",
    "from sklearn.model_selection import StratifiedKFold\n",
    "from sklearn.metrics import accuracy_score\n",
    "from sklearn.linear_model import LogisticRegression"
   ]
  },
  {
   "cell_type": "markdown",
   "metadata": {},
   "source": [
    "# Stratified k fold"
   ]
  },
  {
   "cell_type": "code",
   "execution_count": 35,
   "metadata": {
    "execution": {
     "iopub.execute_input": "2022-08-22T00:54:38.619362Z",
     "iopub.status.busy": "2022-08-22T00:54:38.619059Z",
     "iopub.status.idle": "2022-08-22T00:54:38.623014Z",
     "shell.execute_reply": "2022-08-22T00:54:38.621902Z",
     "shell.execute_reply.started": "2022-08-22T00:54:38.619337Z"
    },
    "tags": []
   },
   "outputs": [],
   "source": [
    "skf = StratifiedKFold(n_splits=3, shuffle=True)"
   ]
  },
  {
   "cell_type": "markdown",
   "metadata": {
    "tags": []
   },
   "source": [
    "# Fitting"
   ]
  },
  {
   "cell_type": "markdown",
   "metadata": {},
   "source": [
    "## Lamda = 0"
   ]
  },
  {
   "cell_type": "code",
   "execution_count": 78,
   "metadata": {
    "execution": {
     "iopub.execute_input": "2022-08-22T12:09:33.332869Z",
     "iopub.status.busy": "2022-08-22T12:09:33.332596Z",
     "iopub.status.idle": "2022-08-22T12:09:34.115084Z",
     "shell.execute_reply": "2022-08-22T12:09:34.114453Z",
     "shell.execute_reply.started": "2022-08-22T12:09:33.332846Z"
    },
    "tags": []
   },
   "outputs": [
    {
     "name": "stdout",
     "output_type": "stream",
     "text": [
      "Train Accuracy: 59.0 %\n",
      "Test Accuracy: 60.0 %\n",
      "Train Accuracy: 63.3 %\n",
      "Test Accuracy: 56.4 %\n",
      "Train Accuracy: 58.2 %\n",
      "Test Accuracy: 59.0 %\n"
     ]
    },
    {
     "data": {
      "image/png": "[encoded data removed]",
      "text/plain": [
       "<Figure size 432x288 with 1 Axes>"
      ]
     },
     "metadata": {
      "needs_background": "light"
     },
     "output_type": "display_data"
    },
    {
     "data": {
      "image/png": "[encoded data removed]",
      "text/plain": [
       "<Figure size 432x288 with 1 Axes>"
      ]
     },
     "metadata": {
      "needs_background": "light"
     },
     "output_type": "display_data"
    },
    {
     "data": {
      "image/png": "[encoded data removed]",
      "text/plain": [
       "<Figure size 432x288 with 1 Axes>"
      ]
     },
     "metadata": {
      "needs_background": "light"
     },
     "output_type": "display_data"
    }
   ],
   "source": [
    "train_accuracies = []\n",
    "test_accuracies = []\n",
    "\n",
    "for train_index, test_index in skf.split(X, y):\n",
    "    x_train, y_train = X[train_index], y[train_index]\n",
    "    x_test, y_test = X[test_index], y[test_index]\n",
    "    initial_w = np.zeros(X.shape[1])\n",
    "    L, w = SGD(costFunctionReg, initial_w, (x_train, y_train), batch_size=50,lr=0.45, lambda_=0, maxiter=50)\n",
    "\n",
    "    plotDecisionBoundary(plot_data, w, x_train, y_train)\n",
    "    plt.xlabel('Microchip Test 1')\n",
    "    plt.ylabel('Microchip Test 2')\n",
    "    plt.legend(['y = 1', 'y = 0'])\n",
    "    plt.grid(False)\n",
    "    plt.title('lambda = %0.2f' % lambda_)\n",
    "\n",
    "    # Compute accuracy on our train set\n",
    "    p_train = predict(w, x_train)\n",
    "    \n",
    "    # Compute accuracy on our test set\n",
    "    p_test = predict(w, x_test)\n",
    "    \n",
    "    train_acc = (np.mean(p_train == y_train)) * 100\n",
    "    test_acc = (np.mean(p_test == y_test)) * 100\n",
    "    train_accuracies.append(train_acc)\n",
    "    test_accuracies.append(test_acc)\n",
    "\n",
    "    print('Train Accuracy: %.1f %%' % (train_acc))\n",
    "    print('Test Accuracy: %.1f %%' % (test_acc))"
   ]
  },
  {
   "cell_type": "code",
   "execution_count": 79,
   "metadata": {
    "execution": {
     "iopub.execute_input": "2022-08-22T12:09:34.116825Z",
     "iopub.status.busy": "2022-08-22T12:09:34.116561Z",
     "iopub.status.idle": "2022-08-22T12:09:34.120407Z",
     "shell.execute_reply": "2022-08-22T12:09:34.119701Z",
     "shell.execute_reply.started": "2022-08-22T12:09:34.116802Z"
    },
    "tags": []
   },
   "outputs": [
    {
     "name": "stdout",
     "output_type": "stream",
     "text": [
      "Mean train accuracy with lambda 5: 60.2 %\n",
      "Mean test accuracy with lambda 5: 58.5 %\n"
     ]
    }
   ],
   "source": [
    "print(f'Mean train accuracy with lambda 5: %.1f %%' % np.mean(train_accuracies))\n",
    "print(f'Mean test accuracy with lambda 5: %.1f %%' % np.mean(test_accuracies))"
   ]
  },
  {
   "cell_type": "markdown",
   "metadata": {},
   "source": [
    "## Lambda = 1"
   ]
  },
  {
   "cell_type": "code",
   "execution_count": 80,
   "metadata": {
    "execution": {
     "iopub.execute_input": "2022-08-22T12:09:34.707847Z",
     "iopub.status.busy": "2022-08-22T12:09:34.707509Z",
     "iopub.status.idle": "2022-08-22T12:09:35.530423Z",
     "shell.execute_reply": "2022-08-22T12:09:35.529716Z",
     "shell.execute_reply.started": "2022-08-22T12:09:34.707818Z"
    },
    "tags": []
   },
   "outputs": [
    {
     "name": "stdout",
     "output_type": "stream",
     "text": [
      "Train Accuracy: 57.7 %\n",
      "Test Accuracy: 60.0 %\n",
      "Train Accuracy: 60.8 %\n",
      "Test Accuracy: 59.0 %\n",
      "Train Accuracy: 60.8 %\n",
      "Test Accuracy: 59.0 %\n"
     ]
    },
    {
     "data": {
      "image/png": "[encoded data removed]",
      "text/plain": [
       "<Figure size 432x288 with 1 Axes>"
      ]
     },
     "metadata": {
      "needs_background": "light"
     },
     "output_type": "display_data"
    },
    {
     "data": {
      "image/png": "[encoded data removed]",
      "text/plain": [
       "<Figure size 432x288 with 1 Axes>"
      ]
     },
     "metadata": {
      "needs_background": "light"
     },
     "output_type": "display_data"
    },
    {
     "data": {
      "image/png": "[encoded data removed]",
      "text/plain": [
       "<Figure size 432x288 with 1 Axes>"
      ]
     },
     "metadata": {
      "needs_background": "light"
     },
     "output_type": "display_data"
    }
   ],
   "source": [
    "train_accuracies = []\n",
    "test_accuracies = []\n",
    "\n",
    "for train_index, test_index in skf.split(X, y):\n",
    "    x_train, y_train = X[train_index], y[train_index]\n",
    "    x_test, y_test = X[test_index], y[test_index]\n",
    "    initial_w = np.zeros(X.shape[1])\n",
    "    L, w = SGD(costFunctionReg, initial_w, (x_train, y_train), batch_size=50,lr=0.45, lambda_=1, maxiter=50)\n",
    "\n",
    "    plotDecisionBoundary(plot_data, w, x_train, y_train)\n",
    "    plt.xlabel('Microchip Test 1')\n",
    "    plt.ylabel('Microchip Test 2')\n",
    "    plt.legend(['y = 1', 'y = 0'])\n",
    "    plt.grid(False)\n",
    "    plt.title('lambda = %0.2f' % lambda_)\n",
    "\n",
    "    # Compute accuracy on our train set\n",
    "    p_train = predict(w, x_train)\n",
    "    \n",
    "    # Compute accuracy on our test set\n",
    "    p_test = predict(w, x_test)\n",
    "    \n",
    "    train_acc = (np.mean(p_train == y_train)) * 100\n",
    "    test_acc = (np.mean(p_test == y_test)) * 100\n",
    "    train_accuracies.append(train_acc)\n",
    "    test_accuracies.append(test_acc)\n",
    "\n",
    "    print('Train Accuracy: %.1f %%' % (train_acc))\n",
    "    print('Test Accuracy: %.1f %%' % (test_acc))"
   ]
  },
  {
   "cell_type": "code",
   "execution_count": 81,
   "metadata": {
    "execution": {
     "iopub.execute_input": "2022-08-22T12:09:35.532293Z",
     "iopub.status.busy": "2022-08-22T12:09:35.531862Z",
     "iopub.status.idle": "2022-08-22T12:09:35.535689Z",
     "shell.execute_reply": "2022-08-22T12:09:35.534908Z",
     "shell.execute_reply.started": "2022-08-22T12:09:35.532267Z"
    },
    "tags": []
   },
   "outputs": [
    {
     "name": "stdout",
     "output_type": "stream",
     "text": [
      "Mean train accuracy with lambda 5: 59.7 %\n",
      "Mean test accuracy with lambda 5: 59.3 %\n"
     ]
    }
   ],
   "source": [
    "print(f'Mean train accuracy with lambda 5: %.1f %%' % np.mean(train_accuracies))\n",
    "print(f'Mean test accuracy with lambda 5: %.1f %%' % np.mean(test_accuracies))"
   ]
  },
  {
   "cell_type": "markdown",
   "metadata": {},
   "source": [
    "## Lambda = 5"
   ]
  },
  {
   "cell_type": "code",
   "execution_count": 82,
   "metadata": {
    "execution": {
     "iopub.execute_input": "2022-08-22T12:09:35.778343Z",
     "iopub.status.busy": "2022-08-22T12:09:35.778023Z",
     "iopub.status.idle": "2022-08-22T12:09:36.618957Z",
     "shell.execute_reply": "2022-08-22T12:09:36.618247Z",
     "shell.execute_reply.started": "2022-08-22T12:09:35.778317Z"
    },
    "tags": []
   },
   "outputs": [
    {
     "name": "stdout",
     "output_type": "stream",
     "text": [
      "Train Accuracy: 57.7 %\n",
      "Test Accuracy: 55.0 %\n",
      "Train Accuracy: 49.4 %\n",
      "Test Accuracy: 51.3 %\n",
      "Train Accuracy: 54.4 %\n",
      "Test Accuracy: 51.3 %\n"
     ]
    },
    {
     "data": {
      "image/png": "[encoded data removed]",
      "text/plain": [
       "<Figure size 432x288 with 1 Axes>"
      ]
     },
     "metadata": {
      "needs_background": "light"
     },
     "output_type": "display_data"
    },
    {
     "data": {
      "image/png": "[encoded data removed]",
      "text/plain": [
       "<Figure size 432x288 with 1 Axes>"
      ]
     },
     "metadata": {
      "needs_background": "light"
     },
     "output_type": "display_data"
    },
    {
     "data": {
      "image/png": "[encoded data removed]",
      "text/plain": [
       "<Figure size 432x288 with 1 Axes>"
      ]
     },
     "metadata": {
      "needs_background": "light"
     },
     "output_type": "display_data"
    }
   ],
   "source": [
    "train_accuracies = []\n",
    "test_accuracies = []\n",
    "\n",
    "for train_index, test_index in skf.split(X, y):\n",
    "    x_train, y_train = X[train_index], y[train_index]\n",
    "    x_test, y_test = X[test_index], y[test_index]\n",
    "    initial_w = np.zeros(X.shape[1])\n",
    "    L, w = SGD(costFunctionReg, initial_w, (x_train, y_train), batch_size=50,lr=0.45, lambda_=5, maxiter=50)\n",
    "\n",
    "    plotDecisionBoundary(plot_data, w, x_train, y_train)\n",
    "    plt.xlabel('Microchip Test 1')\n",
    "    plt.ylabel('Microchip Test 2')\n",
    "    plt.legend(['y = 1', 'y = 0'])\n",
    "    plt.grid(False)\n",
    "    plt.title('lambda = %0.2f' % lambda_)\n",
    "\n",
    "    # Compute accuracy on our train set\n",
    "    p_train = predict(w, x_train)\n",
    "    \n",
    "    # Compute accuracy on our test set\n",
    "    p_test = predict(w, x_test)\n",
    "    \n",
    "    train_acc = (np.mean(p_train == y_train)) * 100\n",
    "    test_acc = (np.mean(p_test == y_test)) * 100\n",
    "    train_accuracies.append(train_acc)\n",
    "    test_accuracies.append(test_acc)\n",
    "\n",
    "    print('Train Accuracy: %.1f %%' % (train_acc))\n",
    "    print('Test Accuracy: %.1f %%' % (test_acc))"
   ]
  },
  {
   "cell_type": "code",
   "execution_count": 83,
   "metadata": {
    "execution": {
     "iopub.execute_input": "2022-08-22T12:09:36.620860Z",
     "iopub.status.busy": "2022-08-22T12:09:36.620589Z",
     "iopub.status.idle": "2022-08-22T12:09:36.624133Z",
     "shell.execute_reply": "2022-08-22T12:09:36.623517Z",
     "shell.execute_reply.started": "2022-08-22T12:09:36.620834Z"
    },
    "tags": []
   },
   "outputs": [
    {
     "name": "stdout",
     "output_type": "stream",
     "text": [
      "Mean train accuracy with lambda 5: 53.8 %\n",
      "Mean test accuracy with lambda 5: 52.5 %\n"
     ]
    }
   ],
   "source": [
    "print(f'Mean train accuracy with lambda 5: %.1f %%' % np.mean(train_accuracies))\n",
    "print(f'Mean test accuracy with lambda 5: %.1f %%' % np.mean(test_accuracies))"
   ]
  },
  {
   "cell_type": "markdown",
   "metadata": {},
   "source": [
    "## Fitting LogReg"
   ]
  },
  {
   "cell_type": "code",
   "execution_count": 84,
   "metadata": {
    "execution": {
     "iopub.execute_input": "2022-08-22T12:09:36.790315Z",
     "iopub.status.busy": "2022-08-22T12:09:36.790015Z",
     "iopub.status.idle": "2022-08-22T12:09:36.793508Z",
     "shell.execute_reply": "2022-08-22T12:09:36.792723Z",
     "shell.execute_reply.started": "2022-08-22T12:09:36.790289Z"
    },
    "tags": []
   },
   "outputs": [],
   "source": [
    "from sklearn.linear_model import LogisticRegression"
   ]
  },
  {
   "cell_type": "code",
   "execution_count": 85,
   "metadata": {
    "execution": {
     "iopub.execute_input": "2022-08-22T12:09:37.204675Z",
     "iopub.status.busy": "2022-08-22T12:09:37.204324Z",
     "iopub.status.idle": "2022-08-22T12:09:38.010302Z",
     "shell.execute_reply": "2022-08-22T12:09:38.009715Z",
     "shell.execute_reply.started": "2022-08-22T12:09:37.204646Z"
    },
    "tags": []
   },
   "outputs": [
    {
     "name": "stdout",
     "output_type": "stream",
     "text": [
      "Train Accuracy: 57.7 %\n",
      "Test Accuracy: 60.0 %\n",
      "Train Accuracy: 50.6 %\n",
      "Test Accuracy: 53.8 %\n",
      "Train Accuracy: 51.9 %\n",
      "Test Accuracy: 56.4 %\n"
     ]
    },
    {
     "data": {
      "image/png": "[encoded data removed]",
      "text/plain": [
       "<Figure size 432x288 with 1 Axes>"
      ]
     },
     "metadata": {
      "needs_background": "light"
     },
     "output_type": "display_data"
    },
    {
     "data": {
      "image/png": "[encoded data removed]",
      "text/plain": [
       "<Figure size 432x288 with 1 Axes>"
      ]
     },
     "metadata": {
      "needs_background": "light"
     },
     "output_type": "display_data"
    },
    {
     "data": {
      "image/png": "[encoded data removed]",
      "text/plain": [
       "<Figure size 432x288 with 1 Axes>"
      ]
     },
     "metadata": {
      "needs_background": "light"
     },
     "output_type": "display_data"
    }
   ],
   "source": [
    "train_accuracies = []\n",
    "test_accuracies = []\n",
    "\n",
    "for train_index, test_index in skf.split(X, y):\n",
    "    x_train, y_train = X[train_index], y[train_index]\n",
    "    x_test, y_test = X[test_index], y[test_index]\n",
    "    \n",
    "    model = LogisticRegression().fit(x_train, y_train)\n",
    "    w = model.coef_.reshape(-1)\n",
    "\n",
    "    plotDecisionBoundary(plot_data, w, x_train, y_train)\n",
    "    plt.xlabel('Microchip Test 1')\n",
    "    plt.ylabel('Microchip Test 2')\n",
    "    plt.legend(['y = 1', 'y = 0'])\n",
    "    plt.grid(False)\n",
    "\n",
    "\n",
    "    # Compute accuracy on our training set\n",
    "    p_train = predict(w, x_train)\n",
    "    \n",
    "    # Compute accuracy on our test set\n",
    "    p_test = predict(w, x_test)\n",
    "    \n",
    "    train_acc = (np.mean(p_train == y_train)) * 100\n",
    "    test_acc = (np.mean(p_test == y_test)) * 100\n",
    "    train_accuracies.append(train_acc)\n",
    "    test_accuracies.append(test_acc)\n",
    "\n",
    "    print('Train Accuracy: %.1f %%' % (train_acc))\n",
    "    print('Test Accuracy: %.1f %%' % (test_acc))"
   ]
  },
  {
   "cell_type": "code",
   "execution_count": 86,
   "metadata": {
    "execution": {
     "iopub.execute_input": "2022-08-22T12:09:38.012000Z",
     "iopub.status.busy": "2022-08-22T12:09:38.011774Z",
     "iopub.status.idle": "2022-08-22T12:09:38.015653Z",
     "shell.execute_reply": "2022-08-22T12:09:38.014857Z",
     "shell.execute_reply.started": "2022-08-22T12:09:38.011979Z"
    },
    "tags": []
   },
   "outputs": [
    {
     "name": "stdout",
     "output_type": "stream",
     "text": [
      "Mean train accuracy: 53.4 %\n",
      "Mean test accuracy: 56.8 %\n"
     ]
    }
   ],
   "source": [
    "print(f'Mean train accuracy: %.1f %%' % np.mean(train_accuracies))\n",
    "print(f'Mean test accuracy: %.1f %%' % np.mean(test_accuracies))"
   ]
  }
 ],
 "metadata": {
  "kernelspec": {
   "display_name": "Python 3",
   "language": "python",
   "name": "python3"
  },
  "language_info": {
   "codemirror_mode": {
    "name": "ipython",
    "version": 3
   },
   "file_extension": ".py",
   "mimetype": "text/x-python",
   "name": "python",
   "nbconvert_exporter": "python",
   "pygments_lexer": "ipython3",
   "version": "3.8.5"
  },
  "latex_envs": {
   "LaTeX_envs_menu_present": true,
   "autoclose": false,
   "autocomplete": true,
   "bibliofile": "biblio.bib",
   "cite_by": "apalike",
   "current_citInitial": 1,
   "eqLabelWithNumbers": true,
   "eqNumInitial": 1,
   "hotkeys": {
    "equation": "Ctrl-E",
    "itemize": "Ctrl-I"
   },
   "labels_anchors": false,
   "latex_user_defs": false,
   "report_style_numbering": false,
   "user_envs_cfg": false
  },
  "toc": {
   "base_numbering": 1,
   "nav_menu": {},
   "number_sections": true,
   "sideBar": true,
   "skip_h1_title": false,
   "title_cell": "Table of Contents",
   "title_sidebar": "Contents",
   "toc_cell": false,
   "toc_position": {
    "height": "calc(100% - 180px)",
    "left": "10px",
    "top": "150px",
    "width": "384px"
   },
   "toc_section_display": true,
   "toc_window_display": true
  },
  "toc-autonumbering": true
 },
 "nbformat": 4,
 "nbformat_minor": 4
}
